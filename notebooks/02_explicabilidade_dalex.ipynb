{
 "cells": [
  {
   "cell_type": "markdown",
   "id": "667ba19b",
   "metadata": {},
   "source": [
    "# 🧠 Explicabilidade com `dalex` — Breast Cancer Wisconsin (Diagnostic)\n",
    "\n",
    "Neste notebook mostramos **como o modelo escolhido (LR_L2 com MoreStable12)** toma decisões, usando a biblioteca **[`dalex`](https://dalex.drwhy.ai/)**. A ideia é complementar métricas globais (AUC, AP, Recall) com **explicações globais e locais**, para apoiar auditoria técnica e comunicação com stakeholders não técnicos.\n",
    "\n",
    "**O que é o `dalex`?**\n",
    "`dalex` é um toolkit de **explicabilidade de modelos**. Ele cria um objeto `Explainer` (modelo + dados + função de previsão + rótulos) e oferece análises como:\n",
    "\n",
    "* **Importância de variáveis** (*permutation importance*);\n",
    "* **Perfis de resposta**: **PDP** (Partial Dependence) e **ALE** (Accumulated Local Effects);\n",
    "* **Explicações locais**: *breakdown* e **SHAP-like**;\n",
    "* Diagnósticos (*model performance*) e auditorias (viés, estabilidade, etc.).\n",
    "\n",
    "> Nota: nosso foco aqui é **interpretar** o comportamento do LR_L2 treinado com **MoreStable12**. Os números de performance continuam no notebook de treinamento.\n"
   ]
  },
  {
   "cell_type": "markdown",
   "id": "a08c0fdf",
   "metadata": {},
   "source": [
    "## 🎯 Objetivos do notebook\n",
    "\n",
    "1. Construir um `Explainer` do `dalex` para o **pipeline final** (LR_L2).\n",
    "2. Avaliar **importância de variáveis** e **perfis globais** (PDP/ALE) das 12 features.\n",
    "3. Gerar **explicações locais** para indivíduos (ex.: casos malignos/limítrofes).\n",
    "4. Documentar **cautelas** e **boas práticas** ao interpretar esses gráficos."
   ]
  },
  {
   "cell_type": "markdown",
   "id": "e0233d08",
   "metadata": {},
   "source": [
    "## Imports\n",
    "\n",
    "Esta célula realiza as importações necessárias de bibliotecas Python.\n",
    "\n",
    "**Biblioteca Dalex** -  **`dalex` (`dx`)**: Para criar explicadores de modelos e realizar análises de interpretabilidade (como importância de variáveis, perfis de dependência parcial e explicações de previsões individuais)."
   ]
  },
  {
   "cell_type": "code",
   "execution_count": 1,
   "id": "a99b8bca",
   "metadata": {},
   "outputs": [],
   "source": [
    "# Imports\n",
    "import numpy as np\n",
    "import pandas as pd\n",
    "import os\n",
    "from pathlib import Path\n",
    "import plotly.io as pio\n",
    "from IPython.display import display, Image, HTML\n",
    "import joblib\n",
    "import json\n",
    "import dalex as dx\n",
    "from sklearn.model_selection import train_test_split"
   ]
  },
  {
   "cell_type": "markdown",
   "id": "6604dd24",
   "metadata": {},
   "source": [
    "## 📦 Preparação: artefatos, dados e reprodutibilidade\n",
    "\n",
    "Nesta seção, carregamos:\n",
    "\n",
    "* o **pipeline** salvo (`dash_app/models/lr_l2_morestable12.joblib`);\n",
    "* a lista de **features** na ordem esperada;\n",
    "* o conjunto de **teste** (ou amostra do conjunto original) para explicabilidade;\n",
    "* e fixamos a **semente** para reprodutibilidade dos gráficos.\n",
    "\n",
    "> O `dalex` precisa de uma função de previsão que retorne **probabilidades** da classe positiva (Maligno). Usaremos `pipe.predict_proba(X)[:, 1]`.\n"
   ]
  },
  {
   "cell_type": "markdown",
   "id": "115cb163",
   "metadata": {},
   "source": [
    "## Carregamento de Artefatos e Dados\n",
    "\n",
    "Esta célula é responsável por carregar os artefatos necessários para a análise e execução do modelo treinado, garantindo a reprodutibilidade e independência de caminhos absolutos.\n",
    "\n",
    "### Passos Realizados:\n",
    "\n",
    "1.  **Definição da Raiz do Projeto (`ROOT`)**:\n",
    "    *   A função `add_project_root` é utilizada para encontrar automaticamente o diretório raiz do projeto, buscando por uma pasta marcadora (por padrão, `src`) até três níveis acima do diretório atual. Isso adiciona o `ROOT` ao `sys.path`, facilitando importações relativas.\n",
    "2.  **Localização dos Artefatos**:\n",
    "    *   O caminho para o diretório `models` é definido como `{ROOT}/dash_app/models`.\n",
    "    *   O código verifica se este diretório existe, lançando um erro caso não seja encontrado.\n",
    "3.  **Carregamento do Modelo (`pipeline`)**:\n",
    "    *   O modelo treinado, salvo anteriormente como `lr_l2_morestable12.joblib`, é carregado usando `joblib.load`. Este arquivo contém todo o pipeline de pré-processamento e o classificador.\n",
    "4.  **Carregamento de Metadados**:\n",
    "    *   **Ordem das Features (`FEATURE_ORDER`)**: A lista com as 12 features utilizadas pelo modelo é carregada a partir de `feature_order_more_stable_12.json`.\n",
    "    *   **Ranges das Variáveis (`VARIABLES_RANGE`)**: Os valores mínimos e máximos de cada feature são carregados de `variables_range_more_stable_12.json`. Esses ranges são úteis para simulações e validações.\n",
    "5.  **Carregamento dos Dados do Dataset**:\n",
    "    *   O caminho para o arquivo de dados `wdbc.csv` é definido como `{ROOT}/data/wdbc.csv`.\n",
    "    *   Se o arquivo não existir, o código tenta gerá-lo utilizando uma função específica do projeto (`build_wdbc`). Caso isso falhe, ele recorre ao carregamento direto do dataset `Breast Cancer Wisconsin (Diagnostic)` do `sklearn`, adaptando-o ao formato necessário e salvando como `wdbc.csv`.\n",
    "    *   Uma vez garantida a existência do arquivo, ele é carregado para um DataFrame (`df`).\n",
    "6.  **Preparação dos Dados**:\n",
    "    *   O DataFrame é dividido em `X_full` (features) e `y_full` (rótulos binários: 1 para Maligno, 0 para Benigno).\n",
    "    *   São selecionadas apenas as features relevantes para o modelo (`X_subset`) e seus respectivos rótulos (`y_subset`).\n",
    "    *   Os dados são divididos em conjuntos de treino (`X_train`, `y_train`) e teste (`X_test`, `y_test`) para permitir análises e validações subsequentes.\n",
    "\n",
    "Este processo centraliza o carregamento de todas as dependências necessárias, assegurando que o ambiente esteja corretamente configurado para as análises seguintes."
   ]
  },
  {
   "cell_type": "code",
   "execution_count": 2,
   "id": "dccac0a2",
   "metadata": {},
   "outputs": [
    {
     "name": "stdout",
     "output_type": "stream",
     "text": [
      "Ordem das features carregada: ['worst_concavity', 'worst_area', 'worst_texture', 'worst_smoothness', 'mean_concave_points', 'area_error', 'mean_compactness', 'compactness_error', 'symmetry_error', 'worst_symmetry', 'texture_error', 'concave_points_error']\n",
      "Ranges das variáveis carregados.\n",
      "Dados de exemplo carregados: 455 amostras de treino, 114 amostras de teste.\n",
      "Features usadas pelo modelo: 12\n"
     ]
    }
   ],
   "source": [
    "# Carregar artefatos exportados (com suporte a ROOT)\n",
    "import sys\n",
    "from pathlib import Path\n",
    "\n",
    "# --- Definir/Obter ROOT do projeto ---\n",
    "def add_project_root(max_up=3, marker='src'):\n",
    "    p = Path().resolve()\n",
    "    for _ in range(max_up + 1):\n",
    "        if (p / marker).exists():\n",
    "            sys.path.insert(0, str(p))\n",
    "            return p\n",
    "        p = p.parent\n",
    "    raise RuntimeError(f\"Não encontrei a pasta '{marker}' nos níveis acima.\")\n",
    "\n",
    "ROOT = add_project_root()\n",
    "\n",
    "# --- Definir caminho para os modelos em relação ao ROOT ---\n",
    "models_dir = ROOT / \"dash_app\" / \"models\"\n",
    "\n",
    "# --- Verificar se o diretório existe ---\n",
    "if not models_dir.exists():\n",
    "    raise FileNotFoundError(f\"O diretório de modelos '{models_dir}' não foi encontrado. Verifique a estrutura do projeto e o valor de ROOT.\")\n",
    "\n",
    "# --- Carregar o modelo treinado ---\n",
    "model_path = models_dir / \"lr_l2_morestable12.joblib\"\n",
    "try:\n",
    "    pipeline = joblib.load(model_path)\n",
    "except FileNotFoundError:\n",
    "    print(f\"Erro: Arquivo do modelo não encontrado em {model_path}. Verifique o caminho.\")\n",
    "    # Interrompe a execução se o modelo não for encontrado\n",
    "    raise SystemExit \n",
    "\n",
    "# --- Carregar a ordem das features ---\n",
    "features_path = models_dir / \"feature_order_more_stable_12.json\"\n",
    "try:\n",
    "    with open(features_path, 'r') as f:\n",
    "        FEATURE_ORDER = json.load(f)\n",
    "    print(f\"Ordem das features carregada: {FEATURE_ORDER}\")\n",
    "except FileNotFoundError:\n",
    "    print(f\"Erro: Arquivo de ordem das features não encontrado em {features_path}.\")\n",
    "    raise SystemExit\n",
    "\n",
    "# --- Carregar os ranges das variáveis ---\n",
    "ranges_path = models_dir / \"variables_range_more_stable_12.json\"\n",
    "try:\n",
    "    with open(ranges_path, 'r') as f:\n",
    "        VARIABLES_RANGE = json.load(f)\n",
    "    print(\"Ranges das variáveis carregados.\")\n",
    "except FileNotFoundError:\n",
    "    print(f\"Erro: Arquivo de ranges das variáveis não encontrado em {ranges_path}.\")\n",
    "    raise SystemExit\n",
    "\n",
    "# --- Carregar dados reais para contexto (opcional, mas útil) ---\n",
    "# Importa a função diretamente\n",
    "from src.data.make_wdbc_dataset import build_wdbc\n",
    "\n",
    "# Define o caminho para o arquivo de dados\n",
    "DATA_PATH = ROOT / \"data\" / \"wdbc.csv\"\n",
    "\n",
    "# Garante que o diretório 'data' exista\n",
    "DATA_PATH.parent.mkdir(parents=True, exist_ok=True)\n",
    "\n",
    "# Verifica se o arquivo já existe\n",
    "if not DATA_PATH.exists():\n",
    "    print(f\"Arquivo não encontrado em {DATA_PATH}. Gerando via função build_wdbc...\")\n",
    "    try:\n",
    "        # Chama a função diretamente\n",
    "        build_wdbc(DATA_PATH)\n",
    "        print(f\"Arquivo gerado e salvo em {DATA_PATH}\")\n",
    "    except Exception as e:\n",
    "        print(\"Falha ao rodar o módulo CLI; gerando via sklearn. Erro:\", e)\n",
    "        from sklearn.datasets import load_breast_cancer\n",
    "        cancer = load_breast_cancer()\n",
    "        df_tmp = pd.DataFrame(\n",
    "            cancer[\"data\"],\n",
    "            columns=[c.replace(\" \", \"_\") for c in cancer[\"feature_names\"]]\n",
    "        )\n",
    "        target = pd.Categorical.from_codes(cancer[\"target\"], cancer[\"target_names\"])\n",
    "        target = target.rename_categories({\"malignant\": \"Maligno\", \"benign\": \"Benigno\"})\n",
    "        df_tmp[\"diagnosis\"] = target.astype(str)\n",
    "        df_tmp.to_csv(DATA_PATH, index=False)\n",
    "        print(\"Gerado e salvo em\", DATA_PATH)\n",
    "\n",
    "# Se chegou até aqui, o arquivo deve existir. Carrega o DataFrame.\n",
    "df = pd.read_csv(DATA_PATH)\n",
    "\n",
    "X_full = df.drop(columns=[\"diagnosis\"])\n",
    "y_full = (df[\"diagnosis\"] == \"Maligno\").astype(int).to_numpy()\n",
    "\n",
    "# Selecionar apenas as features do modelo\n",
    "X_subset = X_full[FEATURE_ORDER]\n",
    "y_subset = y_full\n",
    "\n",
    "# Dividir os dados para ter um conjunto de referência\n",
    "from sklearn.model_selection import train_test_split\n",
    "X_train, X_test, y_train, y_test = train_test_split(X_subset, y_subset, test_size=0.2, random_state=42, stratify=y_subset)\n",
    "\n",
    "print(f\"Dados de exemplo carregados: {X_train.shape[0]} amostras de treino, {X_test.shape[0]} amostras de teste.\")\n",
    "print(f\"Features usadas pelo modelo: {len(FEATURE_ORDER)}\")\n"
   ]
  },
  {
   "cell_type": "markdown",
   "id": "11acfcc9",
   "metadata": {},
   "source": [
    "## Seleção de Amostras Representativas para Análise Breakdown\n",
    "\n",
    "Esta célula tem como objetivo identificar ou gerar um conjunto diversificado de amostras do conjunto de dados de treinamento (`X_train`) para serem utilizadas posteriormente nas análises de explicabilidade `breakdown` com o `dalex`. O critério para a seleção é obter amostras cujas probabilidades preditas de serem malignas (`proba_malignant`) sejam próximas a valores-alvo específicos: 0.0, 0.2, 0.4, 0.6, 0.8 e 1.0.\n",
    "\n",
    "### Passo a Passo:\n",
    "\n",
    "1.  **Previsão no Conjunto de Treino**:\n",
    "    *   O modelo treinado (`pipeline`) é usado para prever as probabilidades (`proba_train`) e classes (`pred_train`) para todas as amostras do conjunto de treino (`X_train`).\n",
    "    *   Um novo DataFrame, `train_proba_df`, é criado contendo as features originais, a probabilidade predita e a classe predita.\n",
    "\n",
    "2.  **Funções Auxiliares**:\n",
    "    *   `pick_closest(target, probs, used)`:\n",
    "        *   Encontra o índice da amostra em `probs` (probabilidades preditas) cujo valor é o mais próximo do `target`, excluindo índices já utilizados (`used`).\n",
    "        *   Retorna o índice e a distância absoluta entre a probabilidade encontrada e o alvo.\n",
    "    *   `interpolate_to_target(...)`:\n",
    "        *   Tenta criar uma amostra sintética cuja probabilidade predita seja próxima do `target`.\n",
    "        *   Faz isso interpolando entre duas amostras do treino: uma com probabilidade abaixo do alvo (`x_low`) e outra com probabilidade acima (`x_high`).\n",
    "        *   Utiliza um método de bisseção para encontrar uma combinação linear das duas amostras que resulte na probabilidade desejada, dentro de uma tolerância (`tol`).\n",
    "        *   Retorna os valores da nova amostra sintética e a probabilidade alcançada.\n",
    "\n",
    "3.  **Seleção das Amostras Alvo**:\n",
    "    *   Define os rótulos e valores-alvo desejados (`targets`): `pmin` (0.0), `p_0.20` (0.20), ..., `pmax` (1.00).\n",
    "    *   **Extremos (`pmin` e `pmax`)**:\n",
    "        *   As amostras reais com as probabilidades preditas mínima e máxima são selecionadas diretamente do conjunto de treino.\n",
    "    *   **Valores Intermediários (`p_0.20` a `p_0.80`)**:\n",
    "        *   **Busca Direta**: Primeiro, tenta encontrar uma amostra real no treino cuja probabilidade esteja dentro de uma tolerância (`ok_eps = 0.03`) do valor alvo.\n",
    "        *   **Interpolação Sintética**: Se não encontrar uma amostra real suficientemente próxima, tenta criar uma amostra sintética interpolando entre a amostra real com a maior probabilidade abaixo do alvo e a com a menor probabilidade acima do alvo.\n",
    "        *   **Último Recurso**: Se a interpolação falhar ou não for possível, seleciona a amostra real com a probabilidade mais próxima do alvo, mesmo que a distância seja maior que a tolerância.\n",
    "\n",
    "4.  **Consolidação dos Resultados**:\n",
    "    *   As amostras selecionadas (reais ou sintéticas) são combinadas em um único DataFrame (`selected_df`).\n",
    "    *   Informações sobre cada amostra (rótulo, probabilidade alvo, probabilidade alcançada, origem, índice no treino) são armazenadas em `meta_df`.\n",
    "    *   Um dicionário (`obs_for_breakdown`) é criado para facilitar o acesso às amostras individuais posteriormente. Por exemplo, `obs_for_breakdown[\"p_0.60\"]` retorna um DataFrame com uma única linha contendo os valores das features da amostra selecionada para o alvo 0.60.\n",
    "\n",
    "### Resultado:\n",
    "\n",
    "Ao final da execução, a célula imprime um resumo das amostras selecionadas, mostrando seu rótulo, a probabilidade alvo, a probabilidade efetivamente alcançada, a origem (real do treino, interpolada sintética ou a mais próxima real) e o índice original no conjunto de treino (se aplicável). Isso garante um conjunto diversificado de casos para análise detalhada do modelo."
   ]
  },
  {
   "cell_type": "code",
   "execution_count": 3,
   "id": "9f539f82",
   "metadata": {},
   "outputs": [
    {
     "name": "stdout",
     "output_type": "stream",
     "text": [
      "Treino: 455 linhas, 12 features.\n",
      "Faixa de probabilidades no treino: min=0.0000  max=1.0000\n",
      "\n",
      "Selecionadas para breakdown:\n",
      "  selection_label  target_p    achieved_p source  train_index\n",
      "0            pmin       0.0  2.993316e-14  train          101\n",
      "1            pmax       1.0  1.000000e+00  train          265\n",
      "2          p_0.20       0.2  1.763068e-01  train           89\n",
      "3          p_0.40       0.4  3.809545e-01  train           40\n",
      "4          p_0.60       0.6  5.976898e-01  train          215\n",
      "5          p_0.80       0.8  8.064941e-01  train          542\n"
     ]
    }
   ],
   "source": [
    "# Seleciona/gera amostras representativas\n",
    "from collections import OrderedDict\n",
    "\n",
    "# 1) Prever no treino inteiro\n",
    "X_train_ordered = X_train[FEATURE_ORDER].copy()\n",
    "proba_train = pipeline.predict_proba(X_train_ordered)[:, 1]\n",
    "pred_train = (proba_train >= 0.5).astype(int)\n",
    "\n",
    "train_proba_df = X_train_ordered.copy()\n",
    "train_proba_df[\"proba_malignant\"] = proba_train\n",
    "train_proba_df[\"pred_class\"] = pred_train\n",
    "\n",
    "print(f\"Treino: {len(train_proba_df)} linhas, {len(FEATURE_ORDER)} features.\")\n",
    "print(\"Faixa de probabilidades no treino:\",\n",
    "      f\"min={proba_train.min():.4f}  max={proba_train.max():.4f}\")\n",
    "\n",
    "# ---------- Auxiliares ----------\n",
    "def pick_closest(target, probs, used=None):\n",
    "    \"\"\"Retorna índice do elemento de probs mais próximo de target, ignorando used.\"\"\"\n",
    "    used = used or set()\n",
    "    mask = np.ones_like(probs, dtype=bool)\n",
    "    if used:\n",
    "        mask[list(used)] = False\n",
    "    if not mask.any():\n",
    "        return None, None\n",
    "    cand_idx = np.where(mask)[0]\n",
    "    i = cand_idx[np.argmin(np.abs(probs[mask] - target))]\n",
    "    return int(i), float(abs(probs[i] - target))\n",
    "\n",
    "def interpolate_to_target(x_low, p_low, x_high, p_high, target,\n",
    "                          tol=1e-3, max_iter=40):\n",
    "    \"\"\"\n",
    "    Interpola no segmento [x_low, x_high] procurando probabilidade ~ target.\n",
    "    Usa bisseção no alfa do segmento; requer p_low < target < p_high (ou vice-versa).\n",
    "    \"\"\"\n",
    "    # Garante ordem: p_low < target < p_high\n",
    "    if not (p_low < target < p_high or p_high < target < p_low):\n",
    "        return None, None\n",
    "    # Coloca de forma que p_a < target < p_b\n",
    "    if p_low < p_high:\n",
    "        x_a, p_a, x_b, p_b = x_low, p_low, x_high, p_high\n",
    "    else:\n",
    "        x_a, p_a, x_b, p_b = x_high, p_high, x_low, p_low\n",
    "\n",
    "    a, b = 0.0, 1.0\n",
    "    x_a = x_a.astype(float); x_b = x_b.astype(float)\n",
    "    for _ in range(max_iter):\n",
    "        m = 0.5 * (a + b)\n",
    "        x_m = (1 - m) * x_a + m * x_b\n",
    "        p_m = pipeline.predict_proba(pd.DataFrame([x_m], columns=FEATURE_ORDER))[:, 1][0]\n",
    "        if abs(p_m - target) <= tol:\n",
    "            return x_m, float(p_m)\n",
    "        if p_m < target:\n",
    "            a, x_a, p_a = m, x_m, p_m\n",
    "        else:\n",
    "            b, x_b, p_b = m, x_m, p_m\n",
    "    return x_m, float(p_m)  # retorna melhor aproximação\n",
    "\n",
    "# 2) Seleções alvo\n",
    "targets = OrderedDict([\n",
    "    (\"pmin\", 0.00),\n",
    "    (\"p_0.20\", 0.20),\n",
    "    (\"p_0.40\", 0.40),\n",
    "    (\"p_0.60\", 0.60),\n",
    "    (\"p_0.80\", 0.80),\n",
    "    (\"pmax\", 1.00),\n",
    "])\n",
    "\n",
    "used = set()\n",
    "rows = []      # lista de DataFrames 1-linha com as features\n",
    "metas = []     # metadados por linha\n",
    "ok_eps = 0.03  # tolerância para considerar \"encontrado no treino\"\n",
    "\n",
    "# extremos (sempre do treino)\n",
    "i_min = int(np.argmin(proba_train))\n",
    "i_max = int(np.argmax(proba_train))\n",
    "for label, idx, tgt in [(\"pmin\", i_min, 0.0), (\"pmax\", i_max, 1.0)]:\n",
    "    used.add(idx)\n",
    "    rows.append(train_proba_df.iloc[[idx]][FEATURE_ORDER])\n",
    "    metas.append(dict(label=label, source=\"train\", target=tgt,\n",
    "                      pred=float(proba_train[idx]),\n",
    "                      train_index=int(train_proba_df.index[idx])))\n",
    "\n",
    "# metas intermediárias\n",
    "for label, tgt in [(\"p_0.20\", 0.20), (\"p_0.40\", 0.40),\n",
    "                   (\"p_0.60\", 0.60), (\"p_0.80\", 0.80)]:\n",
    "    idx, dist = pick_closest(tgt, proba_train, used)\n",
    "    if idx is not None and dist <= ok_eps:\n",
    "        used.add(idx)\n",
    "        rows.append(train_proba_df.iloc[[idx]][FEATURE_ORDER])\n",
    "        metas.append(dict(label=label, source=\"train\",\n",
    "                          target=tgt, pred=float(proba_train[idx]),\n",
    "                          train_index=int(train_proba_df.index[idx])))\n",
    "        continue\n",
    "\n",
    "    # Tentar sintetizar por interpolação entre um ponto abaixo e um acima\n",
    "    below_idx = np.where(proba_train < tgt)[0]\n",
    "    above_idx = np.where(proba_train > tgt)[0]\n",
    "    if len(below_idx) and len(above_idx):\n",
    "        i_low  = below_idx[np.argmax(proba_train[below_idx])]   # maior abaixo\n",
    "        i_high = above_idx[np.argmin(proba_train[above_idx])]   # menor acima\n",
    "        x_low  = train_proba_df.iloc[i_low][FEATURE_ORDER].to_numpy()\n",
    "        x_high = train_proba_df.iloc[i_high][FEATURE_ORDER].to_numpy()\n",
    "\n",
    "        x_syn, p_syn = interpolate_to_target(\n",
    "            x_low, proba_train[i_low], x_high, proba_train[i_high],\n",
    "            target=tgt, tol=1e-3, max_iter=40\n",
    "        )\n",
    "        if x_syn is not None:\n",
    "            row = pd.DataFrame([x_syn], columns=FEATURE_ORDER)\n",
    "            rows.append(row)\n",
    "            metas.append(dict(label=label, source=\"synthetic\",\n",
    "                              target=tgt, pred=float(p_syn),\n",
    "                              train_index=None))\n",
    "            continue\n",
    "\n",
    "    # Último fallback: pega o mais próximo disponível (mesmo que distante)\n",
    "    if idx is None:\n",
    "        idx = int(np.argmin(np.abs(proba_train - tgt)))\n",
    "    used.add(idx)\n",
    "    rows.append(train_proba_df.iloc[[idx]][FEATURE_ORDER])\n",
    "    metas.append(dict(label=label, source=\"train_nearest\",\n",
    "                      target=tgt, pred=float(proba_train[idx]),\n",
    "                      train_index=int(train_proba_df.index[idx])))\n",
    "\n",
    "# 3) Consolidar selecionados para uso no breakdown\n",
    "selected_df = pd.concat(rows, ignore_index=True)\n",
    "meta_df = pd.DataFrame(metas)\n",
    "selected_df.insert(0, \"selection_label\", meta_df[\"label\"])\n",
    "selected_df[\"target_p\"] = meta_df[\"target\"].values\n",
    "selected_df[\"achieved_p\"] = meta_df[\"pred\"].values\n",
    "selected_df[\"source\"] = meta_df[\"source\"].values\n",
    "selected_df[\"train_index\"] = meta_df[\"train_index\"].values\n",
    "\n",
    "# Dicionário pronto para usar com dalex: obs_for_breakdown[\"p_0.60\"] -> DataFrame 1 linha com FEATURES\n",
    "obs_for_breakdown = {\n",
    "    lbl: selected_df[selected_df[\"selection_label\"] == lbl][FEATURE_ORDER]\n",
    "    for lbl in selected_df[\"selection_label\"]\n",
    "}\n",
    "\n",
    "print(\"\\nSelecionadas para breakdown:\")\n",
    "print(selected_df[[\"selection_label\", \"target_p\", \"achieved_p\", \"source\", \"train_index\"]])\n"
   ]
  },
  {
   "cell_type": "markdown",
   "id": "4f3bdefe",
   "metadata": {},
   "source": [
    "## 🔌 Criando o `Explainer` (`dalex.Explainer`)\n",
    "\n",
    "Aqui instanciamos o `Explainer`, informando:\n",
    "\n",
    "* `model`: o pipeline scikit-learn já treinado;\n",
    "* `data`: um `DataFrame` com as **12 variáveis** (sem a coluna-alvo);\n",
    "* `y`: vetor `0/1` (0=Benigno, 1=Maligno);\n",
    "* `predict_function`: função que devolve **probabilidade de Maligno**;\n",
    "* `label`: rótulo amigável do modelo (“LR_L2 — MoreStable12”)."
   ]
  },
  {
   "cell_type": "code",
   "execution_count": 4,
   "id": "8d4c5c6b",
   "metadata": {},
   "outputs": [
    {
     "name": "stdout",
     "output_type": "stream",
     "text": [
      "Preparation of a new explainer is initiated\n",
      "\n",
      "  -> data              : 455 rows 12 cols\n",
      "  -> target variable   : 455 values\n",
      "  -> model_class       : sklearn.linear_model._logistic.LogisticRegression (default)\n",
      "  -> label             : LR_L2\n",
      "  -> predict function  : <function predict_proba_positive_class at 0x7d649d99dcf0> will be used\n",
      "  -> predict function  : Accepts pandas.DataFrame and numpy.ndarray.\n",
      "  -> predicted values  : min = 2.99e-14, mean = 0.381, max = 1.0\n",
      "  -> model type        : classification will be used (default)\n",
      "  -> residual function : difference between y and yhat (default)\n",
      "  -> residuals         : min = -0.806, mean = -0.00779, max = 0.956\n",
      "  -> model_info        : package sklearn\n",
      "\n",
      "A new explainer has been created!\n",
      "Explainer Dalex criado com sucesso usando dados reais de treino.\n"
     ]
    }
   ],
   "source": [
    "# Criar Explainer com Dalex (usando dados reais de treino)\n",
    "\n",
    "# Definir uma função de predição nomeada\n",
    "def predict_proba_positive_class(model, X):\n",
    "    \"\"\"Função para obter a probabilidade da classe positiva (1).\"\"\"\n",
    "    return model.predict_proba(X)[:, 1]\n",
    "\n",
    "try:\n",
    "    # Reordenar X_train para garantir a ordem correta\n",
    "    X_train_ordered = X_train[FEATURE_ORDER]\n",
    "\n",
    "    # Criar o explainer usando o pipeline carregado e os dados reais de treino\n",
    "    explainer = dx.Explainer(\n",
    "        model=pipeline,\n",
    "        data=X_train_ordered, # Já ordenado\n",
    "        y=y_train,\n",
    "        predict_function=predict_proba_positive_class, # Função nomeada\n",
    "        label=\"LR_L2\"\n",
    "    )\n",
    "\n",
    "    print(\"Explainer Dalex criado com sucesso usando dados reais de treino.\")\n",
    "except Exception as e:\n",
    "    print(f\"Erro ao criar explainer: {e}\")\n",
    "    raise"
   ]
  },
  {
   "cell_type": "markdown",
   "id": "1a29e77b",
   "metadata": {},
   "source": [
    "## 🌎 Importância de variáveis (Permutation Importance)\n",
    "\n",
    "Aqui calculamos a **importância via permutação**: embaralhamos uma feature por vez, medimos o **quanto o desempenho cai** (por ex., *loss* baseada em log-loss/auc), e ordenamos do **maior impacto** para o **menor**.\n",
    "\n",
    "**Leitura**:\n",
    "\n",
    "* Maior queda de desempenho ⇒ **maior importância**.\n",
    "* Em geral casa bem com a magnitude dos **coeficientes** no LR_L2, mas **não é idêntico**: permutação captura **efeitos globais** em conjunto com correlações restantes."
   ]
  },
  {
   "cell_type": "code",
   "execution_count": null,
   "id": "06174099",
   "metadata": {},
   "outputs": [
    {
     "name": "stdout",
     "output_type": "stream",
     "text": [
      "Calculando importância das variáveis...\n"
     ]
    },
    {
     "data": {
      "image/png": "[encoded data removed]",
      "text/plain": [
       "<IPython.core.display.Image object>"
      ]
     },
     "metadata": {},
     "output_type": "display_data"
    }
   ],
   "source": [
    "# Análise de Importância de Variáveis\n",
    "\n",
    "# pastas de saída\n",
    "fig_dir = Path(\"figures\")\n",
    "fig_dir.mkdir(parents=True, exist_ok=True)\n",
    "png_path = fig_dir / \"var_importance_lr_l2.png\"\n",
    "\n",
    "try:\n",
    "    print(\"Calculando importância das variáveis...\")\n",
    "\n",
    "    # Para pipelines com pré-processamento, 'random' é mais robusto que 'permute'\n",
    "    variable_importance = explainer.model_parts(\n",
    "        depend_method=\"random\",\n",
    "        N=100,\n",
    "        variables=None\n",
    "    )\n",
    "\n",
    "    if variable_importance.result.empty:\n",
    "        raise ValueError(\"O cálculo de importância retornou um resultado vazio.\")\n",
    "\n",
    "    # Figura plotly (não mostrar ainda para poder salvar)\n",
    "    fig_imp = variable_importance.plot(max_vars=12, show=False)\n",
    "    fig_imp.update_layout(\n",
    "        title=\"Importância das Variáveis — Regressão Logística (Permutation Importance)\",\n",
    "        yaxis_title=\"Variável\",\n",
    "        template=\"plotly_white\"\n",
    "    )\n",
    "\n",
    "    # Salvar PNG estático (para GitHub)\n",
    "    try:\n",
    "        pio.write_image(fig_imp, str(png_path), scale=2)  # requer 'pip install -U kaleido'\n",
    "        display(Image(filename=str(png_path)))\n",
    "    except Exception as e_img:\n",
    "        print(f\"Aviso: não foi possível salvar/mostrar PNG com kaleido ({type(e_img).__name__}: {e_img}).\")\n",
    "        print(\"Instale com: pip install -U kaleido\")\n",
    "\n",
    "except Exception as e:\n",
    "    print(f\"Erro ao calcular ou plotar a importância das variáveis: {e}\")\n",
    "    print(f\"Tipo do erro: {type(e).__name__}\")\n"
   ]
  },
  {
   "cell_type": "markdown",
   "id": "bd5ba7e3",
   "metadata": {},
   "source": [
    "### 📊 Permutation Importance vs. Coeficientes da Regressão Logística\n",
    "\n",
    "Os **coeficientes (LR_L2)** e a **Permutation Importance (PI)** respondem a perguntas diferentes — por isso as ordens podem divergir mesmo quando apontam para as mesmas variáveis \"de topo\".\n",
    "\n",
    "**O que cada uma mede**\n",
    "\n",
    "* **Coeficientes (|β|)**: efeito **linear** de **1 unidade** (na escala após *preprocess* — Yeo-Johnson) na **log-odds** de \"Maligno\", **mantendo as demais variáveis fixas**.\n",
    "\n",
    "  * Bons para **direção do efeito** (sinal +/–) e para entender a **forma funcional** assumida pelo modelo.\n",
    "* **Permutation Importance**: **queda de desempenho** (ex.: AUC/AP) quando embaralhamos os valores de uma variável **depois do pipeline**.\n",
    "\n",
    "  * Mede o **impacto prático/global** dessa variável na **qualidade preditiva** do modelo.\n",
    "\n",
    "**Por que os rankings podem diferir?**\n",
    "\n",
    "1. **Colinearidade / compartilhamento de informação**\n",
    "   Variáveis correlacionadas podem ter coeficientes altos, mas a PI \"divide\" o crédito: ao embaralhar uma, as outras ainda carregam parte do sinal → a queda de AUC é menor.\n",
    "\n",
    "2. **Métrica de avaliação**\n",
    "   A PI depende da **métrica escolhida** (AUC, AP, etc.) e do **nível de ruído** do *holdout* usado. Coeficientes não mudam com a métrica.\n",
    "\n",
    "3. **Regularização**\n",
    "   A LR_L2 **encolhe** coeficientes (mais ou menos dependendo de `C`). Uma variável útil pode ter |β| moderado e ainda assim gerar **grande perda de AUC** quando permutada.\n",
    "\n",
    "4. **Transformações no *preprocess***\n",
    "   Yeo-Johnson e mudam a **simetria**; |β| passa a refletir efeito **na variável transformada**. A PI, por sua vez, mede o impacto **após todo o pipeline** (modelo-agnóstica).\n",
    "\n",
    "5. **Efeito conjunto vs. marginal**\n",
    "   Coeficientes são **condicionais** (mantendo o resto fixo). A PI é uma medida **global** do que acontece quando quebramos a **associação natural** daquela variável com as demais.\n"
   ]
  },
  {
   "cell_type": "markdown",
   "id": "8bf404b0",
   "metadata": {},
   "source": [
    "## 📈 Perfis de resposta — PDP e ALE\n",
    "\n",
    "Nesta seção geramos **perfis globais** de uma variável por vez:\n",
    "\n",
    "* **PDP (Partial Dependence)**: média das previsões enquanto **mantém as demais variáveis fixas**. Fácil de ler, porém pode distorcer quando há **correlações fortes** entre features.\n",
    "* **ALE (Accumulated Local Effects)**: foca em **efeitos locais** por janelas e integra os efeitos parciais. É **mais estável** quando há correlação entre preditores.\n",
    "\n",
    "**Como ler**:\n",
    "\n",
    "* Eixo x: valores da variável (na escala original do pipeline de entrada).\n",
    "* Eixo y: mudança na **probabilidade prevista** (ou no *link* interno), mantendo o restante como observado.\n",
    "\n",
    "> **Nota sobre a escolha do PDP**: Optamos por utilizar os perfis PDP nesta análise porque as 12 features selecionadas para o modelo passaram por um processo de poda (*pruning*) baseado na correlação. Esse procedimento de seleção reduziu significativamente a multicolinearidade entre as variáveis, mitigando um dos principais problemas do PDP. Dessa forma, os perfis PDP refletem de maneira mais fiel a relação entre cada variável e a predição do modelo."
   ]
  },
  {
   "cell_type": "code",
   "execution_count": 18,
   "id": "d7b05742",
   "metadata": {},
   "outputs": [
    {
     "name": "stdout",
     "output_type": "stream",
     "text": [
      "Top-4 features: ['area_error', 'mean_concave_points', 'worst_texture', 'compactness_error']\n"
     ]
    },
    {
     "data": {
      "image/png": "[encoded data removed]",
      "text/plain": [
       "<IPython.core.display.Image object>"
      ]
     },
     "metadata": {},
     "output_type": "display_data"
    }
   ],
   "source": [
    "# --- Perfil de Dependência Parcial (Partial Dependence Profile) ---\n",
    "\n",
    "# Pasta de saída\n",
    "fig_dir = Path(\"figures\")\n",
    "fig_dir.mkdir(parents=True, exist_ok=True)\n",
    "png_pdp_path = fig_dir / \"pdp_lr_l2_top4.png\"\n",
    "\n",
    "# Seleciona Top-4 features pela importância por permutação (já calculada)\n",
    "vi = variable_importance.result.copy()\n",
    "top_features = (\n",
    "    vi[vi[\"variable\"] != \"_baseline_\"]\n",
    "      .groupby(\"variable\")[\"dropout_loss\"].mean()\n",
    "      .sort_values(ascending=False)\n",
    "      .head(4)\n",
    "      .index.tolist()\n",
    ")\n",
    "print(\"Top-4 features:\", top_features)\n",
    "\n",
    "# Calcula PDP (ou troque 'type' para \"accumulated\" se preferir ALE)\n",
    "pdp = explainer.model_profile(\n",
    "    type=\"partial\",       # \"partial\" (PDP) | \"accumulated\" (ALE)\n",
    "    variables=top_features,\n",
    "    N=300,\n",
    "    grid_points=30,\n",
    "    verbose=False\n",
    ")\n",
    "\n",
    "# Gera figura Plotly SEM exibir\n",
    "fig_pdp = pdp.plot(variables=top_features, show=False)\n",
    "fig_pdp.update_layout(\n",
    "    title=\"Perfis de Dependência Parcial — Regressão Logística (Top-4)\",\n",
    "    template=\"plotly_white\"\n",
    ")\n",
    "\n",
    "# Salva PNG estático e exibe a imagem\n",
    "try:\n",
    "    pio.write_image(fig_pdp, str(png_pdp_path), scale=2)  # requer: pip install -U kaleido\n",
    "    display(Image(filename=str(png_pdp_path)))\n",
    "except Exception as e_img:\n",
    "    print(f\"Aviso: não foi possível salvar/mostrar PNG (kaleido): {type(e_img).__name__}: {e_img}\")\n",
    "    print(\"Instale com: pip install -U kaleido\")\n"
   ]
  },
  {
   "cell_type": "markdown",
   "id": "23e41f67",
   "metadata": {},
   "source": [
    "Este gráfico apresenta **perfis de dependência parcial (PDP)** para quatro variáveis do modelo de Regressão Logística. O PDP mostra como a **probabilidade predita** de uma observação ser classificada como maligna muda quando o valor de uma única variável é alterado, mantendo todas as demais variáveis fixas na média.\n",
    "\n",
    "Vamos interpretar cada um dos perfis:\n",
    "\n",
    "### 1. `area_error`\n",
    "  Crescimento **rápido** no início (0 → ~100), depois **satura**. Pequenos aumentos no baixo/medio intervalo já elevam bastante o risco; acima de ~200 o ganho é **marginal** (efeito de **retorno decrescente**). Interpretação: irregularidade/variabilidade de área maior → maior probabilidade de malignidade, com **curva monotônica e côncava**.\n",
    "\n",
    "### 2. `worst_texture`\n",
    "  Relação **quase linear e crescente** em toda a faixa (~13–49). Cada incremento na textura \"pior caso\" aumenta o risco de forma **constante** (sem platô visível). Sinal claro de que textura no pior cenário é um **driver estável** da probabilidade.\n",
    "\n",
    "### 3. `mean_concave_points`\n",
    "  Crescente com **forte inclinação** até ~0.10, depois **abranda** (novo platô acima de ~0.15). Ou seja, pequenas elevações na densidade média de pontos côncavos já impactam muito; acima de ~0.10 o efeito **continua**, mas com **menor ganho marginal**.\n",
    "\n",
    "### 4. `worst_concavity`\n",
    "  Crescente e **mais suave** que as anteriores; não há ponto de inflexão marcado, mas a inclinação **reduz levemente** em valores altos. Indica que concavidade no pior caso aumenta o risco, porém com **efeito marginal moderado** e **gradual**.\n",
    "\n",
    "Em conjunto, os PDPs sugerem:\n",
    "\n",
    "* **Monotonicidade positiva** para as quatro variáveis (mais \"erro/irregularidade/concavidade/textura\" → maior probabilidade de Maligno).\n",
    "* **Saturação** clara em **area_error** e **mean_concave_points** (boas candidatas a efeitos não lineares capturados pelo Yeo–Johnson).\n",
    "* **worst_texture** se destaca por **linearidade** (efeito consistente em toda a faixa).\n",
    "* **worst_concavity** contribui, mas com **inclinação menor**, reforçando seu papel como variável de apoio ao conjunto.\n"
   ]
  },
  {
   "cell_type": "markdown",
   "id": "0d2011b0",
   "metadata": {},
   "source": [
    "## 🔍 Explicações locais — *Breakdown* e SHAP-like\n",
    "\n",
    "Agora olhamos **um indivíduo específico** (linha do conjunto de teste):\n",
    "\n",
    "* **Breakdown**: decompõe a **previsão individual** em **contribuições por variável**, mostrando como partimos de uma **probabilidade base** até chegar na **probabilidade final**.\n",
    "* **SHAP (aprox.)**: distribui a contribuição de forma **axiomática** (Shapley), considerando **todas as coalizões**; é mais caro, mas amplamente utilizado.\n",
    "\n",
    "**Como escolher a observação**:\n",
    "\n",
    "* Caso **verdadeiro Maligno** corretamente detectado;\n",
    "* Caso **Benigno**;\n",
    "* Um caso **limítrofe** (probabilidade perto do limiar), se existir — muito didático.\n"
   ]
  },
  {
   "cell_type": "markdown",
   "id": "0c7ee37a",
   "metadata": {},
   "source": [
    "## Gráfico Breakdown\n",
    "\n",
    "Este código define uma função `plot_breakdown_from_bd` que cria um gráfico de barras horizontais em estilo **Waterfall** utilizando a biblioteca `plotly.graph_objects`. O objetivo é visualizar de forma clara e detalhada como um modelo preditivo chega a uma determinada previsão para uma observação específica, decompondo a contribuição de cada variável.\n",
    "\n",
    "### Como funciona o gráfico:\n",
    "\n",
    "1.  **Estrutura Waterfall**:\n",
    "    *   Cada barra horizontal representa a **contribuição (`contribution` ou Δ)** de uma variável (ou do intercepto) para a previsão final.\n",
    "    *   As barras são empilhadas horizontalmente, mostrando como a previsão evolui do **intercepto** (valor base) até a **predição final**.\n",
    "2.  **Elementos Chave**:\n",
    "    *   **Intercepto**: A primeira barra (na base) mostra o valor base da previsão do modelo antes de considerar qualquer característica da observação. Uma **linha vertical tracejada cinza** marca exatamente esse valor no eixo X para facilitar a referência.\n",
    "    *   **Variáveis**: As barras subsequentes mostram o impacto de cada variável. Barras para a **direita** indicam contribuição positiva (aumentam a probabilidade), enquanto barras para a **esquerda** indicam contribuição negativa (diminuem a probabilidade).\n",
    "    *   **Predição Final**: A última barra (no topo) representa a previsão final do modelo para aquela observação.\n",
    "3.  **Personalização e Controle**:\n",
    "    *   **Rótulos**: Os rótulos no eixo Y já vêm formatados pelo `dalex` (ex: `worst_concavity = 0.4636`), evitando duplicações.\n",
    "    *   **Hover Personalizado**: Ao passar o mouse sobre uma barra, um tooltip mostra informações detalhadas:\n",
    "        *   Nome da variável e seu valor.\n",
    "        *   `contribution (Δ)`: A contribuição exata dessa variável.\n",
    "        *   `cum. before`: A probabilidade acumulada *antes* de considerar essa variável.\n",
    "        *   `cum. after`: A probabilidade acumulada *depois* de considerar essa variável.\n",
    "    *   **Ordem Fixa**: O gráfico garante que o intercepto esteja sempre na base e a predição final no topo, respeitando a lógica da decomposição.\n",
    "    *   **Cores**: Cores distintas para contribuições positivas (vermelho/crimson) e negativas (verde/seagreen), com a predição final em azul (royalblue).\n",
    "\n",
    "### Por que um código personalizado?\n",
    "\n",
    "Optamos por desenvolver este gráfico personalizado ao invés de utilizar diretamente a visualização padrão disponível no pacote `dalex` porque desejávamos **maior controle e personalização**, especialmente em relação às informações exibidas no **tooltip (hover)**. Esta versão nos permite mostrar de forma clara e precisa os valores cumulativos antes e depois de cada contribuição, o que é crucial para a interpretação detalhada do modelo.\n",
    "\n",
    "Este gráfico será integrado ao **dashboard do projeto**, proporcionando uma visualização interativa e informativa para análise de previsões individuais do modelo."
   ]
  },
  {
   "cell_type": "code",
   "execution_count": 8,
   "id": "5929d49d",
   "metadata": {},
   "outputs": [],
   "source": [
    "# Gráfico Breakdown\n",
    "import plotly.graph_objects as go\n",
    "\n",
    "def plot_breakdown_from_bd(bd, title=None):\n",
    "    \"\"\"\n",
    "    Waterfall horizontal a partir de bd.result (dalex predict_parts),\n",
    "    com:\n",
    "      - contribution (Δ) e cumulative (antes/depois) no hover via customdata\n",
    "      - intercept no topo e prediction embaixo\n",
    "      - rótulos prontos (sem duplicação)\n",
    "    \"\"\"\n",
    "    res = bd.result.copy()\n",
    "\n",
    "    # rótulos prontos (do dalex)\n",
    "    labels = res[\"variable\"].astype(str).tolist()\n",
    "\n",
    "    # números\n",
    "    contrib     = res[\"contribution\"].astype(float).to_numpy()  # Δ (o que desejamos mostrar)\n",
    "    cum_after   = res[\"cumulative\"].astype(float).to_numpy()    # acumulado após o passo\n",
    "    cum_before  = cum_after - contrib                           # acumulado antes do passo\n",
    "\n",
    "    # intercept é o 1º; prediction é o último -> manter essa ordem e fixá-la no eixo\n",
    "    # Medidas: todos 'relative' e o último 'total'\n",
    "    measure = [\"relative\"] * len(res)\n",
    "    if measure:\n",
    "        measure[-1] = \"total\"\n",
    "\n",
    "    # Linha tracejada na posição do intercept (acumulado após o 1º passo)\n",
    "    intercept_x = cum_after[0] if len(cum_after) else 0.0\n",
    "\n",
    "    # --- construir figura ---\n",
    "    fig = go.Figure()\n",
    "\n",
    "    fig.add_shape(\n",
    "        type=\"line\",\n",
    "        x0=intercept_x, x1=intercept_x, y0=0, y1=1, yref=\"paper\",\n",
    "        line=dict(color=\"rgb(90,90,90)\", width=1.5, dash=\"dot\"), layer=\"below\"\n",
    "    )\n",
    "\n",
    "    # customdata com as 3 coisas que queremos no hover: Δ, cum_before, cum_after\n",
    "    customdata = np.stack([contrib, cum_before, cum_after], axis=1)\n",
    "\n",
    "    fig.add_trace(go.Waterfall(\n",
    "        orientation=\"h\",\n",
    "        measure=measure,\n",
    "        y=labels,\n",
    "        x=contrib,                         # passa o Δ como 'x'; no hover NÃO usaremos %{x}\n",
    "        text=[f\"{c:+.3f}\" for c in contrib],\n",
    "        textposition=\"outside\",\n",
    "        customdata=customdata,\n",
    "        hovertemplate=(\n",
    "            \"%{y}\"\n",
    "            \"<br>contribution (Δ): %{customdata[0]:.3f}\"\n",
    "            \"<br>cum. before: %{customdata[1]:.3f}\"\n",
    "            \"<br>cum. after: %{customdata[2]:.3f}\"\n",
    "            \"<extra></extra>\"\n",
    "        ),\n",
    "        connector=dict(line=dict(color=\"rgb(90,90,90)\")),\n",
    "        decreasing=dict(marker=dict(color=\"seagreen\")),\n",
    "        increasing=dict(marker=dict(color=\"crimson\")),\n",
    "        totals=dict(marker=dict(color=\"royalblue\")),\n",
    "    ))\n",
    "\n",
    "    # Garantir ordem visual: intercept (linha 0) no topo, prediction (última) embaixo\n",
    "    fig.update_yaxes(categoryorder=\"array\", categoryarray=labels)\n",
    "\n",
    "    fig.update_layout(\n",
    "        title=title or \"Breakdown\",\n",
    "        showlegend=False,\n",
    "        xaxis_title=\"contribution\",\n",
    "        hovermode=\"closest\",\n",
    "        margin=dict(t=70, b=40, l=10, r=10),\n",
    "        template=\"plotly_white\",\n",
    "    )\n",
    "    return fig"
   ]
  },
  {
   "cell_type": "markdown",
   "id": "302e12f1",
   "metadata": {},
   "source": [
    "### 🔎 Breakdown (DALEx) — como vamos ler as **6 amostras**\n",
    "\n",
    "Nesta seção usamos o **Break Down** do **DALEx** para explicar, **amostra a amostra**, como o *pipeline* **LR L2 + MoreStable12** chega à probabilidade final. Cada gráfico mostra um “**caminho de contribuições**”: começamos no **intercepto** do modelo e somamos os efeitos das variáveis (barras) até chegar à **previsão** daquela observação.\n",
    "\n",
    "**Como interpretar rapidamente**\n",
    "\n",
    "* Barras **vermelhas**: aumentam a probabilidade de **Maligno** (contribuições positivas).\n",
    "* Barras **verdes**: reduzem a probabilidade (contribuições negativas).\n",
    "* O eixo horizontal é a **probabilidade cumulativa** após cada passo.\n",
    "* A ordem das barras reflete a **decomposição local** para a observação (não é um ranking global).\n",
    "\n",
    "**Amostras analisadas**\n",
    "Selecionamos seis casos para cobrir diferentes regiões do espaço de probabilidade: **pmin (~0)**, **p_0.20**, **p_0.40**, **p_0.60**, **p_0.80** e **pmax (~1.0)**.\n",
    "\n",
    "\n",
    "**O que observar nos gráficos**\n",
    "\n",
    "* Quais variáveis **puxam para cima/baixo** a previsão e **quanto** (magnitude da barra).\n",
    "* Coerência qualitativa com os **coeficientes da LR** (sinal esperado) e com os **gráficos globais** (Permutation Importance, PDPs).\n",
    "* **Saturações**: quando a probabilidade já está muito alta/baixa, novas contribuições tendem a ter **efeito residual**.\n",
    "\n",
    "A seguir, apresentamos os seis gráficos (um por amostra) com comentários curtos e focados no que realmente move a decisão do modelo em cada caso.\n"
   ]
  },
  {
   "cell_type": "code",
   "execution_count": 9,
   "id": "7c63ecc9",
   "metadata": {},
   "outputs": [
    {
     "name": "stdout",
     "output_type": "stream",
     "text": [
      "                       variable variable_value  contribution    cumulative\n",
      "0                     intercept                 3.814162e-01  3.814162e-01\n",
      "1   compactness_error = 0.01084        0.01084  5.026219e-02  4.316784e-01\n",
      "2     worst_smoothness = 0.1584         0.1584  2.684975e-02  4.585282e-01\n",
      "3    mean_compactness = 0.07568        0.07568  1.893783e-02  4.774660e-01\n",
      "4       worst_symmetry = 0.2932         0.2932  1.882573e-02  4.962917e-01\n",
      "5         texture_error = 1.508          1.508 -2.237566e-02  4.739161e-01\n",
      "6      symmetry_error = 0.02659        0.02659 -2.343634e-02  4.504798e-01\n",
      "7         worst_concavity = 0.0            0.0 -8.948160e-02  3.609981e-01\n",
      "8            worst_area = 185.2          185.2 -1.028565e-01  2.581416e-01\n",
      "9         worst_texture = 19.54          19.54 -1.291136e-01  1.290280e-01\n",
      "10   concave_points_error = 0.0            0.0 -1.170937e-01  1.193431e-02\n",
      "11    mean_concave_points = 0.0            0.0 -1.193411e-02  1.956204e-07\n",
      "12           area_error = 9.833          9.833 -1.956204e-07  2.993316e-14\n",
      "13                   prediction                 2.993316e-14  2.993316e-14\n"
     ]
    },
    {
     "data": {
      "application/vnd.plotly.v1+json": {
       "config": {
        "plotlyServerURL": "https://plot.ly"
       },
       "data": [
        {
         "connector": {
          "line": {
           "color": "rgb(90,90,90)"
          }
         },
         "customdata": [
          [
           0.3814162342332193,
           0,
           0.3814162342332193
          ],
          [
           0.05026219399686088,
           0.3814162342332193,
           0.4316784282300802
          ],
          [
           0.02684975303314041,
           0.4316784282300802,
           0.4585281812632206
          ],
          [
           0.01893783372771335,
           0.4585281812632206,
           0.47746601499093394
          ],
          [
           0.018825733680642665,
           0.47746601499093394,
           0.4962917486715766
          ],
          [
           -0.022375658211962912,
           0.4962917486715766,
           0.4739160904596137
          ],
          [
           -0.023436339453974442,
           0.4739160904596137,
           0.45047975100563925
          ],
          [
           -0.08948160403515915,
           0.45047975100563925,
           0.3609981469704801
          ],
          [
           -0.10285652867476147,
           0.3609981469704801,
           0.25814161829571863
          ],
          [
           -0.1291136118208496,
           0.25814161829571863,
           0.12902800647486903
          ],
          [
           -0.11709369817201049,
           0.12902800647486903,
           0.011934308302858547
          ],
          [
           -0.011934112682442799,
           0.011934308302858547,
           1.9562041574809846e-7
          ],
          [
           -1.9562038581493577e-7,
           1.9562041574809846e-7,
           2.9933162692782623e-14
          ],
          [
           2.9933162692782623e-14,
           0,
           2.9933162692782623e-14
          ]
         ],
         "decreasing": {
          "marker": {
           "color": "seagreen"
          }
         },
         "hovertemplate": "%{y}<br>contribution (Δ): %{customdata[0]:.3f}<br>cum. before: %{customdata[1]:.3f}<br>cum. after: %{customdata[2]:.3f}<extra></extra>",
         "increasing": {
          "marker": {
           "color": "crimson"
          }
         },
         "measure": [
          "relative",
          "relative",
          "relative",
          "relative",
          "relative",
          "relative",
          "relative",
          "relative",
          "relative",
          "relative",
          "relative",
          "relative",
          "relative",
          "total"
         ],
         "orientation": "h",
         "text": [
          "+0.381",
          "+0.050",
          "+0.027",
          "+0.019",
          "+0.019",
          "-0.022",
          "-0.023",
          "-0.089",
          "-0.103",
          "-0.129",
          "-0.117",
          "-0.012",
          "-0.000",
          "+0.000"
         ],
         "textposition": "outside",
         "totals": {
          "marker": {
           "color": "royalblue"
          }
         },
         "type": "waterfall",
         "x": [
          0.3814162342332193,
          0.05026219399686088,
          0.02684975303314041,
          0.01893783372771335,
          0.018825733680642665,
          -0.022375658211962912,
          -0.023436339453974442,
          -0.08948160403515915,
          -0.10285652867476147,
          -0.1291136118208496,
          -0.11709369817201049,
          -0.011934112682442799,
          -1.9562038581493577e-7,
          2.9933162692782623e-14
         ],
         "y": [
          "intercept",
          "compactness_error = 0.01084",
          "worst_smoothness = 0.1584",
          "mean_compactness = 0.07568",
          "worst_symmetry = 0.2932",
          "texture_error = 1.508",
          "symmetry_error = 0.02659",
          "worst_concavity = 0.0",
          "worst_area = 185.2",
          "worst_texture = 19.54",
          "concave_points_error = 0.0",
          "mean_concave_points = 0.0",
          "area_error = 9.833",
          "prediction"
         ]
        }
       ],
       "layout": {
        "hovermode": "closest",
        "margin": {
         "b": 40,
         "l": 10,
         "r": 10,
         "t": 70
        },
        "shapes": [
         {
          "layer": "below",
          "line": {
           "color": "rgb(90,90,90)",
           "dash": "dot",
           "width": 1.5
          },
          "type": "line",
          "x0": 0.3814162342332193,
          "x1": 0.3814162342332193,
          "y0": 0,
          "y1": 1,
          "yref": "paper"
         }
        ],
        "showlegend": false,
        "template": {
         "data": {
          "bar": [
           {
            "error_x": {
             "color": "#2a3f5f"
            },
            "error_y": {
             "color": "#2a3f5f"
            },
            "marker": {
             "line": {
              "color": "white",
              "width": 0.5
             },
             "pattern": {
              "fillmode": "overlay",
              "size": 10,
              "solidity": 0.2
             }
            },
            "type": "bar"
           }
          ],
          "barpolar": [
           {
            "marker": {
             "line": {
              "color": "white",
              "width": 0.5
             },
             "pattern": {
              "fillmode": "overlay",
              "size": 10,
              "solidity": 0.2
             }
            },
            "type": "barpolar"
           }
          ],
          "carpet": [
           {
            "aaxis": {
             "endlinecolor": "#2a3f5f",
             "gridcolor": "#C8D4E3",
             "linecolor": "#C8D4E3",
             "minorgridcolor": "#C8D4E3",
             "startlinecolor": "#2a3f5f"
            },
            "baxis": {
             "endlinecolor": "#2a3f5f",
             "gridcolor": "#C8D4E3",
             "linecolor": "#C8D4E3",
             "minorgridcolor": "#C8D4E3",
             "startlinecolor": "#2a3f5f"
            },
            "type": "carpet"
           }
          ],
          "choropleth": [
           {
            "colorbar": {
             "outlinewidth": 0,
             "ticks": ""
            },
            "type": "choropleth"
           }
          ],
          "contour": [
           {
            "colorbar": {
             "outlinewidth": 0,
             "ticks": ""
            },
            "colorscale": [
             [
              0,
              "#0d0887"
             ],
             [
              0.1111111111111111,
              "#46039f"
             ],
             [
              0.2222222222222222,
              "#7201a8"
             ],
             [
              0.3333333333333333,
              "#9c179e"
             ],
             [
              0.4444444444444444,
              "#bd3786"
             ],
             [
              0.5555555555555556,
              "#d8576b"
             ],
             [
              0.6666666666666666,
              "#ed7953"
             ],
             [
              0.7777777777777778,
              "#fb9f3a"
             ],
             [
              0.8888888888888888,
              "#fdca26"
             ],
             [
              1,
              "#f0f921"
             ]
            ],
            "type": "contour"
           }
          ],
          "contourcarpet": [
           {
            "colorbar": {
             "outlinewidth": 0,
             "ticks": ""
            },
            "type": "contourcarpet"
           }
          ],
          "heatmap": [
           {
            "colorbar": {
             "outlinewidth": 0,
             "ticks": ""
            },
            "colorscale": [
             [
              0,
              "#0d0887"
             ],
             [
              0.1111111111111111,
              "#46039f"
             ],
             [
              0.2222222222222222,
              "#7201a8"
             ],
             [
              0.3333333333333333,
              "#9c179e"
             ],
             [
              0.4444444444444444,
              "#bd3786"
             ],
             [
              0.5555555555555556,
              "#d8576b"
             ],
             [
              0.6666666666666666,
              "#ed7953"
             ],
             [
              0.7777777777777778,
              "#fb9f3a"
             ],
             [
              0.8888888888888888,
              "#fdca26"
             ],
             [
              1,
              "#f0f921"
             ]
            ],
            "type": "heatmap"
           }
          ],
          "heatmapgl": [
           {
            "colorbar": {
             "outlinewidth": 0,
             "ticks": ""
            },
            "colorscale": [
             [
              0,
              "#0d0887"
             ],
             [
              0.1111111111111111,
              "#46039f"
             ],
             [
              0.2222222222222222,
              "#7201a8"
             ],
             [
              0.3333333333333333,
              "#9c179e"
             ],
             [
              0.4444444444444444,
              "#bd3786"
             ],
             [
              0.5555555555555556,
              "#d8576b"
             ],
             [
              0.6666666666666666,
              "#ed7953"
             ],
             [
              0.7777777777777778,
              "#fb9f3a"
             ],
             [
              0.8888888888888888,
              "#fdca26"
             ],
             [
              1,
              "#f0f921"
             ]
            ],
            "type": "heatmapgl"
           }
          ],
          "histogram": [
           {
            "marker": {
             "pattern": {
              "fillmode": "overlay",
              "size": 10,
              "solidity": 0.2
             }
            },
            "type": "histogram"
           }
          ],
          "histogram2d": [
           {
            "colorbar": {
             "outlinewidth": 0,
             "ticks": ""
            },
            "colorscale": [
             [
              0,
              "#0d0887"
             ],
             [
              0.1111111111111111,
              "#46039f"
             ],
             [
              0.2222222222222222,
              "#7201a8"
             ],
             [
              0.3333333333333333,
              "#9c179e"
             ],
             [
              0.4444444444444444,
              "#bd3786"
             ],
             [
              0.5555555555555556,
              "#d8576b"
             ],
             [
              0.6666666666666666,
              "#ed7953"
             ],
             [
              0.7777777777777778,
              "#fb9f3a"
             ],
             [
              0.8888888888888888,
              "#fdca26"
             ],
             [
              1,
              "#f0f921"
             ]
            ],
            "type": "histogram2d"
           }
          ],
          "histogram2dcontour": [
           {
            "colorbar": {
             "outlinewidth": 0,
             "ticks": ""
            },
            "colorscale": [
             [
              0,
              "#0d0887"
             ],
             [
              0.1111111111111111,
              "#46039f"
             ],
             [
              0.2222222222222222,
              "#7201a8"
             ],
             [
              0.3333333333333333,
              "#9c179e"
             ],
             [
              0.4444444444444444,
              "#bd3786"
             ],
             [
              0.5555555555555556,
              "#d8576b"
             ],
             [
              0.6666666666666666,
              "#ed7953"
             ],
             [
              0.7777777777777778,
              "#fb9f3a"
             ],
             [
              0.8888888888888888,
              "#fdca26"
             ],
             [
              1,
              "#f0f921"
             ]
            ],
            "type": "histogram2dcontour"
           }
          ],
          "mesh3d": [
           {
            "colorbar": {
             "outlinewidth": 0,
             "ticks": ""
            },
            "type": "mesh3d"
           }
          ],
          "parcoords": [
           {
            "line": {
             "colorbar": {
              "outlinewidth": 0,
              "ticks": ""
             }
            },
            "type": "parcoords"
           }
          ],
          "pie": [
           {
            "automargin": true,
            "type": "pie"
           }
          ],
          "scatter": [
           {
            "fillpattern": {
             "fillmode": "overlay",
             "size": 10,
             "solidity": 0.2
            },
            "type": "scatter"
           }
          ],
          "scatter3d": [
           {
            "line": {
             "colorbar": {
              "outlinewidth": 0,
              "ticks": ""
             }
            },
            "marker": {
             "colorbar": {
              "outlinewidth": 0,
              "ticks": ""
             }
            },
            "type": "scatter3d"
           }
          ],
          "scattercarpet": [
           {
            "marker": {
             "colorbar": {
              "outlinewidth": 0,
              "ticks": ""
             }
            },
            "type": "scattercarpet"
           }
          ],
          "scattergeo": [
           {
            "marker": {
             "colorbar": {
              "outlinewidth": 0,
              "ticks": ""
             }
            },
            "type": "scattergeo"
           }
          ],
          "scattergl": [
           {
            "marker": {
             "colorbar": {
              "outlinewidth": 0,
              "ticks": ""
             }
            },
            "type": "scattergl"
           }
          ],
          "scattermapbox": [
           {
            "marker": {
             "colorbar": {
              "outlinewidth": 0,
              "ticks": ""
             }
            },
            "type": "scattermapbox"
           }
          ],
          "scatterpolar": [
           {
            "marker": {
             "colorbar": {
              "outlinewidth": 0,
              "ticks": ""
             }
            },
            "type": "scatterpolar"
           }
          ],
          "scatterpolargl": [
           {
            "marker": {
             "colorbar": {
              "outlinewidth": 0,
              "ticks": ""
             }
            },
            "type": "scatterpolargl"
           }
          ],
          "scatterternary": [
           {
            "marker": {
             "colorbar": {
              "outlinewidth": 0,
              "ticks": ""
             }
            },
            "type": "scatterternary"
           }
          ],
          "surface": [
           {
            "colorbar": {
             "outlinewidth": 0,
             "ticks": ""
            },
            "colorscale": [
             [
              0,
              "#0d0887"
             ],
             [
              0.1111111111111111,
              "#46039f"
             ],
             [
              0.2222222222222222,
              "#7201a8"
             ],
             [
              0.3333333333333333,
              "#9c179e"
             ],
             [
              0.4444444444444444,
              "#bd3786"
             ],
             [
              0.5555555555555556,
              "#d8576b"
             ],
             [
              0.6666666666666666,
              "#ed7953"
             ],
             [
              0.7777777777777778,
              "#fb9f3a"
             ],
             [
              0.8888888888888888,
              "#fdca26"
             ],
             [
              1,
              "#f0f921"
             ]
            ],
            "type": "surface"
           }
          ],
          "table": [
           {
            "cells": {
             "fill": {
              "color": "#EBF0F8"
             },
             "line": {
              "color": "white"
             }
            },
            "header": {
             "fill": {
              "color": "#C8D4E3"
             },
             "line": {
              "color": "white"
             }
            },
            "type": "table"
           }
          ]
         },
         "layout": {
          "annotationdefaults": {
           "arrowcolor": "#2a3f5f",
           "arrowhead": 0,
           "arrowwidth": 1
          },
          "autotypenumbers": "strict",
          "coloraxis": {
           "colorbar": {
            "outlinewidth": 0,
            "ticks": ""
           }
          },
          "colorscale": {
           "diverging": [
            [
             0,
             "#8e0152"
            ],
            [
             0.1,
             "#c51b7d"
            ],
            [
             0.2,
             "#de77ae"
            ],
            [
             0.3,
             "#f1b6da"
            ],
            [
             0.4,
             "#fde0ef"
            ],
            [
             0.5,
             "#f7f7f7"
            ],
            [
             0.6,
             "#e6f5d0"
            ],
            [
             0.7,
             "#b8e186"
            ],
            [
             0.8,
             "#7fbc41"
            ],
            [
             0.9,
             "#4d9221"
            ],
            [
             1,
             "#276419"
            ]
           ],
           "sequential": [
            [
             0,
             "#0d0887"
            ],
            [
             0.1111111111111111,
             "#46039f"
            ],
            [
             0.2222222222222222,
             "#7201a8"
            ],
            [
             0.3333333333333333,
             "#9c179e"
            ],
            [
             0.4444444444444444,
             "#bd3786"
            ],
            [
             0.5555555555555556,
             "#d8576b"
            ],
            [
             0.6666666666666666,
             "#ed7953"
            ],
            [
             0.7777777777777778,
             "#fb9f3a"
            ],
            [
             0.8888888888888888,
             "#fdca26"
            ],
            [
             1,
             "#f0f921"
            ]
           ],
           "sequentialminus": [
            [
             0,
             "#0d0887"
            ],
            [
             0.1111111111111111,
             "#46039f"
            ],
            [
             0.2222222222222222,
             "#7201a8"
            ],
            [
             0.3333333333333333,
             "#9c179e"
            ],
            [
             0.4444444444444444,
             "#bd3786"
            ],
            [
             0.5555555555555556,
             "#d8576b"
            ],
            [
             0.6666666666666666,
             "#ed7953"
            ],
            [
             0.7777777777777778,
             "#fb9f3a"
            ],
            [
             0.8888888888888888,
             "#fdca26"
            ],
            [
             1,
             "#f0f921"
            ]
           ]
          },
          "colorway": [
           "#636efa",
           "#EF553B",
           "#00cc96",
           "#ab63fa",
           "#FFA15A",
           "#19d3f3",
           "#FF6692",
           "#B6E880",
           "#FF97FF",
           "#FECB52"
          ],
          "font": {
           "color": "#2a3f5f"
          },
          "geo": {
           "bgcolor": "white",
           "lakecolor": "white",
           "landcolor": "white",
           "showlakes": true,
           "showland": true,
           "subunitcolor": "#C8D4E3"
          },
          "hoverlabel": {
           "align": "left"
          },
          "hovermode": "closest",
          "mapbox": {
           "style": "light"
          },
          "paper_bgcolor": "white",
          "plot_bgcolor": "white",
          "polar": {
           "angularaxis": {
            "gridcolor": "#EBF0F8",
            "linecolor": "#EBF0F8",
            "ticks": ""
           },
           "bgcolor": "white",
           "radialaxis": {
            "gridcolor": "#EBF0F8",
            "linecolor": "#EBF0F8",
            "ticks": ""
           }
          },
          "scene": {
           "xaxis": {
            "backgroundcolor": "white",
            "gridcolor": "#DFE8F3",
            "gridwidth": 2,
            "linecolor": "#EBF0F8",
            "showbackground": true,
            "ticks": "",
            "zerolinecolor": "#EBF0F8"
           },
           "yaxis": {
            "backgroundcolor": "white",
            "gridcolor": "#DFE8F3",
            "gridwidth": 2,
            "linecolor": "#EBF0F8",
            "showbackground": true,
            "ticks": "",
            "zerolinecolor": "#EBF0F8"
           },
           "zaxis": {
            "backgroundcolor": "white",
            "gridcolor": "#DFE8F3",
            "gridwidth": 2,
            "linecolor": "#EBF0F8",
            "showbackground": true,
            "ticks": "",
            "zerolinecolor": "#EBF0F8"
           }
          },
          "shapedefaults": {
           "line": {
            "color": "#2a3f5f"
           }
          },
          "ternary": {
           "aaxis": {
            "gridcolor": "#DFE8F3",
            "linecolor": "#A2B1C6",
            "ticks": ""
           },
           "baxis": {
            "gridcolor": "#DFE8F3",
            "linecolor": "#A2B1C6",
            "ticks": ""
           },
           "bgcolor": "white",
           "caxis": {
            "gridcolor": "#DFE8F3",
            "linecolor": "#A2B1C6",
            "ticks": ""
           }
          },
          "title": {
           "x": 0.05
          },
          "xaxis": {
           "automargin": true,
           "gridcolor": "#EBF0F8",
           "linecolor": "#EBF0F8",
           "ticks": "",
           "title": {
            "standoff": 15
           },
           "zerolinecolor": "#EBF0F8",
           "zerolinewidth": 2
          },
          "yaxis": {
           "automargin": true,
           "gridcolor": "#EBF0F8",
           "linecolor": "#EBF0F8",
           "ticks": "",
           "title": {
            "standoff": 15
           },
           "zerolinecolor": "#EBF0F8",
           "zerolinewidth": 2
          }
         }
        },
        "title": {
         "text": "Breakdown — pmin  (target=0.00, achieved=0.000, source=train)"
        },
        "xaxis": {
         "title": {
          "text": "contribution"
         }
        },
        "yaxis": {
         "categoryarray": [
          "intercept",
          "compactness_error = 0.01084",
          "worst_smoothness = 0.1584",
          "mean_compactness = 0.07568",
          "worst_symmetry = 0.2932",
          "texture_error = 1.508",
          "symmetry_error = 0.02659",
          "worst_concavity = 0.0",
          "worst_area = 185.2",
          "worst_texture = 19.54",
          "concave_points_error = 0.0",
          "mean_concave_points = 0.0",
          "area_error = 9.833",
          "prediction"
         ],
         "categoryorder": "array"
        }
       }
      }
     },
     "metadata": {},
     "output_type": "display_data"
    }
   ],
   "source": [
    "# Break Down: prob ≈ 0.00 (pmin)\n",
    "label = \"pmin\"\n",
    "obs   = obs_for_breakdown[label]\n",
    "bd    = explainer.predict_parts(new_observation=obs, type=\"break_down\", keep_distributions=True)\n",
    "\n",
    "meta  = selected_df[selected_df[\"selection_label\"] == label].iloc[0]\n",
    "title = (f\"Breakdown — {label}  (target={meta['target_p']:.2f}, \"\n",
    "         f\"achieved={meta['achieved_p']:.3f}, source={meta['source']})\")\n",
    "\n",
    "print(bd.result[[\"variable\",\"variable_value\",\"contribution\",\"cumulative\"]])\n",
    "\n",
    "fig = plot_breakdown_from_bd(bd, title=title)\n",
    "fig.show()\n"
   ]
  },
  {
   "cell_type": "markdown",
   "id": "41f79cc7",
   "metadata": {},
   "source": [
    "### 🔍 Breakdown — amostra **p_min** (prob. prevista ≈ **0,00**)\n",
    "\n",
    "Vamos interpretar o gráfico de **Breakdown** para a amostra **pmin** (aquela com **probabilidade prevista ≈ 0**). O gráfico mostra um \"**caminho de contribuições**\" (waterfall) que parte do **intercepto** e soma os efeitos de cada variável até chegar à probabilidade final.\n",
    "\n",
    "### Como ler\n",
    "\n",
    "* **Barra vermelha (intercept)**: ponto de partida do modelo (**~0,381**).\n",
    "* **Barras verdes**: **diminuem** a probabilidade final (empurram para Benigno).\n",
    "* **Barras vermelhas**: **aumentam** a probabilidade (empurram para Maligno).\n",
    "* O eixo x mostra a **probabilidade cumulativa** após cada passo.\n",
    "\n",
    "### Passo a passo (principais destaques)\n",
    "\n",
    "1. **Intercepto ~ 0,381 → 0,432**\n",
    "   Pequenos **empurrões para cima** (malignidade) vindos de:\n",
    "\n",
    "   * `compactness_error = 0.01084` (+0,050)\n",
    "   * `worst_smoothness = 0.1584` (+0,027)\n",
    "   * `mean_compactness = 0.07568` (+0,019)\n",
    "   * `worst_symmetry = 0.2932` (+0,019)\n",
    "     Esses valores, um pouco mais altos, **puxam levemente** para Maligno.\n",
    "\n",
    "2. **Virada para baixo (predomínio de sinais de benignidade)**\n",
    "   Em seguida aparecem efeitos **negativos** (verde) que **reduzem fortemente** a probabilidade:\n",
    "\n",
    "   * `texture_error = 1.508` (−0,022) e `symmetry_error = 0.02659` (−0,023) já começam a puxar para baixo.\n",
    "   * **Grandes quedas** vêm de atributos **muito baixos** em medidas críticas:\n",
    "\n",
    "     * `worst_concavity = 0.0` (−0,089)\n",
    "     * `worst_area = 185.2` (baixo) (−0,103)\n",
    "     * `worst_texture = 19.54` (baixo) (−0,129)\n",
    "     * `concave_points_error = 0.0` (−0,117)\n",
    "     * `mean_concave_points = 0.0` (−0,012)\n",
    "\n",
    "3. **Fechamento em ~0**\n",
    "\n",
    "   * `area_error = 9.833` finaliza a descida (contribuição residual) e a probabilidade **colapsa para ~0**.\n",
    "\n",
    "### Interpretação clínica/modelo\n",
    "\n",
    "* Esta amostra exibe **valores muito baixos** nas variáveis que, quando **altas**, caracterizam **malignidade** (`worst_area`, `worst_texture`, `worst_concavity`, `mean_concave_points`, `concave_points_error`).\n",
    "* Apesar de **pequenos sinais pró-malignidade** relacionados a **smoothness/compactness/symmetry**, eles **não são suficientes** para contrabalançar a **forte evidência de benignidade** nas medidas de **área/texture/concavidade**.\n",
    "* Resultado coerente com os **PDPs** e com os **coeficientes da LR_L2**: aumentos nessas variáveis \"de pior caso\" elevam o risco; aqui, como estão **baixas ou zero**, a previsão é **Benigno com prob. ~0**.\n"
   ]
  },
  {
   "cell_type": "code",
   "execution_count": 10,
   "id": "4c480716",
   "metadata": {},
   "outputs": [
    {
     "name": "stdout",
     "output_type": "stream",
     "text": [
      "                          variable variable_value  contribution  cumulative\n",
      "0                        intercept                     0.381416    0.381416\n",
      "1               area_error = 42.76          42.76      0.114753    0.496169\n",
      "2    mean_concave_points = 0.07064        0.07064      0.227842    0.724011\n",
      "3           texture_error = 0.7372         0.7372      0.070535    0.794546\n",
      "4   concave_points_error = 0.01623        0.01623      0.076741    0.871287\n",
      "5          worst_symmetry = 0.3151         0.3151      0.043841    0.915128\n",
      "6         worst_concavity = 0.2604         0.2604      0.010307    0.925436\n",
      "7               worst_area = 803.6          803.6      0.012823    0.938259\n",
      "8        worst_smoothness = 0.1277         0.1277     -0.001908    0.936351\n",
      "9         symmetry_error = 0.02427        0.02427     -0.003051    0.933300\n",
      "10       mean_compactness = 0.1339         0.1339     -0.016237    0.917063\n",
      "11     compactness_error = 0.04412        0.04412     -0.137621    0.779442\n",
      "12           worst_texture = 18.24          18.24     -0.603135    0.176307\n",
      "13                      prediction                     0.176307    0.176307\n"
     ]
    },
    {
     "data": {
      "application/vnd.plotly.v1+json": {
       "config": {
        "plotlyServerURL": "https://plot.ly"
       },
       "data": [
        {
         "connector": {
          "line": {
           "color": "rgb(90,90,90)"
          }
         },
         "customdata": [
          [
           0.3814162342332193,
           0,
           0.3814162342332193
          ],
          [
           0.11475274225589127,
           0.3814162342332193,
           0.49616897648911057
          ],
          [
           0.2278419072337448,
           0.49616897648911057,
           0.7240108837228554
          ],
          [
           0.07053521661078654,
           0.7240108837228554,
           0.7945461003336419
          ],
          [
           0.07674127612625481,
           0.7945461003336419,
           0.8712873764598967
          ],
          [
           0.04384100938286062,
           0.8712873764598967,
           0.9151283858427574
          ],
          [
           0.010307284511509529,
           0.9151283858427574,
           0.9254356703542669
          ],
          [
           0.012823002511655801,
           0.9254356703542669,
           0.9382586728659227
          ],
          [
           -0.0019077109563979677,
           0.9382586728659227,
           0.9363509619095247
          ],
          [
           -0.0030512185802329395,
           0.9363509619095247,
           0.9332997433292918
          ],
          [
           -0.01623662812704718,
           0.9332997433292918,
           0.9170631152022446
          ],
          [
           -0.13762110489855506,
           0.9170631152022446,
           0.7794420103036895
          ],
          [
           -0.6031352573322745,
           0.7794420103036895,
           0.17630675297141507
          ],
          [
           0.17630675297141502,
           0,
           0.17630675297141502
          ]
         ],
         "decreasing": {
          "marker": {
           "color": "seagreen"
          }
         },
         "hovertemplate": "%{y}<br>contribution (Δ): %{customdata[0]:.3f}<br>cum. before: %{customdata[1]:.3f}<br>cum. after: %{customdata[2]:.3f}<extra></extra>",
         "increasing": {
          "marker": {
           "color": "crimson"
          }
         },
         "measure": [
          "relative",
          "relative",
          "relative",
          "relative",
          "relative",
          "relative",
          "relative",
          "relative",
          "relative",
          "relative",
          "relative",
          "relative",
          "relative",
          "total"
         ],
         "orientation": "h",
         "text": [
          "+0.381",
          "+0.115",
          "+0.228",
          "+0.071",
          "+0.077",
          "+0.044",
          "+0.010",
          "+0.013",
          "-0.002",
          "-0.003",
          "-0.016",
          "-0.138",
          "-0.603",
          "+0.176"
         ],
         "textposition": "outside",
         "totals": {
          "marker": {
           "color": "royalblue"
          }
         },
         "type": "waterfall",
         "x": [
          0.3814162342332193,
          0.11475274225589127,
          0.2278419072337448,
          0.07053521661078654,
          0.07674127612625481,
          0.04384100938286062,
          0.010307284511509529,
          0.012823002511655801,
          -0.0019077109563979677,
          -0.0030512185802329395,
          -0.01623662812704718,
          -0.13762110489855506,
          -0.6031352573322745,
          0.17630675297141502
         ],
         "y": [
          "intercept",
          "area_error = 42.76",
          "mean_concave_points = 0.07064",
          "texture_error = 0.7372",
          "concave_points_error = 0.01623",
          "worst_symmetry = 0.3151",
          "worst_concavity = 0.2604",
          "worst_area = 803.6",
          "worst_smoothness = 0.1277",
          "symmetry_error = 0.02427",
          "mean_compactness = 0.1339",
          "compactness_error = 0.04412",
          "worst_texture = 18.24",
          "prediction"
         ]
        }
       ],
       "layout": {
        "hovermode": "closest",
        "margin": {
         "b": 40,
         "l": 10,
         "r": 10,
         "t": 70
        },
        "shapes": [
         {
          "layer": "below",
          "line": {
           "color": "rgb(90,90,90)",
           "dash": "dot",
           "width": 1.5
          },
          "type": "line",
          "x0": 0.3814162342332193,
          "x1": 0.3814162342332193,
          "y0": 0,
          "y1": 1,
          "yref": "paper"
         }
        ],
        "showlegend": false,
        "template": {
         "data": {
          "bar": [
           {
            "error_x": {
             "color": "#2a3f5f"
            },
            "error_y": {
             "color": "#2a3f5f"
            },
            "marker": {
             "line": {
              "color": "white",
              "width": 0.5
             },
             "pattern": {
              "fillmode": "overlay",
              "size": 10,
              "solidity": 0.2
             }
            },
            "type": "bar"
           }
          ],
          "barpolar": [
           {
            "marker": {
             "line": {
              "color": "white",
              "width": 0.5
             },
             "pattern": {
              "fillmode": "overlay",
              "size": 10,
              "solidity": 0.2
             }
            },
            "type": "barpolar"
           }
          ],
          "carpet": [
           {
            "aaxis": {
             "endlinecolor": "#2a3f5f",
             "gridcolor": "#C8D4E3",
             "linecolor": "#C8D4E3",
             "minorgridcolor": "#C8D4E3",
             "startlinecolor": "#2a3f5f"
            },
            "baxis": {
             "endlinecolor": "#2a3f5f",
             "gridcolor": "#C8D4E3",
             "linecolor": "#C8D4E3",
             "minorgridcolor": "#C8D4E3",
             "startlinecolor": "#2a3f5f"
            },
            "type": "carpet"
           }
          ],
          "choropleth": [
           {
            "colorbar": {
             "outlinewidth": 0,
             "ticks": ""
            },
            "type": "choropleth"
           }
          ],
          "contour": [
           {
            "colorbar": {
             "outlinewidth": 0,
             "ticks": ""
            },
            "colorscale": [
             [
              0,
              "#0d0887"
             ],
             [
              0.1111111111111111,
              "#46039f"
             ],
             [
              0.2222222222222222,
              "#7201a8"
             ],
             [
              0.3333333333333333,
              "#9c179e"
             ],
             [
              0.4444444444444444,
              "#bd3786"
             ],
             [
              0.5555555555555556,
              "#d8576b"
             ],
             [
              0.6666666666666666,
              "#ed7953"
             ],
             [
              0.7777777777777778,
              "#fb9f3a"
             ],
             [
              0.8888888888888888,
              "#fdca26"
             ],
             [
              1,
              "#f0f921"
             ]
            ],
            "type": "contour"
           }
          ],
          "contourcarpet": [
           {
            "colorbar": {
             "outlinewidth": 0,
             "ticks": ""
            },
            "type": "contourcarpet"
           }
          ],
          "heatmap": [
           {
            "colorbar": {
             "outlinewidth": 0,
             "ticks": ""
            },
            "colorscale": [
             [
              0,
              "#0d0887"
             ],
             [
              0.1111111111111111,
              "#46039f"
             ],
             [
              0.2222222222222222,
              "#7201a8"
             ],
             [
              0.3333333333333333,
              "#9c179e"
             ],
             [
              0.4444444444444444,
              "#bd3786"
             ],
             [
              0.5555555555555556,
              "#d8576b"
             ],
             [
              0.6666666666666666,
              "#ed7953"
             ],
             [
              0.7777777777777778,
              "#fb9f3a"
             ],
             [
              0.8888888888888888,
              "#fdca26"
             ],
             [
              1,
              "#f0f921"
             ]
            ],
            "type": "heatmap"
           }
          ],
          "heatmapgl": [
           {
            "colorbar": {
             "outlinewidth": 0,
             "ticks": ""
            },
            "colorscale": [
             [
              0,
              "#0d0887"
             ],
             [
              0.1111111111111111,
              "#46039f"
             ],
             [
              0.2222222222222222,
              "#7201a8"
             ],
             [
              0.3333333333333333,
              "#9c179e"
             ],
             [
              0.4444444444444444,
              "#bd3786"
             ],
             [
              0.5555555555555556,
              "#d8576b"
             ],
             [
              0.6666666666666666,
              "#ed7953"
             ],
             [
              0.7777777777777778,
              "#fb9f3a"
             ],
             [
              0.8888888888888888,
              "#fdca26"
             ],
             [
              1,
              "#f0f921"
             ]
            ],
            "type": "heatmapgl"
           }
          ],
          "histogram": [
           {
            "marker": {
             "pattern": {
              "fillmode": "overlay",
              "size": 10,
              "solidity": 0.2
             }
            },
            "type": "histogram"
           }
          ],
          "histogram2d": [
           {
            "colorbar": {
             "outlinewidth": 0,
             "ticks": ""
            },
            "colorscale": [
             [
              0,
              "#0d0887"
             ],
             [
              0.1111111111111111,
              "#46039f"
             ],
             [
              0.2222222222222222,
              "#7201a8"
             ],
             [
              0.3333333333333333,
              "#9c179e"
             ],
             [
              0.4444444444444444,
              "#bd3786"
             ],
             [
              0.5555555555555556,
              "#d8576b"
             ],
             [
              0.6666666666666666,
              "#ed7953"
             ],
             [
              0.7777777777777778,
              "#fb9f3a"
             ],
             [
              0.8888888888888888,
              "#fdca26"
             ],
             [
              1,
              "#f0f921"
             ]
            ],
            "type": "histogram2d"
           }
          ],
          "histogram2dcontour": [
           {
            "colorbar": {
             "outlinewidth": 0,
             "ticks": ""
            },
            "colorscale": [
             [
              0,
              "#0d0887"
             ],
             [
              0.1111111111111111,
              "#46039f"
             ],
             [
              0.2222222222222222,
              "#7201a8"
             ],
             [
              0.3333333333333333,
              "#9c179e"
             ],
             [
              0.4444444444444444,
              "#bd3786"
             ],
             [
              0.5555555555555556,
              "#d8576b"
             ],
             [
              0.6666666666666666,
              "#ed7953"
             ],
             [
              0.7777777777777778,
              "#fb9f3a"
             ],
             [
              0.8888888888888888,
              "#fdca26"
             ],
             [
              1,
              "#f0f921"
             ]
            ],
            "type": "histogram2dcontour"
           }
          ],
          "mesh3d": [
           {
            "colorbar": {
             "outlinewidth": 0,
             "ticks": ""
            },
            "type": "mesh3d"
           }
          ],
          "parcoords": [
           {
            "line": {
             "colorbar": {
              "outlinewidth": 0,
              "ticks": ""
             }
            },
            "type": "parcoords"
           }
          ],
          "pie": [
           {
            "automargin": true,
            "type": "pie"
           }
          ],
          "scatter": [
           {
            "fillpattern": {
             "fillmode": "overlay",
             "size": 10,
             "solidity": 0.2
            },
            "type": "scatter"
           }
          ],
          "scatter3d": [
           {
            "line": {
             "colorbar": {
              "outlinewidth": 0,
              "ticks": ""
             }
            },
            "marker": {
             "colorbar": {
              "outlinewidth": 0,
              "ticks": ""
             }
            },
            "type": "scatter3d"
           }
          ],
          "scattercarpet": [
           {
            "marker": {
             "colorbar": {
              "outlinewidth": 0,
              "ticks": ""
             }
            },
            "type": "scattercarpet"
           }
          ],
          "scattergeo": [
           {
            "marker": {
             "colorbar": {
              "outlinewidth": 0,
              "ticks": ""
             }
            },
            "type": "scattergeo"
           }
          ],
          "scattergl": [
           {
            "marker": {
             "colorbar": {
              "outlinewidth": 0,
              "ticks": ""
             }
            },
            "type": "scattergl"
           }
          ],
          "scattermapbox": [
           {
            "marker": {
             "colorbar": {
              "outlinewidth": 0,
              "ticks": ""
             }
            },
            "type": "scattermapbox"
           }
          ],
          "scatterpolar": [
           {
            "marker": {
             "colorbar": {
              "outlinewidth": 0,
              "ticks": ""
             }
            },
            "type": "scatterpolar"
           }
          ],
          "scatterpolargl": [
           {
            "marker": {
             "colorbar": {
              "outlinewidth": 0,
              "ticks": ""
             }
            },
            "type": "scatterpolargl"
           }
          ],
          "scatterternary": [
           {
            "marker": {
             "colorbar": {
              "outlinewidth": 0,
              "ticks": ""
             }
            },
            "type": "scatterternary"
           }
          ],
          "surface": [
           {
            "colorbar": {
             "outlinewidth": 0,
             "ticks": ""
            },
            "colorscale": [
             [
              0,
              "#0d0887"
             ],
             [
              0.1111111111111111,
              "#46039f"
             ],
             [
              0.2222222222222222,
              "#7201a8"
             ],
             [
              0.3333333333333333,
              "#9c179e"
             ],
             [
              0.4444444444444444,
              "#bd3786"
             ],
             [
              0.5555555555555556,
              "#d8576b"
             ],
             [
              0.6666666666666666,
              "#ed7953"
             ],
             [
              0.7777777777777778,
              "#fb9f3a"
             ],
             [
              0.8888888888888888,
              "#fdca26"
             ],
             [
              1,
              "#f0f921"
             ]
            ],
            "type": "surface"
           }
          ],
          "table": [
           {
            "cells": {
             "fill": {
              "color": "#EBF0F8"
             },
             "line": {
              "color": "white"
             }
            },
            "header": {
             "fill": {
              "color": "#C8D4E3"
             },
             "line": {
              "color": "white"
             }
            },
            "type": "table"
           }
          ]
         },
         "layout": {
          "annotationdefaults": {
           "arrowcolor": "#2a3f5f",
           "arrowhead": 0,
           "arrowwidth": 1
          },
          "autotypenumbers": "strict",
          "coloraxis": {
           "colorbar": {
            "outlinewidth": 0,
            "ticks": ""
           }
          },
          "colorscale": {
           "diverging": [
            [
             0,
             "#8e0152"
            ],
            [
             0.1,
             "#c51b7d"
            ],
            [
             0.2,
             "#de77ae"
            ],
            [
             0.3,
             "#f1b6da"
            ],
            [
             0.4,
             "#fde0ef"
            ],
            [
             0.5,
             "#f7f7f7"
            ],
            [
             0.6,
             "#e6f5d0"
            ],
            [
             0.7,
             "#b8e186"
            ],
            [
             0.8,
             "#7fbc41"
            ],
            [
             0.9,
             "#4d9221"
            ],
            [
             1,
             "#276419"
            ]
           ],
           "sequential": [
            [
             0,
             "#0d0887"
            ],
            [
             0.1111111111111111,
             "#46039f"
            ],
            [
             0.2222222222222222,
             "#7201a8"
            ],
            [
             0.3333333333333333,
             "#9c179e"
            ],
            [
             0.4444444444444444,
             "#bd3786"
            ],
            [
             0.5555555555555556,
             "#d8576b"
            ],
            [
             0.6666666666666666,
             "#ed7953"
            ],
            [
             0.7777777777777778,
             "#fb9f3a"
            ],
            [
             0.8888888888888888,
             "#fdca26"
            ],
            [
             1,
             "#f0f921"
            ]
           ],
           "sequentialminus": [
            [
             0,
             "#0d0887"
            ],
            [
             0.1111111111111111,
             "#46039f"
            ],
            [
             0.2222222222222222,
             "#7201a8"
            ],
            [
             0.3333333333333333,
             "#9c179e"
            ],
            [
             0.4444444444444444,
             "#bd3786"
            ],
            [
             0.5555555555555556,
             "#d8576b"
            ],
            [
             0.6666666666666666,
             "#ed7953"
            ],
            [
             0.7777777777777778,
             "#fb9f3a"
            ],
            [
             0.8888888888888888,
             "#fdca26"
            ],
            [
             1,
             "#f0f921"
            ]
           ]
          },
          "colorway": [
           "#636efa",
           "#EF553B",
           "#00cc96",
           "#ab63fa",
           "#FFA15A",
           "#19d3f3",
           "#FF6692",
           "#B6E880",
           "#FF97FF",
           "#FECB52"
          ],
          "font": {
           "color": "#2a3f5f"
          },
          "geo": {
           "bgcolor": "white",
           "lakecolor": "white",
           "landcolor": "white",
           "showlakes": true,
           "showland": true,
           "subunitcolor": "#C8D4E3"
          },
          "hoverlabel": {
           "align": "left"
          },
          "hovermode": "closest",
          "mapbox": {
           "style": "light"
          },
          "paper_bgcolor": "white",
          "plot_bgcolor": "white",
          "polar": {
           "angularaxis": {
            "gridcolor": "#EBF0F8",
            "linecolor": "#EBF0F8",
            "ticks": ""
           },
           "bgcolor": "white",
           "radialaxis": {
            "gridcolor": "#EBF0F8",
            "linecolor": "#EBF0F8",
            "ticks": ""
           }
          },
          "scene": {
           "xaxis": {
            "backgroundcolor": "white",
            "gridcolor": "#DFE8F3",
            "gridwidth": 2,
            "linecolor": "#EBF0F8",
            "showbackground": true,
            "ticks": "",
            "zerolinecolor": "#EBF0F8"
           },
           "yaxis": {
            "backgroundcolor": "white",
            "gridcolor": "#DFE8F3",
            "gridwidth": 2,
            "linecolor": "#EBF0F8",
            "showbackground": true,
            "ticks": "",
            "zerolinecolor": "#EBF0F8"
           },
           "zaxis": {
            "backgroundcolor": "white",
            "gridcolor": "#DFE8F3",
            "gridwidth": 2,
            "linecolor": "#EBF0F8",
            "showbackground": true,
            "ticks": "",
            "zerolinecolor": "#EBF0F8"
           }
          },
          "shapedefaults": {
           "line": {
            "color": "#2a3f5f"
           }
          },
          "ternary": {
           "aaxis": {
            "gridcolor": "#DFE8F3",
            "linecolor": "#A2B1C6",
            "ticks": ""
           },
           "baxis": {
            "gridcolor": "#DFE8F3",
            "linecolor": "#A2B1C6",
            "ticks": ""
           },
           "bgcolor": "white",
           "caxis": {
            "gridcolor": "#DFE8F3",
            "linecolor": "#A2B1C6",
            "ticks": ""
           }
          },
          "title": {
           "x": 0.05
          },
          "xaxis": {
           "automargin": true,
           "gridcolor": "#EBF0F8",
           "linecolor": "#EBF0F8",
           "ticks": "",
           "title": {
            "standoff": 15
           },
           "zerolinecolor": "#EBF0F8",
           "zerolinewidth": 2
          },
          "yaxis": {
           "automargin": true,
           "gridcolor": "#EBF0F8",
           "linecolor": "#EBF0F8",
           "ticks": "",
           "title": {
            "standoff": 15
           },
           "zerolinecolor": "#EBF0F8",
           "zerolinewidth": 2
          }
         }
        },
        "title": {
         "text": "Breakdown — p_0.20  (target=0.20, achieved=0.176, source=train)"
        },
        "xaxis": {
         "title": {
          "text": "contribution"
         }
        },
        "yaxis": {
         "categoryarray": [
          "intercept",
          "area_error = 42.76",
          "mean_concave_points = 0.07064",
          "texture_error = 0.7372",
          "concave_points_error = 0.01623",
          "worst_symmetry = 0.3151",
          "worst_concavity = 0.2604",
          "worst_area = 803.6",
          "worst_smoothness = 0.1277",
          "symmetry_error = 0.02427",
          "mean_compactness = 0.1339",
          "compactness_error = 0.04412",
          "worst_texture = 18.24",
          "prediction"
         ],
         "categoryorder": "array"
        }
       }
      }
     },
     "metadata": {},
     "output_type": "display_data"
    }
   ],
   "source": [
    "# Break Down: prob ≈ 0.20\n",
    "label = \"p_0.20\"\n",
    "obs   = obs_for_breakdown[label]\n",
    "bd    = explainer.predict_parts(new_observation=obs, type=\"break_down\", keep_distributions=True)\n",
    "\n",
    "meta  = selected_df[selected_df[\"selection_label\"] == label].iloc[0]\n",
    "title = (f\"Breakdown — {label}  (target={meta['target_p']:.2f}, \"\n",
    "         f\"achieved={meta['achieved_p']:.3f}, source={meta['source']})\")\n",
    "\n",
    "print(bd.result[[\"variable\",\"variable_value\",\"contribution\",\"cumulative\"]])\n",
    "\n",
    "fig = plot_breakdown_from_bd(bd, title=title)\n",
    "fig.show()"
   ]
  },
  {
   "cell_type": "markdown",
   "id": "9457a8e9",
   "metadata": {},
   "source": [
    "### 🔍 Breakdown — amostra **p_0.20** (prob. final ≈ **0,176**)\n",
    "\n",
    "**Resumo em uma frase:** havia um forte acúmulo de evidências pró-maligno (subiu até ~**0,94**), mas **duas variáveis puxaram muito para baixo** — principalmente **`worst_texture`** (muito baixa) e, em menor grau, **`compactness_error`** — levando a probabilidade final para ~**0,20** (benigno).\n",
    "\n",
    "\n",
    "**Subidas iniciais (pró-Maligno)**\n",
    "\n",
    "* **Intercepto → 0,381** (ponto de partida).\n",
    "* **`area_error = 42.76` (+0,115)**: eleva o risco — erros de área maiores costumam indicar irregularidade.\n",
    "* **`mean_concave_points = 0.0706` (+0,228)**: forte empurrão; mais *concave points* médios associam-se a malignidade.\n",
    "* **`texture_error = 0.737` (+0,071)** e **`concave_points_error = 0.0162` (+0,077)**: reforçam o movimento de alta.\n",
    "* **`worst_symmetry = 0.315` (+0,044)** e **`worst_concavity = 0.260` (+0,010)**: contribuições positivas adicionais.\n",
    "* **`worst_area = 804` (+0,013)**: \"pior área\" elevada também puxa para cima.\n",
    "\n",
    "**Freios (pró-Benigno) — virada para baixo**\n",
    "\n",
    "* **`compactness_error = 0.044` (−0,138)** e **`mean_compactness = 0.134` (−0,016)**: erros/níveis de *compactness* atenuam o risco acumulado.\n",
    "* **`worst_texture = 18.24` (−0,603)**: **ponto de inflexão** — valor baixo de *worst texture* derruba o score e domina o balanço final.\n",
    "* Pequenos ajustes negativos: **`worst_smoothness = 0.128` (−0,002)** e **`symmetry_error = 0.024` (−0,003)**.\n",
    "\n",
    "### Por que termina em ~0,176?\n",
    "\n",
    "Apesar de vários sinais pró-malignidade (principalmente **`mean_concave_points`** e **`area_error`**), a combinação **`compactness_error`** moderado e, sobretudo, **`worst_texture` muito baixo** **supera** os empurrões positivos. O resultado final fica **abaixo de 0,2**, classificando como **Benigno** nesse limiar."
   ]
  },
  {
   "cell_type": "code",
   "execution_count": 11,
   "id": "05d14c2f",
   "metadata": {},
   "outputs": [
    {
     "name": "stdout",
     "output_type": "stream",
     "text": [
      "                           variable variable_value  contribution  cumulative\n",
      "0                         intercept                     0.381416    0.381416\n",
      "1             worst_texture = 30.25          30.25      0.077719    0.459135\n",
      "2       compactness_error = 0.01102        0.01102      0.061721    0.520856\n",
      "3        mean_compactness = 0.06031        0.06031      0.041990    0.562845\n",
      "4            texture_error = 0.8265         0.8265      0.030110    0.592956\n",
      "5           symmetry_error = 0.0138         0.0138      0.026824    0.619780\n",
      "6           worst_symmetry = 0.2994         0.2994      0.027321    0.647101\n",
      "7                worst_area = 787.9          787.9      0.035904    0.683005\n",
      "8          worst_concavity = 0.2085         0.2085      0.028877    0.711883\n",
      "9         worst_smoothness = 0.1094         0.1094     -0.022050    0.689832\n",
      "10  concave_points_error = 0.006881       0.006881     -0.037808    0.652024\n",
      "11               area_error = 20.53          20.53      0.018274    0.670298\n",
      "12    mean_concave_points = 0.02031        0.02031     -0.289343    0.380954\n",
      "13                       prediction                     0.380954    0.380954\n"
     ]
    },
    {
     "data": {
      "application/vnd.plotly.v1+json": {
       "config": {
        "plotlyServerURL": "https://plot.ly"
       },
       "data": [
        {
         "connector": {
          "line": {
           "color": "rgb(90,90,90)"
          }
         },
         "customdata": [
          [
           0.3814162342332193,
           0,
           0.3814162342332193
          ],
          [
           0.07771863074225599,
           0.3814162342332193,
           0.4591348649754753
          ],
          [
           0.06172087644843882,
           0.4591348649754753,
           0.5208557414239141
          ],
          [
           0.041989585852633016,
           0.5208557414239141,
           0.5628453272765471
          ],
          [
           0.03011026594098165,
           0.5628453272765471,
           0.5929555932175288
          ],
          [
           0.026824406131612744,
           0.5929555932175288,
           0.6197799993491415
          ],
          [
           0.027321257960127077,
           0.6197799993491415,
           0.6471012573092686
          ],
          [
           0.03590409953129614,
           0.6471012573092686,
           0.6830053568405647
          ],
          [
           0.02887732888406469,
           0.6830053568405647,
           0.7118826857246294
          ],
          [
           -0.022050352920203298,
           0.7118826857246294,
           0.6898323328044261
          ],
          [
           -0.03780829266043484,
           0.6898323328044261,
           0.6520240401439913
          ],
          [
           0.01827382399730182,
           0.6520240401439913,
           0.6702978641412931
          ],
          [
           -0.2893433737456718,
           0.6702978641412931,
           0.3809544903956213
          ],
          [
           0.38095449039562135,
           0,
           0.38095449039562135
          ]
         ],
         "decreasing": {
          "marker": {
           "color": "seagreen"
          }
         },
         "hovertemplate": "%{y}<br>contribution (Δ): %{customdata[0]:.3f}<br>cum. before: %{customdata[1]:.3f}<br>cum. after: %{customdata[2]:.3f}<extra></extra>",
         "increasing": {
          "marker": {
           "color": "crimson"
          }
         },
         "measure": [
          "relative",
          "relative",
          "relative",
          "relative",
          "relative",
          "relative",
          "relative",
          "relative",
          "relative",
          "relative",
          "relative",
          "relative",
          "relative",
          "total"
         ],
         "orientation": "h",
         "text": [
          "+0.381",
          "+0.078",
          "+0.062",
          "+0.042",
          "+0.030",
          "+0.027",
          "+0.027",
          "+0.036",
          "+0.029",
          "-0.022",
          "-0.038",
          "+0.018",
          "-0.289",
          "+0.381"
         ],
         "textposition": "outside",
         "totals": {
          "marker": {
           "color": "royalblue"
          }
         },
         "type": "waterfall",
         "x": [
          0.3814162342332193,
          0.07771863074225599,
          0.06172087644843882,
          0.041989585852633016,
          0.03011026594098165,
          0.026824406131612744,
          0.027321257960127077,
          0.03590409953129614,
          0.02887732888406469,
          -0.022050352920203298,
          -0.03780829266043484,
          0.01827382399730182,
          -0.2893433737456718,
          0.38095449039562135
         ],
         "y": [
          "intercept",
          "worst_texture = 30.25",
          "compactness_error = 0.01102",
          "mean_compactness = 0.06031",
          "texture_error = 0.8265",
          "symmetry_error = 0.0138",
          "worst_symmetry = 0.2994",
          "worst_area = 787.9",
          "worst_concavity = 0.2085",
          "worst_smoothness = 0.1094",
          "concave_points_error = 0.006881",
          "area_error = 20.53",
          "mean_concave_points = 0.02031",
          "prediction"
         ]
        }
       ],
       "layout": {
        "hovermode": "closest",
        "margin": {
         "b": 40,
         "l": 10,
         "r": 10,
         "t": 70
        },
        "shapes": [
         {
          "layer": "below",
          "line": {
           "color": "rgb(90,90,90)",
           "dash": "dot",
           "width": 1.5
          },
          "type": "line",
          "x0": 0.3814162342332193,
          "x1": 0.3814162342332193,
          "y0": 0,
          "y1": 1,
          "yref": "paper"
         }
        ],
        "showlegend": false,
        "template": {
         "data": {
          "bar": [
           {
            "error_x": {
             "color": "#2a3f5f"
            },
            "error_y": {
             "color": "#2a3f5f"
            },
            "marker": {
             "line": {
              "color": "white",
              "width": 0.5
             },
             "pattern": {
              "fillmode": "overlay",
              "size": 10,
              "solidity": 0.2
             }
            },
            "type": "bar"
           }
          ],
          "barpolar": [
           {
            "marker": {
             "line": {
              "color": "white",
              "width": 0.5
             },
             "pattern": {
              "fillmode": "overlay",
              "size": 10,
              "solidity": 0.2
             }
            },
            "type": "barpolar"
           }
          ],
          "carpet": [
           {
            "aaxis": {
             "endlinecolor": "#2a3f5f",
             "gridcolor": "#C8D4E3",
             "linecolor": "#C8D4E3",
             "minorgridcolor": "#C8D4E3",
             "startlinecolor": "#2a3f5f"
            },
            "baxis": {
             "endlinecolor": "#2a3f5f",
             "gridcolor": "#C8D4E3",
             "linecolor": "#C8D4E3",
             "minorgridcolor": "#C8D4E3",
             "startlinecolor": "#2a3f5f"
            },
            "type": "carpet"
           }
          ],
          "choropleth": [
           {
            "colorbar": {
             "outlinewidth": 0,
             "ticks": ""
            },
            "type": "choropleth"
           }
          ],
          "contour": [
           {
            "colorbar": {
             "outlinewidth": 0,
             "ticks": ""
            },
            "colorscale": [
             [
              0,
              "#0d0887"
             ],
             [
              0.1111111111111111,
              "#46039f"
             ],
             [
              0.2222222222222222,
              "#7201a8"
             ],
             [
              0.3333333333333333,
              "#9c179e"
             ],
             [
              0.4444444444444444,
              "#bd3786"
             ],
             [
              0.5555555555555556,
              "#d8576b"
             ],
             [
              0.6666666666666666,
              "#ed7953"
             ],
             [
              0.7777777777777778,
              "#fb9f3a"
             ],
             [
              0.8888888888888888,
              "#fdca26"
             ],
             [
              1,
              "#f0f921"
             ]
            ],
            "type": "contour"
           }
          ],
          "contourcarpet": [
           {
            "colorbar": {
             "outlinewidth": 0,
             "ticks": ""
            },
            "type": "contourcarpet"
           }
          ],
          "heatmap": [
           {
            "colorbar": {
             "outlinewidth": 0,
             "ticks": ""
            },
            "colorscale": [
             [
              0,
              "#0d0887"
             ],
             [
              0.1111111111111111,
              "#46039f"
             ],
             [
              0.2222222222222222,
              "#7201a8"
             ],
             [
              0.3333333333333333,
              "#9c179e"
             ],
             [
              0.4444444444444444,
              "#bd3786"
             ],
             [
              0.5555555555555556,
              "#d8576b"
             ],
             [
              0.6666666666666666,
              "#ed7953"
             ],
             [
              0.7777777777777778,
              "#fb9f3a"
             ],
             [
              0.8888888888888888,
              "#fdca26"
             ],
             [
              1,
              "#f0f921"
             ]
            ],
            "type": "heatmap"
           }
          ],
          "heatmapgl": [
           {
            "colorbar": {
             "outlinewidth": 0,
             "ticks": ""
            },
            "colorscale": [
             [
              0,
              "#0d0887"
             ],
             [
              0.1111111111111111,
              "#46039f"
             ],
             [
              0.2222222222222222,
              "#7201a8"
             ],
             [
              0.3333333333333333,
              "#9c179e"
             ],
             [
              0.4444444444444444,
              "#bd3786"
             ],
             [
              0.5555555555555556,
              "#d8576b"
             ],
             [
              0.6666666666666666,
              "#ed7953"
             ],
             [
              0.7777777777777778,
              "#fb9f3a"
             ],
             [
              0.8888888888888888,
              "#fdca26"
             ],
             [
              1,
              "#f0f921"
             ]
            ],
            "type": "heatmapgl"
           }
          ],
          "histogram": [
           {
            "marker": {
             "pattern": {
              "fillmode": "overlay",
              "size": 10,
              "solidity": 0.2
             }
            },
            "type": "histogram"
           }
          ],
          "histogram2d": [
           {
            "colorbar": {
             "outlinewidth": 0,
             "ticks": ""
            },
            "colorscale": [
             [
              0,
              "#0d0887"
             ],
             [
              0.1111111111111111,
              "#46039f"
             ],
             [
              0.2222222222222222,
              "#7201a8"
             ],
             [
              0.3333333333333333,
              "#9c179e"
             ],
             [
              0.4444444444444444,
              "#bd3786"
             ],
             [
              0.5555555555555556,
              "#d8576b"
             ],
             [
              0.6666666666666666,
              "#ed7953"
             ],
             [
              0.7777777777777778,
              "#fb9f3a"
             ],
             [
              0.8888888888888888,
              "#fdca26"
             ],
             [
              1,
              "#f0f921"
             ]
            ],
            "type": "histogram2d"
           }
          ],
          "histogram2dcontour": [
           {
            "colorbar": {
             "outlinewidth": 0,
             "ticks": ""
            },
            "colorscale": [
             [
              0,
              "#0d0887"
             ],
             [
              0.1111111111111111,
              "#46039f"
             ],
             [
              0.2222222222222222,
              "#7201a8"
             ],
             [
              0.3333333333333333,
              "#9c179e"
             ],
             [
              0.4444444444444444,
              "#bd3786"
             ],
             [
              0.5555555555555556,
              "#d8576b"
             ],
             [
              0.6666666666666666,
              "#ed7953"
             ],
             [
              0.7777777777777778,
              "#fb9f3a"
             ],
             [
              0.8888888888888888,
              "#fdca26"
             ],
             [
              1,
              "#f0f921"
             ]
            ],
            "type": "histogram2dcontour"
           }
          ],
          "mesh3d": [
           {
            "colorbar": {
             "outlinewidth": 0,
             "ticks": ""
            },
            "type": "mesh3d"
           }
          ],
          "parcoords": [
           {
            "line": {
             "colorbar": {
              "outlinewidth": 0,
              "ticks": ""
             }
            },
            "type": "parcoords"
           }
          ],
          "pie": [
           {
            "automargin": true,
            "type": "pie"
           }
          ],
          "scatter": [
           {
            "fillpattern": {
             "fillmode": "overlay",
             "size": 10,
             "solidity": 0.2
            },
            "type": "scatter"
           }
          ],
          "scatter3d": [
           {
            "line": {
             "colorbar": {
              "outlinewidth": 0,
              "ticks": ""
             }
            },
            "marker": {
             "colorbar": {
              "outlinewidth": 0,
              "ticks": ""
             }
            },
            "type": "scatter3d"
           }
          ],
          "scattercarpet": [
           {
            "marker": {
             "colorbar": {
              "outlinewidth": 0,
              "ticks": ""
             }
            },
            "type": "scattercarpet"
           }
          ],
          "scattergeo": [
           {
            "marker": {
             "colorbar": {
              "outlinewidth": 0,
              "ticks": ""
             }
            },
            "type": "scattergeo"
           }
          ],
          "scattergl": [
           {
            "marker": {
             "colorbar": {
              "outlinewidth": 0,
              "ticks": ""
             }
            },
            "type": "scattergl"
           }
          ],
          "scattermapbox": [
           {
            "marker": {
             "colorbar": {
              "outlinewidth": 0,
              "ticks": ""
             }
            },
            "type": "scattermapbox"
           }
          ],
          "scatterpolar": [
           {
            "marker": {
             "colorbar": {
              "outlinewidth": 0,
              "ticks": ""
             }
            },
            "type": "scatterpolar"
           }
          ],
          "scatterpolargl": [
           {
            "marker": {
             "colorbar": {
              "outlinewidth": 0,
              "ticks": ""
             }
            },
            "type": "scatterpolargl"
           }
          ],
          "scatterternary": [
           {
            "marker": {
             "colorbar": {
              "outlinewidth": 0,
              "ticks": ""
             }
            },
            "type": "scatterternary"
           }
          ],
          "surface": [
           {
            "colorbar": {
             "outlinewidth": 0,
             "ticks": ""
            },
            "colorscale": [
             [
              0,
              "#0d0887"
             ],
             [
              0.1111111111111111,
              "#46039f"
             ],
             [
              0.2222222222222222,
              "#7201a8"
             ],
             [
              0.3333333333333333,
              "#9c179e"
             ],
             [
              0.4444444444444444,
              "#bd3786"
             ],
             [
              0.5555555555555556,
              "#d8576b"
             ],
             [
              0.6666666666666666,
              "#ed7953"
             ],
             [
              0.7777777777777778,
              "#fb9f3a"
             ],
             [
              0.8888888888888888,
              "#fdca26"
             ],
             [
              1,
              "#f0f921"
             ]
            ],
            "type": "surface"
           }
          ],
          "table": [
           {
            "cells": {
             "fill": {
              "color": "#EBF0F8"
             },
             "line": {
              "color": "white"
             }
            },
            "header": {
             "fill": {
              "color": "#C8D4E3"
             },
             "line": {
              "color": "white"
             }
            },
            "type": "table"
           }
          ]
         },
         "layout": {
          "annotationdefaults": {
           "arrowcolor": "#2a3f5f",
           "arrowhead": 0,
           "arrowwidth": 1
          },
          "autotypenumbers": "strict",
          "coloraxis": {
           "colorbar": {
            "outlinewidth": 0,
            "ticks": ""
           }
          },
          "colorscale": {
           "diverging": [
            [
             0,
             "#8e0152"
            ],
            [
             0.1,
             "#c51b7d"
            ],
            [
             0.2,
             "#de77ae"
            ],
            [
             0.3,
             "#f1b6da"
            ],
            [
             0.4,
             "#fde0ef"
            ],
            [
             0.5,
             "#f7f7f7"
            ],
            [
             0.6,
             "#e6f5d0"
            ],
            [
             0.7,
             "#b8e186"
            ],
            [
             0.8,
             "#7fbc41"
            ],
            [
             0.9,
             "#4d9221"
            ],
            [
             1,
             "#276419"
            ]
           ],
           "sequential": [
            [
             0,
             "#0d0887"
            ],
            [
             0.1111111111111111,
             "#46039f"
            ],
            [
             0.2222222222222222,
             "#7201a8"
            ],
            [
             0.3333333333333333,
             "#9c179e"
            ],
            [
             0.4444444444444444,
             "#bd3786"
            ],
            [
             0.5555555555555556,
             "#d8576b"
            ],
            [
             0.6666666666666666,
             "#ed7953"
            ],
            [
             0.7777777777777778,
             "#fb9f3a"
            ],
            [
             0.8888888888888888,
             "#fdca26"
            ],
            [
             1,
             "#f0f921"
            ]
           ],
           "sequentialminus": [
            [
             0,
             "#0d0887"
            ],
            [
             0.1111111111111111,
             "#46039f"
            ],
            [
             0.2222222222222222,
             "#7201a8"
            ],
            [
             0.3333333333333333,
             "#9c179e"
            ],
            [
             0.4444444444444444,
             "#bd3786"
            ],
            [
             0.5555555555555556,
             "#d8576b"
            ],
            [
             0.6666666666666666,
             "#ed7953"
            ],
            [
             0.7777777777777778,
             "#fb9f3a"
            ],
            [
             0.8888888888888888,
             "#fdca26"
            ],
            [
             1,
             "#f0f921"
            ]
           ]
          },
          "colorway": [
           "#636efa",
           "#EF553B",
           "#00cc96",
           "#ab63fa",
           "#FFA15A",
           "#19d3f3",
           "#FF6692",
           "#B6E880",
           "#FF97FF",
           "#FECB52"
          ],
          "font": {
           "color": "#2a3f5f"
          },
          "geo": {
           "bgcolor": "white",
           "lakecolor": "white",
           "landcolor": "white",
           "showlakes": true,
           "showland": true,
           "subunitcolor": "#C8D4E3"
          },
          "hoverlabel": {
           "align": "left"
          },
          "hovermode": "closest",
          "mapbox": {
           "style": "light"
          },
          "paper_bgcolor": "white",
          "plot_bgcolor": "white",
          "polar": {
           "angularaxis": {
            "gridcolor": "#EBF0F8",
            "linecolor": "#EBF0F8",
            "ticks": ""
           },
           "bgcolor": "white",
           "radialaxis": {
            "gridcolor": "#EBF0F8",
            "linecolor": "#EBF0F8",
            "ticks": ""
           }
          },
          "scene": {
           "xaxis": {
            "backgroundcolor": "white",
            "gridcolor": "#DFE8F3",
            "gridwidth": 2,
            "linecolor": "#EBF0F8",
            "showbackground": true,
            "ticks": "",
            "zerolinecolor": "#EBF0F8"
           },
           "yaxis": {
            "backgroundcolor": "white",
            "gridcolor": "#DFE8F3",
            "gridwidth": 2,
            "linecolor": "#EBF0F8",
            "showbackground": true,
            "ticks": "",
            "zerolinecolor": "#EBF0F8"
           },
           "zaxis": {
            "backgroundcolor": "white",
            "gridcolor": "#DFE8F3",
            "gridwidth": 2,
            "linecolor": "#EBF0F8",
            "showbackground": true,
            "ticks": "",
            "zerolinecolor": "#EBF0F8"
           }
          },
          "shapedefaults": {
           "line": {
            "color": "#2a3f5f"
           }
          },
          "ternary": {
           "aaxis": {
            "gridcolor": "#DFE8F3",
            "linecolor": "#A2B1C6",
            "ticks": ""
           },
           "baxis": {
            "gridcolor": "#DFE8F3",
            "linecolor": "#A2B1C6",
            "ticks": ""
           },
           "bgcolor": "white",
           "caxis": {
            "gridcolor": "#DFE8F3",
            "linecolor": "#A2B1C6",
            "ticks": ""
           }
          },
          "title": {
           "x": 0.05
          },
          "xaxis": {
           "automargin": true,
           "gridcolor": "#EBF0F8",
           "linecolor": "#EBF0F8",
           "ticks": "",
           "title": {
            "standoff": 15
           },
           "zerolinecolor": "#EBF0F8",
           "zerolinewidth": 2
          },
          "yaxis": {
           "automargin": true,
           "gridcolor": "#EBF0F8",
           "linecolor": "#EBF0F8",
           "ticks": "",
           "title": {
            "standoff": 15
           },
           "zerolinecolor": "#EBF0F8",
           "zerolinewidth": 2
          }
         }
        },
        "title": {
         "text": "Breakdown — p_0.40  (target=0.40, achieved=0.381, source=train)"
        },
        "xaxis": {
         "title": {
          "text": "contribution"
         }
        },
        "yaxis": {
         "categoryarray": [
          "intercept",
          "worst_texture = 30.25",
          "compactness_error = 0.01102",
          "mean_compactness = 0.06031",
          "texture_error = 0.8265",
          "symmetry_error = 0.0138",
          "worst_symmetry = 0.2994",
          "worst_area = 787.9",
          "worst_concavity = 0.2085",
          "worst_smoothness = 0.1094",
          "concave_points_error = 0.006881",
          "area_error = 20.53",
          "mean_concave_points = 0.02031",
          "prediction"
         ],
         "categoryorder": "array"
        }
       }
      }
     },
     "metadata": {},
     "output_type": "display_data"
    }
   ],
   "source": [
    "# Break Down: prob ≈ 0.40\n",
    "label = \"p_0.40\"\n",
    "obs   = obs_for_breakdown[label]\n",
    "bd    = explainer.predict_parts(new_observation=obs, type=\"break_down\", keep_distributions=True)\n",
    "\n",
    "meta  = selected_df[selected_df[\"selection_label\"] == label].iloc[0]\n",
    "title = (f\"Breakdown — {label}  (target={meta['target_p']:.2f}, \"\n",
    "         f\"achieved={meta['achieved_p']:.3f}, source={meta['source']})\")\n",
    "\n",
    "print(bd.result[[\"variable\",\"variable_value\",\"contribution\",\"cumulative\"]])\n",
    "\n",
    "fig = plot_breakdown_from_bd(bd, title=title)\n",
    "fig.show()"
   ]
  },
  {
   "cell_type": "markdown",
   "id": "3de165a8",
   "metadata": {},
   "source": [
    "### 🔍 Breakdown — amostra **p_0.40** (prob. final ≈ **0,381**)\n",
    "\n",
    "**Panorama:** o caso começa no **intercepto (0,381)** e recebe vários **empurrões pró-Maligno** moderados — porém termina praticamente **onde começou** porque um único fator puxa fortemente para baixo no final.\n",
    "\n",
    "**Principais vetores de alta (↑ risco):**\n",
    "\n",
    "* **`worst_texture = 30.25` (+0,078)**: textura \"pior caso\" em faixa intermediária–alta eleva o score.\n",
    "* **`compactness_error = 0.011` (+0,062)** e **`mean_compactness = 0.060` (+0,042)**: irregularidade/compactação empurram para cima.\n",
    "* **`texture_error = 0.827` (+0,030)**, **`symmetry_error = 0.0138` (+0,027)**, **`worst_symmetry = 0.299` (+0,027)**: reforços positivos, porém pequenos.\n",
    "* **`worst_area = 788` (+0,036)** e **`worst_concavity = 0.209` (+0,029)**: medidas de \"pior caso\" acima de valores típicos de benignos somam ao risco.\n",
    "* **`area_error = 20.53` (+0,018)**: contribuição menor, mas no sentido pró-Maligno.\n",
    "\n",
    "**Freios (↓ risco):**\n",
    "\n",
    "* **`worst_smoothness = 0.109` (−0,022)** e **`concave_points_error = 0.0069` (−0,038)**: atenuam parte do ganho acumulado.\n",
    "* **Ponto decisivo:** **`mean_concave_points = 0.0203` (−0,289)** — valor **baixo** de *mean concave points* produz **forte queda** no score e praticamente \"anula\" os incrementos anteriores, fechando em **≈0,381**.\n",
    "\n",
    "**Leitura final:**\n",
    "Apesar de múltiplos sinais pró-malignidade, o **baixo `mean_concave_points`** domina o balanço local e **ancora a probabilidade em ~0,38**, muito próxima ao intercepto. No **threshold 0,50 (padrão)**, este caso é **classificado como Benigno**.\n",
    "\n"
   ]
  },
  {
   "cell_type": "code",
   "execution_count": 12,
   "id": "a42263e2",
   "metadata": {},
   "outputs": [
    {
     "name": "stdout",
     "output_type": "stream",
     "text": [
      "                          variable variable_value  contribution  cumulative\n",
      "0                        intercept                     0.381416    0.381416\n",
      "1         worst_concavity = 0.4636         0.4636      0.057869    0.439285\n",
      "2    mean_concave_points = 0.05602        0.05602      0.107912    0.547197\n",
      "3           worst_symmetry = 0.363          0.363      0.098472    0.645669\n",
      "4            worst_texture = 26.93          26.93      0.091197    0.736866\n",
      "5   concave_points_error = 0.01435        0.01435      0.076151    0.813017\n",
      "6         worst_smoothness = 0.146          0.146      0.024229    0.837246\n",
      "7               worst_area = 750.1          750.1      0.035658    0.872903\n",
      "8            texture_error = 1.194          1.194     -0.001292    0.871611\n",
      "9         symmetry_error = 0.01939        0.01939      0.000340    0.871951\n",
      "10     compactness_error = 0.03438        0.03438     -0.081902    0.790049\n",
      "11       mean_compactness = 0.1517         0.1517     -0.186471    0.603578\n",
      "12              area_error = 22.69          22.69     -0.005888    0.597690\n",
      "13                      prediction                     0.597690    0.597690\n"
     ]
    },
    {
     "data": {
      "application/vnd.plotly.v1+json": {
       "config": {
        "plotlyServerURL": "https://plot.ly"
       },
       "data": [
        {
         "connector": {
          "line": {
           "color": "rgb(90,90,90)"
          }
         },
         "customdata": [
          [
           0.3814162342332193,
           0,
           0.3814162342332193
          ],
          [
           0.05786900446560228,
           0.3814162342332193,
           0.4392852386988216
          ],
          [
           0.10791170848239645,
           0.4392852386988216,
           0.547196947181218
          ],
          [
           0.09847197459328039,
           0.547196947181218,
           0.6456689217744984
          ],
          [
           0.09119725771792242,
           0.6456689217744984,
           0.7368661794924208
          ],
          [
           0.07615085666756305,
           0.7368661794924208,
           0.8130170361599839
          ],
          [
           0.024228625469357445,
           0.8130170361599839,
           0.8372456616293413
          ],
          [
           0.035657820087183434,
           0.8372456616293413,
           0.8729034817165248
          ],
          [
           -0.001292482193452349,
           0.8729034817165248,
           0.8716109995230724
          ],
          [
           0.00033969288535096176,
           0.8716109995230724,
           0.8719506924084234
          ],
          [
           -0.0819021888739484,
           0.8719506924084234,
           0.790048503534475
          ],
          [
           -0.18647082187039143,
           0.790048503534475,
           0.6035776816640835
          ],
          [
           -0.0058879124286970175,
           0.6035776816640835,
           0.5976897692353865
          ],
          [
           0.5976897692353867,
           0,
           0.5976897692353867
          ]
         ],
         "decreasing": {
          "marker": {
           "color": "seagreen"
          }
         },
         "hovertemplate": "%{y}<br>contribution (Δ): %{customdata[0]:.3f}<br>cum. before: %{customdata[1]:.3f}<br>cum. after: %{customdata[2]:.3f}<extra></extra>",
         "increasing": {
          "marker": {
           "color": "crimson"
          }
         },
         "measure": [
          "relative",
          "relative",
          "relative",
          "relative",
          "relative",
          "relative",
          "relative",
          "relative",
          "relative",
          "relative",
          "relative",
          "relative",
          "relative",
          "total"
         ],
         "orientation": "h",
         "text": [
          "+0.381",
          "+0.058",
          "+0.108",
          "+0.098",
          "+0.091",
          "+0.076",
          "+0.024",
          "+0.036",
          "-0.001",
          "+0.000",
          "-0.082",
          "-0.186",
          "-0.006",
          "+0.598"
         ],
         "textposition": "outside",
         "totals": {
          "marker": {
           "color": "royalblue"
          }
         },
         "type": "waterfall",
         "x": [
          0.3814162342332193,
          0.05786900446560228,
          0.10791170848239645,
          0.09847197459328039,
          0.09119725771792242,
          0.07615085666756305,
          0.024228625469357445,
          0.035657820087183434,
          -0.001292482193452349,
          0.00033969288535096176,
          -0.0819021888739484,
          -0.18647082187039143,
          -0.0058879124286970175,
          0.5976897692353867
         ],
         "y": [
          "intercept",
          "worst_concavity = 0.4636",
          "mean_concave_points = 0.05602",
          "worst_symmetry = 0.363",
          "worst_texture = 26.93",
          "concave_points_error = 0.01435",
          "worst_smoothness = 0.146",
          "worst_area = 750.1",
          "texture_error = 1.194",
          "symmetry_error = 0.01939",
          "compactness_error = 0.03438",
          "mean_compactness = 0.1517",
          "area_error = 22.69",
          "prediction"
         ]
        }
       ],
       "layout": {
        "hovermode": "closest",
        "margin": {
         "b": 40,
         "l": 10,
         "r": 10,
         "t": 70
        },
        "shapes": [
         {
          "layer": "below",
          "line": {
           "color": "rgb(90,90,90)",
           "dash": "dot",
           "width": 1.5
          },
          "type": "line",
          "x0": 0.3814162342332193,
          "x1": 0.3814162342332193,
          "y0": 0,
          "y1": 1,
          "yref": "paper"
         }
        ],
        "showlegend": false,
        "template": {
         "data": {
          "bar": [
           {
            "error_x": {
             "color": "#2a3f5f"
            },
            "error_y": {
             "color": "#2a3f5f"
            },
            "marker": {
             "line": {
              "color": "white",
              "width": 0.5
             },
             "pattern": {
              "fillmode": "overlay",
              "size": 10,
              "solidity": 0.2
             }
            },
            "type": "bar"
           }
          ],
          "barpolar": [
           {
            "marker": {
             "line": {
              "color": "white",
              "width": 0.5
             },
             "pattern": {
              "fillmode": "overlay",
              "size": 10,
              "solidity": 0.2
             }
            },
            "type": "barpolar"
           }
          ],
          "carpet": [
           {
            "aaxis": {
             "endlinecolor": "#2a3f5f",
             "gridcolor": "#C8D4E3",
             "linecolor": "#C8D4E3",
             "minorgridcolor": "#C8D4E3",
             "startlinecolor": "#2a3f5f"
            },
            "baxis": {
             "endlinecolor": "#2a3f5f",
             "gridcolor": "#C8D4E3",
             "linecolor": "#C8D4E3",
             "minorgridcolor": "#C8D4E3",
             "startlinecolor": "#2a3f5f"
            },
            "type": "carpet"
           }
          ],
          "choropleth": [
           {
            "colorbar": {
             "outlinewidth": 0,
             "ticks": ""
            },
            "type": "choropleth"
           }
          ],
          "contour": [
           {
            "colorbar": {
             "outlinewidth": 0,
             "ticks": ""
            },
            "colorscale": [
             [
              0,
              "#0d0887"
             ],
             [
              0.1111111111111111,
              "#46039f"
             ],
             [
              0.2222222222222222,
              "#7201a8"
             ],
             [
              0.3333333333333333,
              "#9c179e"
             ],
             [
              0.4444444444444444,
              "#bd3786"
             ],
             [
              0.5555555555555556,
              "#d8576b"
             ],
             [
              0.6666666666666666,
              "#ed7953"
             ],
             [
              0.7777777777777778,
              "#fb9f3a"
             ],
             [
              0.8888888888888888,
              "#fdca26"
             ],
             [
              1,
              "#f0f921"
             ]
            ],
            "type": "contour"
           }
          ],
          "contourcarpet": [
           {
            "colorbar": {
             "outlinewidth": 0,
             "ticks": ""
            },
            "type": "contourcarpet"
           }
          ],
          "heatmap": [
           {
            "colorbar": {
             "outlinewidth": 0,
             "ticks": ""
            },
            "colorscale": [
             [
              0,
              "#0d0887"
             ],
             [
              0.1111111111111111,
              "#46039f"
             ],
             [
              0.2222222222222222,
              "#7201a8"
             ],
             [
              0.3333333333333333,
              "#9c179e"
             ],
             [
              0.4444444444444444,
              "#bd3786"
             ],
             [
              0.5555555555555556,
              "#d8576b"
             ],
             [
              0.6666666666666666,
              "#ed7953"
             ],
             [
              0.7777777777777778,
              "#fb9f3a"
             ],
             [
              0.8888888888888888,
              "#fdca26"
             ],
             [
              1,
              "#f0f921"
             ]
            ],
            "type": "heatmap"
           }
          ],
          "heatmapgl": [
           {
            "colorbar": {
             "outlinewidth": 0,
             "ticks": ""
            },
            "colorscale": [
             [
              0,
              "#0d0887"
             ],
             [
              0.1111111111111111,
              "#46039f"
             ],
             [
              0.2222222222222222,
              "#7201a8"
             ],
             [
              0.3333333333333333,
              "#9c179e"
             ],
             [
              0.4444444444444444,
              "#bd3786"
             ],
             [
              0.5555555555555556,
              "#d8576b"
             ],
             [
              0.6666666666666666,
              "#ed7953"
             ],
             [
              0.7777777777777778,
              "#fb9f3a"
             ],
             [
              0.8888888888888888,
              "#fdca26"
             ],
             [
              1,
              "#f0f921"
             ]
            ],
            "type": "heatmapgl"
           }
          ],
          "histogram": [
           {
            "marker": {
             "pattern": {
              "fillmode": "overlay",
              "size": 10,
              "solidity": 0.2
             }
            },
            "type": "histogram"
           }
          ],
          "histogram2d": [
           {
            "colorbar": {
             "outlinewidth": 0,
             "ticks": ""
            },
            "colorscale": [
             [
              0,
              "#0d0887"
             ],
             [
              0.1111111111111111,
              "#46039f"
             ],
             [
              0.2222222222222222,
              "#7201a8"
             ],
             [
              0.3333333333333333,
              "#9c179e"
             ],
             [
              0.4444444444444444,
              "#bd3786"
             ],
             [
              0.5555555555555556,
              "#d8576b"
             ],
             [
              0.6666666666666666,
              "#ed7953"
             ],
             [
              0.7777777777777778,
              "#fb9f3a"
             ],
             [
              0.8888888888888888,
              "#fdca26"
             ],
             [
              1,
              "#f0f921"
             ]
            ],
            "type": "histogram2d"
           }
          ],
          "histogram2dcontour": [
           {
            "colorbar": {
             "outlinewidth": 0,
             "ticks": ""
            },
            "colorscale": [
             [
              0,
              "#0d0887"
             ],
             [
              0.1111111111111111,
              "#46039f"
             ],
             [
              0.2222222222222222,
              "#7201a8"
             ],
             [
              0.3333333333333333,
              "#9c179e"
             ],
             [
              0.4444444444444444,
              "#bd3786"
             ],
             [
              0.5555555555555556,
              "#d8576b"
             ],
             [
              0.6666666666666666,
              "#ed7953"
             ],
             [
              0.7777777777777778,
              "#fb9f3a"
             ],
             [
              0.8888888888888888,
              "#fdca26"
             ],
             [
              1,
              "#f0f921"
             ]
            ],
            "type": "histogram2dcontour"
           }
          ],
          "mesh3d": [
           {
            "colorbar": {
             "outlinewidth": 0,
             "ticks": ""
            },
            "type": "mesh3d"
           }
          ],
          "parcoords": [
           {
            "line": {
             "colorbar": {
              "outlinewidth": 0,
              "ticks": ""
             }
            },
            "type": "parcoords"
           }
          ],
          "pie": [
           {
            "automargin": true,
            "type": "pie"
           }
          ],
          "scatter": [
           {
            "fillpattern": {
             "fillmode": "overlay",
             "size": 10,
             "solidity": 0.2
            },
            "type": "scatter"
           }
          ],
          "scatter3d": [
           {
            "line": {
             "colorbar": {
              "outlinewidth": 0,
              "ticks": ""
             }
            },
            "marker": {
             "colorbar": {
              "outlinewidth": 0,
              "ticks": ""
             }
            },
            "type": "scatter3d"
           }
          ],
          "scattercarpet": [
           {
            "marker": {
             "colorbar": {
              "outlinewidth": 0,
              "ticks": ""
             }
            },
            "type": "scattercarpet"
           }
          ],
          "scattergeo": [
           {
            "marker": {
             "colorbar": {
              "outlinewidth": 0,
              "ticks": ""
             }
            },
            "type": "scattergeo"
           }
          ],
          "scattergl": [
           {
            "marker": {
             "colorbar": {
              "outlinewidth": 0,
              "ticks": ""
             }
            },
            "type": "scattergl"
           }
          ],
          "scattermapbox": [
           {
            "marker": {
             "colorbar": {
              "outlinewidth": 0,
              "ticks": ""
             }
            },
            "type": "scattermapbox"
           }
          ],
          "scatterpolar": [
           {
            "marker": {
             "colorbar": {
              "outlinewidth": 0,
              "ticks": ""
             }
            },
            "type": "scatterpolar"
           }
          ],
          "scatterpolargl": [
           {
            "marker": {
             "colorbar": {
              "outlinewidth": 0,
              "ticks": ""
             }
            },
            "type": "scatterpolargl"
           }
          ],
          "scatterternary": [
           {
            "marker": {
             "colorbar": {
              "outlinewidth": 0,
              "ticks": ""
             }
            },
            "type": "scatterternary"
           }
          ],
          "surface": [
           {
            "colorbar": {
             "outlinewidth": 0,
             "ticks": ""
            },
            "colorscale": [
             [
              0,
              "#0d0887"
             ],
             [
              0.1111111111111111,
              "#46039f"
             ],
             [
              0.2222222222222222,
              "#7201a8"
             ],
             [
              0.3333333333333333,
              "#9c179e"
             ],
             [
              0.4444444444444444,
              "#bd3786"
             ],
             [
              0.5555555555555556,
              "#d8576b"
             ],
             [
              0.6666666666666666,
              "#ed7953"
             ],
             [
              0.7777777777777778,
              "#fb9f3a"
             ],
             [
              0.8888888888888888,
              "#fdca26"
             ],
             [
              1,
              "#f0f921"
             ]
            ],
            "type": "surface"
           }
          ],
          "table": [
           {
            "cells": {
             "fill": {
              "color": "#EBF0F8"
             },
             "line": {
              "color": "white"
             }
            },
            "header": {
             "fill": {
              "color": "#C8D4E3"
             },
             "line": {
              "color": "white"
             }
            },
            "type": "table"
           }
          ]
         },
         "layout": {
          "annotationdefaults": {
           "arrowcolor": "#2a3f5f",
           "arrowhead": 0,
           "arrowwidth": 1
          },
          "autotypenumbers": "strict",
          "coloraxis": {
           "colorbar": {
            "outlinewidth": 0,
            "ticks": ""
           }
          },
          "colorscale": {
           "diverging": [
            [
             0,
             "#8e0152"
            ],
            [
             0.1,
             "#c51b7d"
            ],
            [
             0.2,
             "#de77ae"
            ],
            [
             0.3,
             "#f1b6da"
            ],
            [
             0.4,
             "#fde0ef"
            ],
            [
             0.5,
             "#f7f7f7"
            ],
            [
             0.6,
             "#e6f5d0"
            ],
            [
             0.7,
             "#b8e186"
            ],
            [
             0.8,
             "#7fbc41"
            ],
            [
             0.9,
             "#4d9221"
            ],
            [
             1,
             "#276419"
            ]
           ],
           "sequential": [
            [
             0,
             "#0d0887"
            ],
            [
             0.1111111111111111,
             "#46039f"
            ],
            [
             0.2222222222222222,
             "#7201a8"
            ],
            [
             0.3333333333333333,
             "#9c179e"
            ],
            [
             0.4444444444444444,
             "#bd3786"
            ],
            [
             0.5555555555555556,
             "#d8576b"
            ],
            [
             0.6666666666666666,
             "#ed7953"
            ],
            [
             0.7777777777777778,
             "#fb9f3a"
            ],
            [
             0.8888888888888888,
             "#fdca26"
            ],
            [
             1,
             "#f0f921"
            ]
           ],
           "sequentialminus": [
            [
             0,
             "#0d0887"
            ],
            [
             0.1111111111111111,
             "#46039f"
            ],
            [
             0.2222222222222222,
             "#7201a8"
            ],
            [
             0.3333333333333333,
             "#9c179e"
            ],
            [
             0.4444444444444444,
             "#bd3786"
            ],
            [
             0.5555555555555556,
             "#d8576b"
            ],
            [
             0.6666666666666666,
             "#ed7953"
            ],
            [
             0.7777777777777778,
             "#fb9f3a"
            ],
            [
             0.8888888888888888,
             "#fdca26"
            ],
            [
             1,
             "#f0f921"
            ]
           ]
          },
          "colorway": [
           "#636efa",
           "#EF553B",
           "#00cc96",
           "#ab63fa",
           "#FFA15A",
           "#19d3f3",
           "#FF6692",
           "#B6E880",
           "#FF97FF",
           "#FECB52"
          ],
          "font": {
           "color": "#2a3f5f"
          },
          "geo": {
           "bgcolor": "white",
           "lakecolor": "white",
           "landcolor": "white",
           "showlakes": true,
           "showland": true,
           "subunitcolor": "#C8D4E3"
          },
          "hoverlabel": {
           "align": "left"
          },
          "hovermode": "closest",
          "mapbox": {
           "style": "light"
          },
          "paper_bgcolor": "white",
          "plot_bgcolor": "white",
          "polar": {
           "angularaxis": {
            "gridcolor": "#EBF0F8",
            "linecolor": "#EBF0F8",
            "ticks": ""
           },
           "bgcolor": "white",
           "radialaxis": {
            "gridcolor": "#EBF0F8",
            "linecolor": "#EBF0F8",
            "ticks": ""
           }
          },
          "scene": {
           "xaxis": {
            "backgroundcolor": "white",
            "gridcolor": "#DFE8F3",
            "gridwidth": 2,
            "linecolor": "#EBF0F8",
            "showbackground": true,
            "ticks": "",
            "zerolinecolor": "#EBF0F8"
           },
           "yaxis": {
            "backgroundcolor": "white",
            "gridcolor": "#DFE8F3",
            "gridwidth": 2,
            "linecolor": "#EBF0F8",
            "showbackground": true,
            "ticks": "",
            "zerolinecolor": "#EBF0F8"
           },
           "zaxis": {
            "backgroundcolor": "white",
            "gridcolor": "#DFE8F3",
            "gridwidth": 2,
            "linecolor": "#EBF0F8",
            "showbackground": true,
            "ticks": "",
            "zerolinecolor": "#EBF0F8"
           }
          },
          "shapedefaults": {
           "line": {
            "color": "#2a3f5f"
           }
          },
          "ternary": {
           "aaxis": {
            "gridcolor": "#DFE8F3",
            "linecolor": "#A2B1C6",
            "ticks": ""
           },
           "baxis": {
            "gridcolor": "#DFE8F3",
            "linecolor": "#A2B1C6",
            "ticks": ""
           },
           "bgcolor": "white",
           "caxis": {
            "gridcolor": "#DFE8F3",
            "linecolor": "#A2B1C6",
            "ticks": ""
           }
          },
          "title": {
           "x": 0.05
          },
          "xaxis": {
           "automargin": true,
           "gridcolor": "#EBF0F8",
           "linecolor": "#EBF0F8",
           "ticks": "",
           "title": {
            "standoff": 15
           },
           "zerolinecolor": "#EBF0F8",
           "zerolinewidth": 2
          },
          "yaxis": {
           "automargin": true,
           "gridcolor": "#EBF0F8",
           "linecolor": "#EBF0F8",
           "ticks": "",
           "title": {
            "standoff": 15
           },
           "zerolinecolor": "#EBF0F8",
           "zerolinewidth": 2
          }
         }
        },
        "title": {
         "text": "Breakdown — p_0.60  (target=0.60, achieved=0.598, source=train)"
        },
        "xaxis": {
         "title": {
          "text": "contribution"
         }
        },
        "yaxis": {
         "categoryarray": [
          "intercept",
          "worst_concavity = 0.4636",
          "mean_concave_points = 0.05602",
          "worst_symmetry = 0.363",
          "worst_texture = 26.93",
          "concave_points_error = 0.01435",
          "worst_smoothness = 0.146",
          "worst_area = 750.1",
          "texture_error = 1.194",
          "symmetry_error = 0.01939",
          "compactness_error = 0.03438",
          "mean_compactness = 0.1517",
          "area_error = 22.69",
          "prediction"
         ],
         "categoryorder": "array"
        }
       }
      }
     },
     "metadata": {},
     "output_type": "display_data"
    }
   ],
   "source": [
    "# Break Down: prob ≈ 0.60\n",
    "label = \"p_0.60\"\n",
    "obs   = obs_for_breakdown[label]\n",
    "bd    = explainer.predict_parts(new_observation=obs, type=\"break_down\", keep_distributions=True)\n",
    "\n",
    "meta  = selected_df[selected_df[\"selection_label\"] == label].iloc[0]\n",
    "title = (f\"Breakdown — {label}  (target={meta['target_p']:.2f}, \"\n",
    "         f\"achieved={meta['achieved_p']:.3f}, source={meta['source']})\")\n",
    "\n",
    "print(bd.result[[\"variable\",\"variable_value\",\"contribution\",\"cumulative\"]])\n",
    "\n",
    "fig = plot_breakdown_from_bd(bd, title=title)\n",
    "fig.show()"
   ]
  },
  {
   "cell_type": "markdown",
   "id": "eb6762dd",
   "metadata": {},
   "source": [
    "### 🔍 Breakdown — amostra **p_0.60** (prob. final ≈ **0,598**)\n",
    "\n",
    "**Trajetória geral:** partimos do **intercepto (0,381)** e acumulamos **vários empurrões pró-Maligno** até ~**0,873**; no fim, **dois freios relevantes** derrubam o score para ~**0,60**, ainda **acima de 0,50**.\n",
    "\n",
    "**Principais forças que **aumentam** o risco (barras vermelhas):**\n",
    "\n",
    "* **`worst_concavity = 0.4636`** **(+0,058)** — concavidade \"pior caso\" alta, forte sinal morfológico de malignidade.\n",
    "* **`mean_concave_points = 0.056`** **(+0,108)** — presença de pontos côncavos em média eleva substancialmente o risco.\n",
    "* **`worst_symmetry = 0.363`** **(+0,098)** — simetria pior-caso elevada, mais um indício de padrão irregular.\n",
    "* **`worst_texture = 26.93`** **(+0,091)** — textura no \"pior caso\" em faixa alta empurra o score.\n",
    "* **`concave_points_error = 0.014`** **(+0,076)** — variação em pontos côncavos também colabora para o aumento.\n",
    "* **`worst_smoothness = 0.146`** **(+0,024)** e **`worst_area = 750.1`** **(+0,036)** — reforços adicionais pró-Maligno.\n",
    "\n",
    "**Ajustes pequenos / neutros:**\n",
    "\n",
    "* **`texture_error = 1.194`** (~0) e **`symmetry_error = 0.019`** (~0) têm efeito marginal neste caso.\n",
    "\n",
    "**Freios que **reduzem** o risco (barras verdes):**\n",
    "\n",
    "* **`compactness_error = 0.034`** **(−0,082)** — neste regime, maior \"erro\" de compacidade atua como amortecedor.\n",
    "* **`mean_compactness = 0.152`** **(−0,186)** — **principal queda**: valores altos de compacidade média, **condicionais** às variáveis \"worst\", tendem a puxar para o lado benigno no nosso LR_L2.\n",
    "* **`area_error = 22.69`** **(−0,006)** — ajuste fino, pequeno.\n",
    "\n",
    "**Leitura final:** mesmo com dois freios relevantes no fim, o conjunto de sinais fortes em **\"pior caso\"** (**worst_concavity**, **worst_texture**, **worst_symmetry**) e em **concavidade** (**mean_concave_points**) mantém a probabilidade em **~0,60**, **acima do limiar 0,50**, logo **classificado como Maligno**."
   ]
  },
  {
   "cell_type": "code",
   "execution_count": 13,
   "id": "e63e118b",
   "metadata": {},
   "outputs": [
    {
     "name": "stdout",
     "output_type": "stream",
     "text": [
      "                          variable variable_value  contribution  cumulative\n",
      "0                        intercept                     0.381416    0.381416\n",
      "1            worst_texture = 32.29          32.29      0.111739    0.493156\n",
      "2      compactness_error = 0.01172        0.01172      0.058129    0.551285\n",
      "3       mean_compactness = 0.07214        0.07214      0.018088    0.569373\n",
      "4               worst_area = 826.4          826.4      0.030659    0.600032\n",
      "5   concave_points_error = 0.01269        0.01269      0.034325    0.634356\n",
      "6               area_error = 27.41          27.41      0.127278    0.761634\n",
      "7          worst_symmetry = 0.2722         0.2722      0.016814    0.778448\n",
      "8          symmetry_error = 0.0187         0.0187      0.002959    0.781407\n",
      "9            texture_error = 1.385          1.385     -0.038574    0.742833\n",
      "10        worst_smoothness = 0.106          0.106     -0.039545    0.703288\n",
      "11        worst_concavity = 0.1611         0.1611      0.021085    0.724373\n",
      "12   mean_concave_points = 0.03027        0.03027      0.082121    0.806494\n",
      "13                      prediction                     0.806494    0.806494\n"
     ]
    },
    {
     "data": {
      "application/vnd.plotly.v1+json": {
       "config": {
        "plotlyServerURL": "https://plot.ly"
       },
       "data": [
        {
         "connector": {
          "line": {
           "color": "rgb(90,90,90)"
          }
         },
         "customdata": [
          [
           0.3814162342332193,
           0,
           0.3814162342332193
          ],
          [
           0.11173948353300817,
           0.3814162342332193,
           0.49315571776622746
          ],
          [
           0.05812878998023219,
           0.49315571776622746,
           0.5512845077464597
          ],
          [
           0.018088287343969167,
           0.5512845077464597,
           0.5693727950904288
          ],
          [
           0.03065881520789171,
           0.5693727950904288,
           0.6000316102983205
          ],
          [
           0.034324616372616634,
           0.6000316102983205,
           0.6343562266709372
          ],
          [
           0.12727754446950357,
           0.6343562266709372,
           0.7616337711404407
          ],
          [
           0.016813831548691094,
           0.7616337711404407,
           0.7784476026891318
          ],
          [
           0.0029590852947186663,
           0.7784476026891318,
           0.7814066879838505
          ],
          [
           -0.03857392502979773,
           0.7814066879838505,
           0.7428327629540528
          ],
          [
           -0.039544761583008126,
           0.7428327629540528,
           0.7032880013710446
          ],
          [
           0.021085270963236313,
           0.7032880013710446,
           0.724373272334281
          ],
          [
           0.08212087041700022,
           0.724373272334281,
           0.8064941427512812
          ],
          [
           0.8064941427512812,
           0,
           0.8064941427512812
          ]
         ],
         "decreasing": {
          "marker": {
           "color": "seagreen"
          }
         },
         "hovertemplate": "%{y}<br>contribution (Δ): %{customdata[0]:.3f}<br>cum. before: %{customdata[1]:.3f}<br>cum. after: %{customdata[2]:.3f}<extra></extra>",
         "increasing": {
          "marker": {
           "color": "crimson"
          }
         },
         "measure": [
          "relative",
          "relative",
          "relative",
          "relative",
          "relative",
          "relative",
          "relative",
          "relative",
          "relative",
          "relative",
          "relative",
          "relative",
          "relative",
          "total"
         ],
         "orientation": "h",
         "text": [
          "+0.381",
          "+0.112",
          "+0.058",
          "+0.018",
          "+0.031",
          "+0.034",
          "+0.127",
          "+0.017",
          "+0.003",
          "-0.039",
          "-0.040",
          "+0.021",
          "+0.082",
          "+0.806"
         ],
         "textposition": "outside",
         "totals": {
          "marker": {
           "color": "royalblue"
          }
         },
         "type": "waterfall",
         "x": [
          0.3814162342332193,
          0.11173948353300817,
          0.05812878998023219,
          0.018088287343969167,
          0.03065881520789171,
          0.034324616372616634,
          0.12727754446950357,
          0.016813831548691094,
          0.0029590852947186663,
          -0.03857392502979773,
          -0.039544761583008126,
          0.021085270963236313,
          0.08212087041700022,
          0.8064941427512812
         ],
         "y": [
          "intercept",
          "worst_texture = 32.29",
          "compactness_error = 0.01172",
          "mean_compactness = 0.07214",
          "worst_area = 826.4",
          "concave_points_error = 0.01269",
          "area_error = 27.41",
          "worst_symmetry = 0.2722",
          "symmetry_error = 0.0187",
          "texture_error = 1.385",
          "worst_smoothness = 0.106",
          "worst_concavity = 0.1611",
          "mean_concave_points = 0.03027",
          "prediction"
         ]
        }
       ],
       "layout": {
        "hovermode": "closest",
        "margin": {
         "b": 40,
         "l": 10,
         "r": 10,
         "t": 70
        },
        "shapes": [
         {
          "layer": "below",
          "line": {
           "color": "rgb(90,90,90)",
           "dash": "dot",
           "width": 1.5
          },
          "type": "line",
          "x0": 0.3814162342332193,
          "x1": 0.3814162342332193,
          "y0": 0,
          "y1": 1,
          "yref": "paper"
         }
        ],
        "showlegend": false,
        "template": {
         "data": {
          "bar": [
           {
            "error_x": {
             "color": "#2a3f5f"
            },
            "error_y": {
             "color": "#2a3f5f"
            },
            "marker": {
             "line": {
              "color": "white",
              "width": 0.5
             },
             "pattern": {
              "fillmode": "overlay",
              "size": 10,
              "solidity": 0.2
             }
            },
            "type": "bar"
           }
          ],
          "barpolar": [
           {
            "marker": {
             "line": {
              "color": "white",
              "width": 0.5
             },
             "pattern": {
              "fillmode": "overlay",
              "size": 10,
              "solidity": 0.2
             }
            },
            "type": "barpolar"
           }
          ],
          "carpet": [
           {
            "aaxis": {
             "endlinecolor": "#2a3f5f",
             "gridcolor": "#C8D4E3",
             "linecolor": "#C8D4E3",
             "minorgridcolor": "#C8D4E3",
             "startlinecolor": "#2a3f5f"
            },
            "baxis": {
             "endlinecolor": "#2a3f5f",
             "gridcolor": "#C8D4E3",
             "linecolor": "#C8D4E3",
             "minorgridcolor": "#C8D4E3",
             "startlinecolor": "#2a3f5f"
            },
            "type": "carpet"
           }
          ],
          "choropleth": [
           {
            "colorbar": {
             "outlinewidth": 0,
             "ticks": ""
            },
            "type": "choropleth"
           }
          ],
          "contour": [
           {
            "colorbar": {
             "outlinewidth": 0,
             "ticks": ""
            },
            "colorscale": [
             [
              0,
              "#0d0887"
             ],
             [
              0.1111111111111111,
              "#46039f"
             ],
             [
              0.2222222222222222,
              "#7201a8"
             ],
             [
              0.3333333333333333,
              "#9c179e"
             ],
             [
              0.4444444444444444,
              "#bd3786"
             ],
             [
              0.5555555555555556,
              "#d8576b"
             ],
             [
              0.6666666666666666,
              "#ed7953"
             ],
             [
              0.7777777777777778,
              "#fb9f3a"
             ],
             [
              0.8888888888888888,
              "#fdca26"
             ],
             [
              1,
              "#f0f921"
             ]
            ],
            "type": "contour"
           }
          ],
          "contourcarpet": [
           {
            "colorbar": {
             "outlinewidth": 0,
             "ticks": ""
            },
            "type": "contourcarpet"
           }
          ],
          "heatmap": [
           {
            "colorbar": {
             "outlinewidth": 0,
             "ticks": ""
            },
            "colorscale": [
             [
              0,
              "#0d0887"
             ],
             [
              0.1111111111111111,
              "#46039f"
             ],
             [
              0.2222222222222222,
              "#7201a8"
             ],
             [
              0.3333333333333333,
              "#9c179e"
             ],
             [
              0.4444444444444444,
              "#bd3786"
             ],
             [
              0.5555555555555556,
              "#d8576b"
             ],
             [
              0.6666666666666666,
              "#ed7953"
             ],
             [
              0.7777777777777778,
              "#fb9f3a"
             ],
             [
              0.8888888888888888,
              "#fdca26"
             ],
             [
              1,
              "#f0f921"
             ]
            ],
            "type": "heatmap"
           }
          ],
          "heatmapgl": [
           {
            "colorbar": {
             "outlinewidth": 0,
             "ticks": ""
            },
            "colorscale": [
             [
              0,
              "#0d0887"
             ],
             [
              0.1111111111111111,
              "#46039f"
             ],
             [
              0.2222222222222222,
              "#7201a8"
             ],
             [
              0.3333333333333333,
              "#9c179e"
             ],
             [
              0.4444444444444444,
              "#bd3786"
             ],
             [
              0.5555555555555556,
              "#d8576b"
             ],
             [
              0.6666666666666666,
              "#ed7953"
             ],
             [
              0.7777777777777778,
              "#fb9f3a"
             ],
             [
              0.8888888888888888,
              "#fdca26"
             ],
             [
              1,
              "#f0f921"
             ]
            ],
            "type": "heatmapgl"
           }
          ],
          "histogram": [
           {
            "marker": {
             "pattern": {
              "fillmode": "overlay",
              "size": 10,
              "solidity": 0.2
             }
            },
            "type": "histogram"
           }
          ],
          "histogram2d": [
           {
            "colorbar": {
             "outlinewidth": 0,
             "ticks": ""
            },
            "colorscale": [
             [
              0,
              "#0d0887"
             ],
             [
              0.1111111111111111,
              "#46039f"
             ],
             [
              0.2222222222222222,
              "#7201a8"
             ],
             [
              0.3333333333333333,
              "#9c179e"
             ],
             [
              0.4444444444444444,
              "#bd3786"
             ],
             [
              0.5555555555555556,
              "#d8576b"
             ],
             [
              0.6666666666666666,
              "#ed7953"
             ],
             [
              0.7777777777777778,
              "#fb9f3a"
             ],
             [
              0.8888888888888888,
              "#fdca26"
             ],
             [
              1,
              "#f0f921"
             ]
            ],
            "type": "histogram2d"
           }
          ],
          "histogram2dcontour": [
           {
            "colorbar": {
             "outlinewidth": 0,
             "ticks": ""
            },
            "colorscale": [
             [
              0,
              "#0d0887"
             ],
             [
              0.1111111111111111,
              "#46039f"
             ],
             [
              0.2222222222222222,
              "#7201a8"
             ],
             [
              0.3333333333333333,
              "#9c179e"
             ],
             [
              0.4444444444444444,
              "#bd3786"
             ],
             [
              0.5555555555555556,
              "#d8576b"
             ],
             [
              0.6666666666666666,
              "#ed7953"
             ],
             [
              0.7777777777777778,
              "#fb9f3a"
             ],
             [
              0.8888888888888888,
              "#fdca26"
             ],
             [
              1,
              "#f0f921"
             ]
            ],
            "type": "histogram2dcontour"
           }
          ],
          "mesh3d": [
           {
            "colorbar": {
             "outlinewidth": 0,
             "ticks": ""
            },
            "type": "mesh3d"
           }
          ],
          "parcoords": [
           {
            "line": {
             "colorbar": {
              "outlinewidth": 0,
              "ticks": ""
             }
            },
            "type": "parcoords"
           }
          ],
          "pie": [
           {
            "automargin": true,
            "type": "pie"
           }
          ],
          "scatter": [
           {
            "fillpattern": {
             "fillmode": "overlay",
             "size": 10,
             "solidity": 0.2
            },
            "type": "scatter"
           }
          ],
          "scatter3d": [
           {
            "line": {
             "colorbar": {
              "outlinewidth": 0,
              "ticks": ""
             }
            },
            "marker": {
             "colorbar": {
              "outlinewidth": 0,
              "ticks": ""
             }
            },
            "type": "scatter3d"
           }
          ],
          "scattercarpet": [
           {
            "marker": {
             "colorbar": {
              "outlinewidth": 0,
              "ticks": ""
             }
            },
            "type": "scattercarpet"
           }
          ],
          "scattergeo": [
           {
            "marker": {
             "colorbar": {
              "outlinewidth": 0,
              "ticks": ""
             }
            },
            "type": "scattergeo"
           }
          ],
          "scattergl": [
           {
            "marker": {
             "colorbar": {
              "outlinewidth": 0,
              "ticks": ""
             }
            },
            "type": "scattergl"
           }
          ],
          "scattermapbox": [
           {
            "marker": {
             "colorbar": {
              "outlinewidth": 0,
              "ticks": ""
             }
            },
            "type": "scattermapbox"
           }
          ],
          "scatterpolar": [
           {
            "marker": {
             "colorbar": {
              "outlinewidth": 0,
              "ticks": ""
             }
            },
            "type": "scatterpolar"
           }
          ],
          "scatterpolargl": [
           {
            "marker": {
             "colorbar": {
              "outlinewidth": 0,
              "ticks": ""
             }
            },
            "type": "scatterpolargl"
           }
          ],
          "scatterternary": [
           {
            "marker": {
             "colorbar": {
              "outlinewidth": 0,
              "ticks": ""
             }
            },
            "type": "scatterternary"
           }
          ],
          "surface": [
           {
            "colorbar": {
             "outlinewidth": 0,
             "ticks": ""
            },
            "colorscale": [
             [
              0,
              "#0d0887"
             ],
             [
              0.1111111111111111,
              "#46039f"
             ],
             [
              0.2222222222222222,
              "#7201a8"
             ],
             [
              0.3333333333333333,
              "#9c179e"
             ],
             [
              0.4444444444444444,
              "#bd3786"
             ],
             [
              0.5555555555555556,
              "#d8576b"
             ],
             [
              0.6666666666666666,
              "#ed7953"
             ],
             [
              0.7777777777777778,
              "#fb9f3a"
             ],
             [
              0.8888888888888888,
              "#fdca26"
             ],
             [
              1,
              "#f0f921"
             ]
            ],
            "type": "surface"
           }
          ],
          "table": [
           {
            "cells": {
             "fill": {
              "color": "#EBF0F8"
             },
             "line": {
              "color": "white"
             }
            },
            "header": {
             "fill": {
              "color": "#C8D4E3"
             },
             "line": {
              "color": "white"
             }
            },
            "type": "table"
           }
          ]
         },
         "layout": {
          "annotationdefaults": {
           "arrowcolor": "#2a3f5f",
           "arrowhead": 0,
           "arrowwidth": 1
          },
          "autotypenumbers": "strict",
          "coloraxis": {
           "colorbar": {
            "outlinewidth": 0,
            "ticks": ""
           }
          },
          "colorscale": {
           "diverging": [
            [
             0,
             "#8e0152"
            ],
            [
             0.1,
             "#c51b7d"
            ],
            [
             0.2,
             "#de77ae"
            ],
            [
             0.3,
             "#f1b6da"
            ],
            [
             0.4,
             "#fde0ef"
            ],
            [
             0.5,
             "#f7f7f7"
            ],
            [
             0.6,
             "#e6f5d0"
            ],
            [
             0.7,
             "#b8e186"
            ],
            [
             0.8,
             "#7fbc41"
            ],
            [
             0.9,
             "#4d9221"
            ],
            [
             1,
             "#276419"
            ]
           ],
           "sequential": [
            [
             0,
             "#0d0887"
            ],
            [
             0.1111111111111111,
             "#46039f"
            ],
            [
             0.2222222222222222,
             "#7201a8"
            ],
            [
             0.3333333333333333,
             "#9c179e"
            ],
            [
             0.4444444444444444,
             "#bd3786"
            ],
            [
             0.5555555555555556,
             "#d8576b"
            ],
            [
             0.6666666666666666,
             "#ed7953"
            ],
            [
             0.7777777777777778,
             "#fb9f3a"
            ],
            [
             0.8888888888888888,
             "#fdca26"
            ],
            [
             1,
             "#f0f921"
            ]
           ],
           "sequentialminus": [
            [
             0,
             "#0d0887"
            ],
            [
             0.1111111111111111,
             "#46039f"
            ],
            [
             0.2222222222222222,
             "#7201a8"
            ],
            [
             0.3333333333333333,
             "#9c179e"
            ],
            [
             0.4444444444444444,
             "#bd3786"
            ],
            [
             0.5555555555555556,
             "#d8576b"
            ],
            [
             0.6666666666666666,
             "#ed7953"
            ],
            [
             0.7777777777777778,
             "#fb9f3a"
            ],
            [
             0.8888888888888888,
             "#fdca26"
            ],
            [
             1,
             "#f0f921"
            ]
           ]
          },
          "colorway": [
           "#636efa",
           "#EF553B",
           "#00cc96",
           "#ab63fa",
           "#FFA15A",
           "#19d3f3",
           "#FF6692",
           "#B6E880",
           "#FF97FF",
           "#FECB52"
          ],
          "font": {
           "color": "#2a3f5f"
          },
          "geo": {
           "bgcolor": "white",
           "lakecolor": "white",
           "landcolor": "white",
           "showlakes": true,
           "showland": true,
           "subunitcolor": "#C8D4E3"
          },
          "hoverlabel": {
           "align": "left"
          },
          "hovermode": "closest",
          "mapbox": {
           "style": "light"
          },
          "paper_bgcolor": "white",
          "plot_bgcolor": "white",
          "polar": {
           "angularaxis": {
            "gridcolor": "#EBF0F8",
            "linecolor": "#EBF0F8",
            "ticks": ""
           },
           "bgcolor": "white",
           "radialaxis": {
            "gridcolor": "#EBF0F8",
            "linecolor": "#EBF0F8",
            "ticks": ""
           }
          },
          "scene": {
           "xaxis": {
            "backgroundcolor": "white",
            "gridcolor": "#DFE8F3",
            "gridwidth": 2,
            "linecolor": "#EBF0F8",
            "showbackground": true,
            "ticks": "",
            "zerolinecolor": "#EBF0F8"
           },
           "yaxis": {
            "backgroundcolor": "white",
            "gridcolor": "#DFE8F3",
            "gridwidth": 2,
            "linecolor": "#EBF0F8",
            "showbackground": true,
            "ticks": "",
            "zerolinecolor": "#EBF0F8"
           },
           "zaxis": {
            "backgroundcolor": "white",
            "gridcolor": "#DFE8F3",
            "gridwidth": 2,
            "linecolor": "#EBF0F8",
            "showbackground": true,
            "ticks": "",
            "zerolinecolor": "#EBF0F8"
           }
          },
          "shapedefaults": {
           "line": {
            "color": "#2a3f5f"
           }
          },
          "ternary": {
           "aaxis": {
            "gridcolor": "#DFE8F3",
            "linecolor": "#A2B1C6",
            "ticks": ""
           },
           "baxis": {
            "gridcolor": "#DFE8F3",
            "linecolor": "#A2B1C6",
            "ticks": ""
           },
           "bgcolor": "white",
           "caxis": {
            "gridcolor": "#DFE8F3",
            "linecolor": "#A2B1C6",
            "ticks": ""
           }
          },
          "title": {
           "x": 0.05
          },
          "xaxis": {
           "automargin": true,
           "gridcolor": "#EBF0F8",
           "linecolor": "#EBF0F8",
           "ticks": "",
           "title": {
            "standoff": 15
           },
           "zerolinecolor": "#EBF0F8",
           "zerolinewidth": 2
          },
          "yaxis": {
           "automargin": true,
           "gridcolor": "#EBF0F8",
           "linecolor": "#EBF0F8",
           "ticks": "",
           "title": {
            "standoff": 15
           },
           "zerolinecolor": "#EBF0F8",
           "zerolinewidth": 2
          }
         }
        },
        "title": {
         "text": "Breakdown — p_0.80  (target=0.80, achieved=0.806, source=train)"
        },
        "xaxis": {
         "title": {
          "text": "contribution"
         }
        },
        "yaxis": {
         "categoryarray": [
          "intercept",
          "worst_texture = 32.29",
          "compactness_error = 0.01172",
          "mean_compactness = 0.07214",
          "worst_area = 826.4",
          "concave_points_error = 0.01269",
          "area_error = 27.41",
          "worst_symmetry = 0.2722",
          "symmetry_error = 0.0187",
          "texture_error = 1.385",
          "worst_smoothness = 0.106",
          "worst_concavity = 0.1611",
          "mean_concave_points = 0.03027",
          "prediction"
         ],
         "categoryorder": "array"
        }
       }
      }
     },
     "metadata": {},
     "output_type": "display_data"
    }
   ],
   "source": [
    "# Break Down: prob ≈ 0.80\n",
    "label = \"p_0.80\"\n",
    "obs   = obs_for_breakdown[label]\n",
    "bd    = explainer.predict_parts(new_observation=obs, type=\"break_down\", keep_distributions=True)\n",
    "\n",
    "meta  = selected_df[selected_df[\"selection_label\"] == label].iloc[0]\n",
    "title = (f\"Breakdown — {label}  (target={meta['target_p']:.2f}, \"\n",
    "         f\"achieved={meta['achieved_p']:.3f}, source={meta['source']})\")\n",
    "\n",
    "print(bd.result[[\"variable\",\"variable_value\",\"contribution\",\"cumulative\"]])\n",
    "\n",
    "fig = plot_breakdown_from_bd(bd, title=title)\n",
    "fig.show()"
   ]
  },
  {
   "cell_type": "markdown",
   "id": "7836d68c",
   "metadata": {},
   "source": [
    "### 🔍 Breakdown — amostra **p_0.80** (prob. final ≈ **0,806**)\n",
    "\n",
    "**O que empurrou para cima (pró-Maligno):**\n",
    "\n",
    "* **`area_error = 27.41`** **(+0,127)** — maior variação de área está entre os **maiores impulsos** de risco.\n",
    "* **`worst_texture = 32.29`** **(+0,112)** — textura no pior caso alta é um forte indício de malignidade.\n",
    "* **`mean_concave_points = 0.030`** **(+0,082)** — presença média de pontos côncavos eleva significativamente a probabilidade.\n",
    "* **`compactness_error = 0.0117`** **(+0,058)** e **`worst_area = 826.4`** **(+0,031)** — reforços adicionais, coerentes com morfologia mais agressiva.\n",
    "* Incrementos menores, mas no mesmo sentido:\n",
    "  **`concave_points_error = 0.0127`** **(+0,034)**, **`worst_symmetry = 0.272`** **(+0,017)**,\n",
    "  **`worst_concavity = 0.161`** **(+0,021)**, **`symmetry_error = 0.0187`** **(+0,003)**.\n",
    "\n",
    "**O que freou (pró-Benigno):**\n",
    "\n",
    "* **`worst_smoothness = 0.106`** **(−0,040)** e **`texture_error = 1.385`** **(−0,039)** — amortecem um pouco o score, mas **não** mudam o desfecho.\n",
    "\n",
    "**Leitura final:** partindo do **intercepto (0,381)**, a combinação de **textura/área no pior caso elevadas** e **medidas de concavidade** empurra o score para **~0,81** — **bem acima de 0,50**, portanto **classificado como Maligno**."
   ]
  },
  {
   "cell_type": "code",
   "execution_count": 14,
   "id": "270459ae",
   "metadata": {},
   "outputs": [
    {
     "name": "stdout",
     "output_type": "stream",
     "text": [
      "                          variable variable_value  contribution  cumulative\n",
      "0                        intercept                 3.814162e-01    0.381416\n",
      "1               area_error = 199.7          199.7  4.250201e-01    0.806436\n",
      "2            worst_texture = 47.16          47.16  1.833300e-01    0.989766\n",
      "3    mean_concave_points = 0.08646        0.08646  1.022608e-02    0.999992\n",
      "4              worst_area = 3432.0         3432.0  7.568126e-06    1.000000\n",
      "5      compactness_error = 0.01478        0.01478 -1.835081e-07    1.000000\n",
      "6         worst_concavity = 0.3442         0.3442  2.305173e-07    1.000000\n",
      "7         symmetry_error = 0.01367        0.01367  1.763440e-09    1.000000\n",
      "8        worst_smoothness = 0.1401         0.1401  3.692027e-10    1.000000\n",
      "9          worst_symmetry = 0.2868         0.2868  7.554923e-11    1.000000\n",
      "10       mean_compactness = 0.1143         0.1143 -1.248649e-10    1.000000\n",
      "11  concave_points_error = 0.00928        0.00928  1.202322e-10    1.000000\n",
      "12           texture_error = 1.617          1.617 -4.860223e-12    1.000000\n",
      "13                      prediction                 1.000000e+00    1.000000\n"
     ]
    },
    {
     "data": {
      "application/vnd.plotly.v1+json": {
       "config": {
        "plotlyServerURL": "https://plot.ly"
       },
       "data": [
        {
         "connector": {
          "line": {
           "color": "rgb(90,90,90)"
          }
         },
         "customdata": [
          [
           0.3814162342332193,
           0,
           0.3814162342332193
          ],
          [
           0.4250201009115117,
           0.3814162342332193,
           0.806436335144731
          ],
          [
           0.1833299675220057,
           0.806436335144731,
           0.9897663026667367
          ],
          [
           0.01022607998258962,
           0.9897663026667367,
           0.9999923826493263
          ],
          [
           0.000007568125913848256,
           0.9999923826493263,
           0.9999999507752402
          ],
          [
           -1.8350811603617956e-7,
           0.9999999507752402,
           0.9999997672671241
          ],
          [
           2.3051729425294099e-7,
           0.9999997672671241,
           0.9999999977844184
          ],
          [
           1.7634402826871565e-9,
           0.9999999977844184,
           0.9999999995478587
          ],
          [
           3.692026684376515e-10,
           0.9999999995478587,
           0.9999999999170613
          ],
          [
           7.554923353580989e-11,
           0.9999999999170613,
           0.9999999999926106
          ],
          [
           -1.248648962004495e-10,
           0.9999999999926106,
           0.9999999998677457
          ],
          [
           1.2023215756329364e-10,
           0.9999999998677457,
           0.9999999999879778
          ],
          [
           -4.860223334901548e-12,
           0.9999999999879778,
           0.9999999999831176
          ],
          [
           0.999999999983118,
           0,
           0.999999999983118
          ]
         ],
         "decreasing": {
          "marker": {
           "color": "seagreen"
          }
         },
         "hovertemplate": "%{y}<br>contribution (Δ): %{customdata[0]:.3f}<br>cum. before: %{customdata[1]:.3f}<br>cum. after: %{customdata[2]:.3f}<extra></extra>",
         "increasing": {
          "marker": {
           "color": "crimson"
          }
         },
         "measure": [
          "relative",
          "relative",
          "relative",
          "relative",
          "relative",
          "relative",
          "relative",
          "relative",
          "relative",
          "relative",
          "relative",
          "relative",
          "relative",
          "total"
         ],
         "orientation": "h",
         "text": [
          "+0.381",
          "+0.425",
          "+0.183",
          "+0.010",
          "+0.000",
          "-0.000",
          "+0.000",
          "+0.000",
          "+0.000",
          "+0.000",
          "-0.000",
          "+0.000",
          "-0.000",
          "+1.000"
         ],
         "textposition": "outside",
         "totals": {
          "marker": {
           "color": "royalblue"
          }
         },
         "type": "waterfall",
         "x": [
          0.3814162342332193,
          0.4250201009115117,
          0.1833299675220057,
          0.01022607998258962,
          0.000007568125913848256,
          -1.8350811603617956e-7,
          2.3051729425294099e-7,
          1.7634402826871565e-9,
          3.692026684376515e-10,
          7.554923353580989e-11,
          -1.248648962004495e-10,
          1.2023215756329364e-10,
          -4.860223334901548e-12,
          0.999999999983118
         ],
         "y": [
          "intercept",
          "area_error = 199.7",
          "worst_texture = 47.16",
          "mean_concave_points = 0.08646",
          "worst_area = 3432.0",
          "compactness_error = 0.01478",
          "worst_concavity = 0.3442",
          "symmetry_error = 0.01367",
          "worst_smoothness = 0.1401",
          "worst_symmetry = 0.2868",
          "mean_compactness = 0.1143",
          "concave_points_error = 0.00928",
          "texture_error = 1.617",
          "prediction"
         ]
        }
       ],
       "layout": {
        "hovermode": "closest",
        "margin": {
         "b": 40,
         "l": 10,
         "r": 10,
         "t": 70
        },
        "shapes": [
         {
          "layer": "below",
          "line": {
           "color": "rgb(90,90,90)",
           "dash": "dot",
           "width": 1.5
          },
          "type": "line",
          "x0": 0.3814162342332193,
          "x1": 0.3814162342332193,
          "y0": 0,
          "y1": 1,
          "yref": "paper"
         }
        ],
        "showlegend": false,
        "template": {
         "data": {
          "bar": [
           {
            "error_x": {
             "color": "#2a3f5f"
            },
            "error_y": {
             "color": "#2a3f5f"
            },
            "marker": {
             "line": {
              "color": "white",
              "width": 0.5
             },
             "pattern": {
              "fillmode": "overlay",
              "size": 10,
              "solidity": 0.2
             }
            },
            "type": "bar"
           }
          ],
          "barpolar": [
           {
            "marker": {
             "line": {
              "color": "white",
              "width": 0.5
             },
             "pattern": {
              "fillmode": "overlay",
              "size": 10,
              "solidity": 0.2
             }
            },
            "type": "barpolar"
           }
          ],
          "carpet": [
           {
            "aaxis": {
             "endlinecolor": "#2a3f5f",
             "gridcolor": "#C8D4E3",
             "linecolor": "#C8D4E3",
             "minorgridcolor": "#C8D4E3",
             "startlinecolor": "#2a3f5f"
            },
            "baxis": {
             "endlinecolor": "#2a3f5f",
             "gridcolor": "#C8D4E3",
             "linecolor": "#C8D4E3",
             "minorgridcolor": "#C8D4E3",
             "startlinecolor": "#2a3f5f"
            },
            "type": "carpet"
           }
          ],
          "choropleth": [
           {
            "colorbar": {
             "outlinewidth": 0,
             "ticks": ""
            },
            "type": "choropleth"
           }
          ],
          "contour": [
           {
            "colorbar": {
             "outlinewidth": 0,
             "ticks": ""
            },
            "colorscale": [
             [
              0,
              "#0d0887"
             ],
             [
              0.1111111111111111,
              "#46039f"
             ],
             [
              0.2222222222222222,
              "#7201a8"
             ],
             [
              0.3333333333333333,
              "#9c179e"
             ],
             [
              0.4444444444444444,
              "#bd3786"
             ],
             [
              0.5555555555555556,
              "#d8576b"
             ],
             [
              0.6666666666666666,
              "#ed7953"
             ],
             [
              0.7777777777777778,
              "#fb9f3a"
             ],
             [
              0.8888888888888888,
              "#fdca26"
             ],
             [
              1,
              "#f0f921"
             ]
            ],
            "type": "contour"
           }
          ],
          "contourcarpet": [
           {
            "colorbar": {
             "outlinewidth": 0,
             "ticks": ""
            },
            "type": "contourcarpet"
           }
          ],
          "heatmap": [
           {
            "colorbar": {
             "outlinewidth": 0,
             "ticks": ""
            },
            "colorscale": [
             [
              0,
              "#0d0887"
             ],
             [
              0.1111111111111111,
              "#46039f"
             ],
             [
              0.2222222222222222,
              "#7201a8"
             ],
             [
              0.3333333333333333,
              "#9c179e"
             ],
             [
              0.4444444444444444,
              "#bd3786"
             ],
             [
              0.5555555555555556,
              "#d8576b"
             ],
             [
              0.6666666666666666,
              "#ed7953"
             ],
             [
              0.7777777777777778,
              "#fb9f3a"
             ],
             [
              0.8888888888888888,
              "#fdca26"
             ],
             [
              1,
              "#f0f921"
             ]
            ],
            "type": "heatmap"
           }
          ],
          "heatmapgl": [
           {
            "colorbar": {
             "outlinewidth": 0,
             "ticks": ""
            },
            "colorscale": [
             [
              0,
              "#0d0887"
             ],
             [
              0.1111111111111111,
              "#46039f"
             ],
             [
              0.2222222222222222,
              "#7201a8"
             ],
             [
              0.3333333333333333,
              "#9c179e"
             ],
             [
              0.4444444444444444,
              "#bd3786"
             ],
             [
              0.5555555555555556,
              "#d8576b"
             ],
             [
              0.6666666666666666,
              "#ed7953"
             ],
             [
              0.7777777777777778,
              "#fb9f3a"
             ],
             [
              0.8888888888888888,
              "#fdca26"
             ],
             [
              1,
              "#f0f921"
             ]
            ],
            "type": "heatmapgl"
           }
          ],
          "histogram": [
           {
            "marker": {
             "pattern": {
              "fillmode": "overlay",
              "size": 10,
              "solidity": 0.2
             }
            },
            "type": "histogram"
           }
          ],
          "histogram2d": [
           {
            "colorbar": {
             "outlinewidth": 0,
             "ticks": ""
            },
            "colorscale": [
             [
              0,
              "#0d0887"
             ],
             [
              0.1111111111111111,
              "#46039f"
             ],
             [
              0.2222222222222222,
              "#7201a8"
             ],
             [
              0.3333333333333333,
              "#9c179e"
             ],
             [
              0.4444444444444444,
              "#bd3786"
             ],
             [
              0.5555555555555556,
              "#d8576b"
             ],
             [
              0.6666666666666666,
              "#ed7953"
             ],
             [
              0.7777777777777778,
              "#fb9f3a"
             ],
             [
              0.8888888888888888,
              "#fdca26"
             ],
             [
              1,
              "#f0f921"
             ]
            ],
            "type": "histogram2d"
           }
          ],
          "histogram2dcontour": [
           {
            "colorbar": {
             "outlinewidth": 0,
             "ticks": ""
            },
            "colorscale": [
             [
              0,
              "#0d0887"
             ],
             [
              0.1111111111111111,
              "#46039f"
             ],
             [
              0.2222222222222222,
              "#7201a8"
             ],
             [
              0.3333333333333333,
              "#9c179e"
             ],
             [
              0.4444444444444444,
              "#bd3786"
             ],
             [
              0.5555555555555556,
              "#d8576b"
             ],
             [
              0.6666666666666666,
              "#ed7953"
             ],
             [
              0.7777777777777778,
              "#fb9f3a"
             ],
             [
              0.8888888888888888,
              "#fdca26"
             ],
             [
              1,
              "#f0f921"
             ]
            ],
            "type": "histogram2dcontour"
           }
          ],
          "mesh3d": [
           {
            "colorbar": {
             "outlinewidth": 0,
             "ticks": ""
            },
            "type": "mesh3d"
           }
          ],
          "parcoords": [
           {
            "line": {
             "colorbar": {
              "outlinewidth": 0,
              "ticks": ""
             }
            },
            "type": "parcoords"
           }
          ],
          "pie": [
           {
            "automargin": true,
            "type": "pie"
           }
          ],
          "scatter": [
           {
            "fillpattern": {
             "fillmode": "overlay",
             "size": 10,
             "solidity": 0.2
            },
            "type": "scatter"
           }
          ],
          "scatter3d": [
           {
            "line": {
             "colorbar": {
              "outlinewidth": 0,
              "ticks": ""
             }
            },
            "marker": {
             "colorbar": {
              "outlinewidth": 0,
              "ticks": ""
             }
            },
            "type": "scatter3d"
           }
          ],
          "scattercarpet": [
           {
            "marker": {
             "colorbar": {
              "outlinewidth": 0,
              "ticks": ""
             }
            },
            "type": "scattercarpet"
           }
          ],
          "scattergeo": [
           {
            "marker": {
             "colorbar": {
              "outlinewidth": 0,
              "ticks": ""
             }
            },
            "type": "scattergeo"
           }
          ],
          "scattergl": [
           {
            "marker": {
             "colorbar": {
              "outlinewidth": 0,
              "ticks": ""
             }
            },
            "type": "scattergl"
           }
          ],
          "scattermapbox": [
           {
            "marker": {
             "colorbar": {
              "outlinewidth": 0,
              "ticks": ""
             }
            },
            "type": "scattermapbox"
           }
          ],
          "scatterpolar": [
           {
            "marker": {
             "colorbar": {
              "outlinewidth": 0,
              "ticks": ""
             }
            },
            "type": "scatterpolar"
           }
          ],
          "scatterpolargl": [
           {
            "marker": {
             "colorbar": {
              "outlinewidth": 0,
              "ticks": ""
             }
            },
            "type": "scatterpolargl"
           }
          ],
          "scatterternary": [
           {
            "marker": {
             "colorbar": {
              "outlinewidth": 0,
              "ticks": ""
             }
            },
            "type": "scatterternary"
           }
          ],
          "surface": [
           {
            "colorbar": {
             "outlinewidth": 0,
             "ticks": ""
            },
            "colorscale": [
             [
              0,
              "#0d0887"
             ],
             [
              0.1111111111111111,
              "#46039f"
             ],
             [
              0.2222222222222222,
              "#7201a8"
             ],
             [
              0.3333333333333333,
              "#9c179e"
             ],
             [
              0.4444444444444444,
              "#bd3786"
             ],
             [
              0.5555555555555556,
              "#d8576b"
             ],
             [
              0.6666666666666666,
              "#ed7953"
             ],
             [
              0.7777777777777778,
              "#fb9f3a"
             ],
             [
              0.8888888888888888,
              "#fdca26"
             ],
             [
              1,
              "#f0f921"
             ]
            ],
            "type": "surface"
           }
          ],
          "table": [
           {
            "cells": {
             "fill": {
              "color": "#EBF0F8"
             },
             "line": {
              "color": "white"
             }
            },
            "header": {
             "fill": {
              "color": "#C8D4E3"
             },
             "line": {
              "color": "white"
             }
            },
            "type": "table"
           }
          ]
         },
         "layout": {
          "annotationdefaults": {
           "arrowcolor": "#2a3f5f",
           "arrowhead": 0,
           "arrowwidth": 1
          },
          "autotypenumbers": "strict",
          "coloraxis": {
           "colorbar": {
            "outlinewidth": 0,
            "ticks": ""
           }
          },
          "colorscale": {
           "diverging": [
            [
             0,
             "#8e0152"
            ],
            [
             0.1,
             "#c51b7d"
            ],
            [
             0.2,
             "#de77ae"
            ],
            [
             0.3,
             "#f1b6da"
            ],
            [
             0.4,
             "#fde0ef"
            ],
            [
             0.5,
             "#f7f7f7"
            ],
            [
             0.6,
             "#e6f5d0"
            ],
            [
             0.7,
             "#b8e186"
            ],
            [
             0.8,
             "#7fbc41"
            ],
            [
             0.9,
             "#4d9221"
            ],
            [
             1,
             "#276419"
            ]
           ],
           "sequential": [
            [
             0,
             "#0d0887"
            ],
            [
             0.1111111111111111,
             "#46039f"
            ],
            [
             0.2222222222222222,
             "#7201a8"
            ],
            [
             0.3333333333333333,
             "#9c179e"
            ],
            [
             0.4444444444444444,
             "#bd3786"
            ],
            [
             0.5555555555555556,
             "#d8576b"
            ],
            [
             0.6666666666666666,
             "#ed7953"
            ],
            [
             0.7777777777777778,
             "#fb9f3a"
            ],
            [
             0.8888888888888888,
             "#fdca26"
            ],
            [
             1,
             "#f0f921"
            ]
           ],
           "sequentialminus": [
            [
             0,
             "#0d0887"
            ],
            [
             0.1111111111111111,
             "#46039f"
            ],
            [
             0.2222222222222222,
             "#7201a8"
            ],
            [
             0.3333333333333333,
             "#9c179e"
            ],
            [
             0.4444444444444444,
             "#bd3786"
            ],
            [
             0.5555555555555556,
             "#d8576b"
            ],
            [
             0.6666666666666666,
             "#ed7953"
            ],
            [
             0.7777777777777778,
             "#fb9f3a"
            ],
            [
             0.8888888888888888,
             "#fdca26"
            ],
            [
             1,
             "#f0f921"
            ]
           ]
          },
          "colorway": [
           "#636efa",
           "#EF553B",
           "#00cc96",
           "#ab63fa",
           "#FFA15A",
           "#19d3f3",
           "#FF6692",
           "#B6E880",
           "#FF97FF",
           "#FECB52"
          ],
          "font": {
           "color": "#2a3f5f"
          },
          "geo": {
           "bgcolor": "white",
           "lakecolor": "white",
           "landcolor": "white",
           "showlakes": true,
           "showland": true,
           "subunitcolor": "#C8D4E3"
          },
          "hoverlabel": {
           "align": "left"
          },
          "hovermode": "closest",
          "mapbox": {
           "style": "light"
          },
          "paper_bgcolor": "white",
          "plot_bgcolor": "white",
          "polar": {
           "angularaxis": {
            "gridcolor": "#EBF0F8",
            "linecolor": "#EBF0F8",
            "ticks": ""
           },
           "bgcolor": "white",
           "radialaxis": {
            "gridcolor": "#EBF0F8",
            "linecolor": "#EBF0F8",
            "ticks": ""
           }
          },
          "scene": {
           "xaxis": {
            "backgroundcolor": "white",
            "gridcolor": "#DFE8F3",
            "gridwidth": 2,
            "linecolor": "#EBF0F8",
            "showbackground": true,
            "ticks": "",
            "zerolinecolor": "#EBF0F8"
           },
           "yaxis": {
            "backgroundcolor": "white",
            "gridcolor": "#DFE8F3",
            "gridwidth": 2,
            "linecolor": "#EBF0F8",
            "showbackground": true,
            "ticks": "",
            "zerolinecolor": "#EBF0F8"
           },
           "zaxis": {
            "backgroundcolor": "white",
            "gridcolor": "#DFE8F3",
            "gridwidth": 2,
            "linecolor": "#EBF0F8",
            "showbackground": true,
            "ticks": "",
            "zerolinecolor": "#EBF0F8"
           }
          },
          "shapedefaults": {
           "line": {
            "color": "#2a3f5f"
           }
          },
          "ternary": {
           "aaxis": {
            "gridcolor": "#DFE8F3",
            "linecolor": "#A2B1C6",
            "ticks": ""
           },
           "baxis": {
            "gridcolor": "#DFE8F3",
            "linecolor": "#A2B1C6",
            "ticks": ""
           },
           "bgcolor": "white",
           "caxis": {
            "gridcolor": "#DFE8F3",
            "linecolor": "#A2B1C6",
            "ticks": ""
           }
          },
          "title": {
           "x": 0.05
          },
          "xaxis": {
           "automargin": true,
           "gridcolor": "#EBF0F8",
           "linecolor": "#EBF0F8",
           "ticks": "",
           "title": {
            "standoff": 15
           },
           "zerolinecolor": "#EBF0F8",
           "zerolinewidth": 2
          },
          "yaxis": {
           "automargin": true,
           "gridcolor": "#EBF0F8",
           "linecolor": "#EBF0F8",
           "ticks": "",
           "title": {
            "standoff": 15
           },
           "zerolinecolor": "#EBF0F8",
           "zerolinewidth": 2
          }
         }
        },
        "title": {
         "text": "Breakdown — pmax  (target=1.00, achieved=1.000, source=train)"
        },
        "xaxis": {
         "title": {
          "text": "contribution"
         }
        },
        "yaxis": {
         "categoryarray": [
          "intercept",
          "area_error = 199.7",
          "worst_texture = 47.16",
          "mean_concave_points = 0.08646",
          "worst_area = 3432.0",
          "compactness_error = 0.01478",
          "worst_concavity = 0.3442",
          "symmetry_error = 0.01367",
          "worst_smoothness = 0.1401",
          "worst_symmetry = 0.2868",
          "mean_compactness = 0.1143",
          "concave_points_error = 0.00928",
          "texture_error = 1.617",
          "prediction"
         ],
         "categoryorder": "array"
        }
       }
      }
     },
     "metadata": {},
     "output_type": "display_data"
    }
   ],
   "source": [
    "# Break Down: prob ≈ 1.00 (pmax)\n",
    "label = \"pmax\"\n",
    "obs   = obs_for_breakdown[label]\n",
    "bd    = explainer.predict_parts(new_observation=obs, type=\"break_down\", keep_distributions=True)\n",
    "\n",
    "meta  = selected_df[selected_df[\"selection_label\"] == label].iloc[0]\n",
    "title = (f\"Breakdown — {label}  (target={meta['target_p']:.2f}, \"\n",
    "         f\"achieved={meta['achieved_p']:.3f}, source={meta['source']})\")\n",
    "\n",
    "print(bd.result[[\"variable\",\"variable_value\",\"contribution\",\"cumulative\"]])\n",
    "\n",
    "fig = plot_breakdown_from_bd(bd, title=title)\n",
    "fig.show()"
   ]
  },
  {
   "cell_type": "markdown",
   "id": "1ef3765d",
   "metadata": {},
   "source": [
    "### 🔍 Breakdown — amostra **pmax** (prob. final ≈ **1.000**)\n",
    "\n",
    "**Impulsos decisivos (pró-Maligno):**\n",
    "\n",
    "* **`area_error = 199.7`** **(+0.425)** → é o **maior motor** do caso. Variação de área extremamente alta empurra o score de **0.38 → 0.81** sozinha.\n",
    "* **`worst_texture = 47.16`** **(+0.183)** → textura no pior caso **muito elevada** leva o score de **0.81 → 0.99**.\n",
    "* **`mean_concave_points = 0.0865`** **(+0.010)** → pequeno empurrão adicional para ~**1.00**.\n",
    "* **`worst_area = 3432.0`** **(+7.6e-06)** → valor **extremo**, porém já em zona de saturação do modelo; contribui marginalmente porque a probabilidade já está no teto.\n",
    "\n",
    "**Ajustes residuais (quase nulos):**\n",
    "\n",
    "* **`compactness_error = 0.0148`** (−1.8e-07), **`worst_concavity = 0.344`** (+2.3e-07),\n",
    "  **`symmetry_error = 0.0137`** (+1.8e-09), **`worst_smoothness = 0.140`** (+3.7e-10),\n",
    "  **`worst_symmetry = 0.287`** (+7.6e-11), **`mean_compactness = 0.114`** (−1.2e-10),\n",
    "  **`concave_points_error = 0.0093`** (+1.2e-10), **`texture_error = 1.617`** (−4.9e-12).\n",
    "  Esses termos aparecem, mas o efeito é **irrelevante** pois o score já colou em **1.00**.\n",
    "\n",
    "**Leitura final:** a combinação **muito extrema** de **variação de área** e **textura no pior caso** faz o modelo **saturar** (probabilidade ≈ **1.0**). Os demais preditores têm influência residual porque, na escala logística, **incrementos adicionais após ~0.99 quase não movem** a probabilidade.\n",
    "\n",
    "**Intuição clínica/modelo:** padrões morfológicos **muito irregulares e heterogêneos** (grande **erro/variação de área** e **textura** no pior cenário) são fortemente associados a malignidade; aqui, esses sinais são tão expressivos que dominam completamente a decisão.\n"
   ]
  },
  {
   "cell_type": "markdown",
   "id": "a2fc8ce3",
   "metadata": {},
   "source": [
    "### ✅ Conclusões\n",
    "\n",
    "Encerramos este notebook de **explicabilidade** mostrando como o *pipeline* **LR L2 + MoreStable12** toma decisões para casos individuais usando **DALEx** (Permutation Importance, PDPs/ICE e Break Down):\n",
    "\n",
    "**O que aprendemos**\n",
    "\n",
    "* **Coerência global vs. local**: as variáveis destacadas globalmente (Permutation Importance) também aparecem, com frequência, como motores locais nos *breakdowns*.\n",
    "* **Direções consistentes**: sinais dos **coeficientes da LR** e efeitos nos **PDPs** alinham-se com as contribuições locais — p.ex., valores altos de *worst_texture*, *worst_area* e *area_error* empurram a probabilidade para **Maligno**.\n",
    "* **Saturação do risco**: em casos extremos (*pmin/pmax*), contribuições finais tendem a ser residuais — o risco já está quase decidido antes das últimas variáveis entrarem.\n",
    "* **Sensibilidade local**: alguns casos no \"meio\" da escala (p.ex., ~0.4–0.6) evidenciam **trade-offs**: pequenas variações em *mean_concave_points*, *worst_concavity* ou *area_error* podem alterar a decisão final.\n",
    "\n",
    "**Boas práticas e limites**\n",
    "\n",
    "* **Permutation Importance ≠ coeficiente**: a importância por permutação mede **impacto no desempenho** ao perturbar a variável; coeficientes medem o **peso linear** no modelo. Divergências são esperadas, sobretudo quando há correlação entre preditores.\n",
    "* **Amostras sintéticas**: quando usadas para cobrir extremos, servem ao entendimento, mas podem exibir padrões pouco prováveis no mundo real — interpretá-las com parcimônia.\n",
    "* **Explicações são condicionais**: *breakdowns* dependem do ponto do espaço; não substituem uma análise global.\n",
    "\n",
    "**Como usar no dia a dia**\n",
    "\n",
    "* **Auditoria de decisões**: Break Down para casos críticos (falsos negativos/positivos), registrando as principais contribuições.\n",
    "* **Melhoria contínua**: monitorar se a importância relativa muda com dados novos (deriva).\n",
    "* **Suporte clínico**: usar gráficos (PDP/ICE) como material de discussão para validar se os efeitos aprendidos fazem sentido clínico.\n",
    "\n",
    "> Em resumo, o modelo está **explicável e consistente**: as variáveis do **MoreStable12** exercem efeitos alinhados ao conhecimento do domínio e às métricas. As visualizações aqui reunidas fornecem uma base sólida para **confiança**, **auditoria** e **comunicação** com stakeholders clínicos e técnicos."
   ]
  }
 ],
 "metadata": {
  "kernelspec": {
   "display_name": "venv",
   "language": "python",
   "name": "python3"
  },
  "language_info": {
   "codemirror_mode": {
    "name": "ipython",
    "version": 3
   },
   "file_extension": ".py",
   "mimetype": "text/x-python",
   "name": "python",
   "nbconvert_exporter": "python",
   "pygments_lexer": "ipython3",
   "version": "3.10.12"
  }
 },
 "nbformat": 4,
 "nbformat_minor": 5
}
