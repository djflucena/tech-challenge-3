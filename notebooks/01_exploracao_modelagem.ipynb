{
 "cells": [
  {
   "cell_type": "markdown",
   "id": "cc53c677",
   "metadata": {},
   "source": [
    "# 🧪 Exploração e Análise Inicial — Breast Cancer Wisconsin (Diagnostic)\n",
    "\n",
    "Notebook inicial para importar dados, utilitários de EDA e realizar análises exploratórias de base. Este caderno assume a estrutura de projeto com `src/` e dados em `data/wdbc.csv`."
   ]
  },
  {
   "cell_type": "markdown",
   "id": "280768fa",
   "metadata": {},
   "source": [
    "## 🎯 Objetivos\n",
    "- Garantir que o caminho do projeto esteja configurado para importar `src/`\n",
    "- Carregar o dataset `data/wdbc.csv` (com *fallback* via `sklearn` se não existir)\n",
    "- Executar checagens rápidas: dimensões, amostra, dtypes, **balanceamento da variável-alvo**\n",
    "- Rodar resumos com `skim_numeric` e `skim_categorical` e salvar em `data/interim/eda/`\n",
    "- Visualizações básicas com **matplotlib** (sem seaborn)"
   ]
  },
  {
   "cell_type": "code",
   "execution_count": 1,
   "id": "a99b8bca",
   "metadata": {},
   "outputs": [
    {
     "name": "stdout",
     "output_type": "stream",
     "text": [
      "Repo root: /home/carloslessa/FCD/POSTECH/modulo3/tech-challenge-3\n"
     ]
    }
   ],
   "source": [
    "from pathlib import Path\n",
    "import sys\n",
    "\n",
    "def add_project_root(max_up=3, marker='src'):\n",
    "    p = Path().resolve()\n",
    "    for _ in range(max_up + 1):\n",
    "        if (p / marker).exists():\n",
    "            sys.path.insert(0, str(p))\n",
    "            return p\n",
    "        p = p.parent\n",
    "    raise RuntimeError(f\"Não encontrei a pasta '{marker}' nos níveis acima.\")\n",
    "\n",
    "ROOT = add_project_root()\n",
    "print('Repo root:', ROOT)"
   ]
  },
  {
   "cell_type": "code",
   "execution_count": 2,
   "id": "dccac0a2",
   "metadata": {},
   "outputs": [],
   "source": [
    "import pandas as pd\n",
    "import numpy as np\n",
    "import matplotlib.pyplot as plt\n",
    "from pathlib import Path\n",
    "from typing import Optional\n",
    "try:\n",
    "    from src.eda.skim import skim_numeric, skim_categorical\n",
    "    SKIM_OK = True\n",
    "except Exception as e:\n",
    "    SKIM_OK = False\n",
    "    print('Aviso: não foi possível importar skim_numeric/skim_categorical. Erro:', e)\n",
    "    print('Verifique se existem src/eda/skim.py e __init__.py nos diretórios src/ e src/eda/.')"
   ]
  },
  {
   "cell_type": "code",
   "execution_count": null,
   "id": "9f539f82",
   "metadata": {},
   "outputs": [
    {
     "name": "stdout",
     "output_type": "stream",
     "text": [
      "Shape: (569, 31)\n"
     ]
    },
    {
     "data": {
      "application/vnd.microsoft.datawrangler.viewer.v0+json": {
       "columns": [
        {
         "name": "index",
         "rawType": "int64",
         "type": "integer"
        },
        {
         "name": "mean_radius",
         "rawType": "float64",
         "type": "float"
        },
        {
         "name": "mean_texture",
         "rawType": "float64",
         "type": "float"
        },
        {
         "name": "mean_perimeter",
         "rawType": "float64",
         "type": "float"
        },
        {
         "name": "mean_area",
         "rawType": "float64",
         "type": "float"
        },
        {
         "name": "mean_smoothness",
         "rawType": "float64",
         "type": "float"
        },
        {
         "name": "mean_compactness",
         "rawType": "float64",
         "type": "float"
        },
        {
         "name": "mean_concavity",
         "rawType": "float64",
         "type": "float"
        },
        {
         "name": "mean_concave_points",
         "rawType": "float64",
         "type": "float"
        },
        {
         "name": "mean_symmetry",
         "rawType": "float64",
         "type": "float"
        },
        {
         "name": "mean_fractal_dimension",
         "rawType": "float64",
         "type": "float"
        },
        {
         "name": "radius_error",
         "rawType": "float64",
         "type": "float"
        },
        {
         "name": "texture_error",
         "rawType": "float64",
         "type": "float"
        },
        {
         "name": "perimeter_error",
         "rawType": "float64",
         "type": "float"
        },
        {
         "name": "area_error",
         "rawType": "float64",
         "type": "float"
        },
        {
         "name": "smoothness_error",
         "rawType": "float64",
         "type": "float"
        },
        {
         "name": "compactness_error",
         "rawType": "float64",
         "type": "float"
        },
        {
         "name": "concavity_error",
         "rawType": "float64",
         "type": "float"
        },
        {
         "name": "concave_points_error",
         "rawType": "float64",
         "type": "float"
        },
        {
         "name": "symmetry_error",
         "rawType": "float64",
         "type": "float"
        },
        {
         "name": "fractal_dimension_error",
         "rawType": "float64",
         "type": "float"
        },
        {
         "name": "worst_radius",
         "rawType": "float64",
         "type": "float"
        },
        {
         "name": "worst_texture",
         "rawType": "float64",
         "type": "float"
        },
        {
         "name": "worst_perimeter",
         "rawType": "float64",
         "type": "float"
        },
        {
         "name": "worst_area",
         "rawType": "float64",
         "type": "float"
        },
        {
         "name": "worst_smoothness",
         "rawType": "float64",
         "type": "float"
        },
        {
         "name": "worst_compactness",
         "rawType": "float64",
         "type": "float"
        },
        {
         "name": "worst_concavity",
         "rawType": "float64",
         "type": "float"
        },
        {
         "name": "worst_concave_points",
         "rawType": "float64",
         "type": "float"
        },
        {
         "name": "worst_symmetry",
         "rawType": "float64",
         "type": "float"
        },
        {
         "name": "worst_fractal_dimension",
         "rawType": "float64",
         "type": "float"
        },
        {
         "name": "diagnosis",
         "rawType": "object",
         "type": "string"
        }
       ],
       "ref": "e3fd0d9c-8de1-41aa-9e44-5ccdd970aef4",
       "rows": [
        [
         "0",
         "17.99",
         "10.38",
         "122.8",
         "1001.0",
         "0.1184",
         "0.2776",
         "0.3001",
         "0.1471",
         "0.2419",
         "0.07871",
         "1.095",
         "0.9053",
         "8.589",
         "153.4",
         "0.006399",
         "0.04904",
         "0.05373",
         "0.01587",
         "0.03003",
         "0.006193",
         "25.38",
         "17.33",
         "184.6",
         "2019.0",
         "0.1622",
         "0.6656",
         "0.7119",
         "0.2654",
         "0.4601",
         "0.1189",
         "Maligno"
        ],
        [
         "1",
         "20.57",
         "17.77",
         "132.9",
         "1326.0",
         "0.08474",
         "0.07864",
         "0.0869",
         "0.07017",
         "0.1812",
         "0.05667",
         "0.5435",
         "0.7339",
         "3.398",
         "74.08",
         "0.005225",
         "0.01308",
         "0.0186",
         "0.0134",
         "0.01389",
         "0.003532",
         "24.99",
         "23.41",
         "158.8",
         "1956.0",
         "0.1238",
         "0.1866",
         "0.2416",
         "0.186",
         "0.275",
         "0.08902",
         "Maligno"
        ],
        [
         "2",
         "19.69",
         "21.25",
         "130.0",
         "1203.0",
         "0.1096",
         "0.1599",
         "0.1974",
         "0.1279",
         "0.2069",
         "0.05999",
         "0.7456",
         "0.7869",
         "4.585",
         "94.03",
         "0.00615",
         "0.04006",
         "0.03832",
         "0.02058",
         "0.0225",
         "0.004571",
         "23.57",
         "25.53",
         "152.5",
         "1709.0",
         "0.1444",
         "0.4245",
         "0.4504",
         "0.243",
         "0.3613",
         "0.08758",
         "Maligno"
        ]
       ],
       "shape": {
        "columns": 31,
        "rows": 3
       }
      },
      "text/html": [
       "<div>\n",
       "<style scoped>\n",
       "    .dataframe tbody tr th:only-of-type {\n",
       "        vertical-align: middle;\n",
       "    }\n",
       "\n",
       "    .dataframe tbody tr th {\n",
       "        vertical-align: top;\n",
       "    }\n",
       "\n",
       "    .dataframe thead th {\n",
       "        text-align: right;\n",
       "    }\n",
       "</style>\n",
       "<table border=\"1\" class=\"dataframe\">\n",
       "  <thead>\n",
       "    <tr style=\"text-align: right;\">\n",
       "      <th></th>\n",
       "      <th>mean_radius</th>\n",
       "      <th>mean_texture</th>\n",
       "      <th>mean_perimeter</th>\n",
       "      <th>mean_area</th>\n",
       "      <th>mean_smoothness</th>\n",
       "      <th>mean_compactness</th>\n",
       "      <th>mean_concavity</th>\n",
       "      <th>mean_concave_points</th>\n",
       "      <th>mean_symmetry</th>\n",
       "      <th>mean_fractal_dimension</th>\n",
       "      <th>...</th>\n",
       "      <th>worst_texture</th>\n",
       "      <th>worst_perimeter</th>\n",
       "      <th>worst_area</th>\n",
       "      <th>worst_smoothness</th>\n",
       "      <th>worst_compactness</th>\n",
       "      <th>worst_concavity</th>\n",
       "      <th>worst_concave_points</th>\n",
       "      <th>worst_symmetry</th>\n",
       "      <th>worst_fractal_dimension</th>\n",
       "      <th>diagnosis</th>\n",
       "    </tr>\n",
       "  </thead>\n",
       "  <tbody>\n",
       "    <tr>\n",
       "      <th>0</th>\n",
       "      <td>17.99</td>\n",
       "      <td>10.38</td>\n",
       "      <td>122.8</td>\n",
       "      <td>1001.0</td>\n",
       "      <td>0.11840</td>\n",
       "      <td>0.27760</td>\n",
       "      <td>0.3001</td>\n",
       "      <td>0.14710</td>\n",
       "      <td>0.2419</td>\n",
       "      <td>0.07871</td>\n",
       "      <td>...</td>\n",
       "      <td>17.33</td>\n",
       "      <td>184.6</td>\n",
       "      <td>2019.0</td>\n",
       "      <td>0.1622</td>\n",
       "      <td>0.6656</td>\n",
       "      <td>0.7119</td>\n",
       "      <td>0.2654</td>\n",
       "      <td>0.4601</td>\n",
       "      <td>0.11890</td>\n",
       "      <td>Maligno</td>\n",
       "    </tr>\n",
       "    <tr>\n",
       "      <th>1</th>\n",
       "      <td>20.57</td>\n",
       "      <td>17.77</td>\n",
       "      <td>132.9</td>\n",
       "      <td>1326.0</td>\n",
       "      <td>0.08474</td>\n",
       "      <td>0.07864</td>\n",
       "      <td>0.0869</td>\n",
       "      <td>0.07017</td>\n",
       "      <td>0.1812</td>\n",
       "      <td>0.05667</td>\n",
       "      <td>...</td>\n",
       "      <td>23.41</td>\n",
       "      <td>158.8</td>\n",
       "      <td>1956.0</td>\n",
       "      <td>0.1238</td>\n",
       "      <td>0.1866</td>\n",
       "      <td>0.2416</td>\n",
       "      <td>0.1860</td>\n",
       "      <td>0.2750</td>\n",
       "      <td>0.08902</td>\n",
       "      <td>Maligno</td>\n",
       "    </tr>\n",
       "    <tr>\n",
       "      <th>2</th>\n",
       "      <td>19.69</td>\n",
       "      <td>21.25</td>\n",
       "      <td>130.0</td>\n",
       "      <td>1203.0</td>\n",
       "      <td>0.10960</td>\n",
       "      <td>0.15990</td>\n",
       "      <td>0.1974</td>\n",
       "      <td>0.12790</td>\n",
       "      <td>0.2069</td>\n",
       "      <td>0.05999</td>\n",
       "      <td>...</td>\n",
       "      <td>25.53</td>\n",
       "      <td>152.5</td>\n",
       "      <td>1709.0</td>\n",
       "      <td>0.1444</td>\n",
       "      <td>0.4245</td>\n",
       "      <td>0.4504</td>\n",
       "      <td>0.2430</td>\n",
       "      <td>0.3613</td>\n",
       "      <td>0.08758</td>\n",
       "      <td>Maligno</td>\n",
       "    </tr>\n",
       "  </tbody>\n",
       "</table>\n",
       "<p>3 rows × 31 columns</p>\n",
       "</div>"
      ],
      "text/plain": [
       "   mean_radius  mean_texture  mean_perimeter  mean_area  mean_smoothness  \\\n",
       "0        17.99         10.38           122.8     1001.0          0.11840   \n",
       "1        20.57         17.77           132.9     1326.0          0.08474   \n",
       "2        19.69         21.25           130.0     1203.0          0.10960   \n",
       "\n",
       "   mean_compactness  mean_concavity  mean_concave_points  mean_symmetry  \\\n",
       "0           0.27760          0.3001              0.14710         0.2419   \n",
       "1           0.07864          0.0869              0.07017         0.1812   \n",
       "2           0.15990          0.1974              0.12790         0.2069   \n",
       "\n",
       "   mean_fractal_dimension  ...  worst_texture  worst_perimeter  worst_area  \\\n",
       "0                 0.07871  ...          17.33            184.6      2019.0   \n",
       "1                 0.05667  ...          23.41            158.8      1956.0   \n",
       "2                 0.05999  ...          25.53            152.5      1709.0   \n",
       "\n",
       "   worst_smoothness  worst_compactness  worst_concavity  worst_concave_points  \\\n",
       "0            0.1622             0.6656           0.7119                0.2654   \n",
       "1            0.1238             0.1866           0.2416                0.1860   \n",
       "2            0.1444             0.4245           0.4504                0.2430   \n",
       "\n",
       "   worst_symmetry  worst_fractal_dimension  diagnosis  \n",
       "0          0.4601                  0.11890    Maligno  \n",
       "1          0.2750                  0.08902    Maligno  \n",
       "2          0.3613                  0.08758    Maligno  \n",
       "\n",
       "[3 rows x 31 columns]"
      ]
     },
     "execution_count": 4,
     "metadata": {},
     "output_type": "execute_result"
    }
   ],
   "source": [
    "from pathlib import Path\n",
    "import sys, subprocess\n",
    "import pandas as pd\n",
    "\n",
    "DATA_PATH = ROOT / \"data\" / \"wdbc.csv\"\n",
    "DATA_PATH.parent.mkdir(parents=True, exist_ok=True)\n",
    "\n",
    "if not DATA_PATH.exists():\n",
    "    print(f\"Arquivo não encontrado em {DATA_PATH}. Gerando via CLI do make_wdbc_dataset ...\")\n",
    "    try:\n",
    "        subprocess.run(\n",
    "            [sys.executable, \"-m\", \"src.data.make_wdbc_dataset\", \"--out\", str(DATA_PATH)],\n",
    "            check=True\n",
    "        )\n",
    "    except Exception as e:\n",
    "        print(\"Falha ao rodar o módulo CLI; gerando via sklearn. Erro:\", e)\n",
    "        from sklearn.datasets import load_breast_cancer\n",
    "        cancer = load_breast_cancer()\n",
    "        df_tmp = pd.DataFrame(\n",
    "            cancer[\"data\"],\n",
    "            columns=[c.replace(\" \", \"_\") for c in cancer[\"feature_names\"]]\n",
    "        )\n",
    "        target = pd.Categorical.from_codes(cancer[\"target\"], cancer[\"target_names\"])\n",
    "        target = target.rename_categories({\"malignant\": \"Maligno\", \"benign\": \"Benigno\"})\n",
    "        df_tmp[\"diagnosis\"] = target.astype(str)\n",
    "        df_tmp.to_csv(DATA_PATH, index=False)\n",
    "        print(\"Gerado e salvo em\", DATA_PATH)\n",
    "\n",
    "df = pd.read_csv(DATA_PATH)\n",
    "print(\"Shape:\", df.shape)\n",
    "df.head(3)\n"
   ]
  },
  {
   "cell_type": "code",
   "execution_count": null,
   "id": "4db84c29",
   "metadata": {},
   "outputs": [],
   "source": [
    "print('\\n### Info')\n",
    "print(df.dtypes.head())\n",
    "non_null = df.notna().sum().sum()\n",
    "null_total = df.isna().sum().sum()\n",
    "print(f'Valores não nulos (total): {non_null}')\n",
    "print(f'Valores nulos (total): {null_total}')\n",
    "\n",
    "mem_mb = df.memory_usage(deep=True).sum() / (1024 ** 2)\n",
    "print(f'Memória ~ {mem_mb:.2f} MB')"
   ]
  },
  {
   "cell_type": "markdown",
   "id": "32bb1fc8",
   "metadata": {},
   "source": [
    "## ⚖️ Balanceamento da variável-alvo (`diagnosis`)"
   ]
  },
  {
   "cell_type": "code",
   "execution_count": null,
   "id": "a4c5d13d",
   "metadata": {},
   "outputs": [],
   "source": [
    "if 'diagnosis' in df.columns:\n",
    "    vc = df['diagnosis'].value_counts(dropna=False)\n",
    "    print(vc)\n",
    "    fig = plt.figure()\n",
    "    plt.bar(vc.index.astype(str), vc.values)\n",
    "    plt.title('Distribuição da variável-alvo: diagnosis')\n",
    "    plt.xlabel('Classe')\n",
    "    plt.ylabel('Contagem')\n",
    "    for i, v in enumerate(vc.values):\n",
    "        plt.text(i, v, str(v), ha='center', va='bottom')\n",
    "    plt.show()\n",
    "else:\n",
    "    print('Coluna diagnosis não encontrada.')"
   ]
  },
  {
   "cell_type": "markdown",
   "id": "da807330",
   "metadata": {},
   "source": [
    "## 🧩 Valores ausentes"
   ]
  },
  {
   "cell_type": "code",
   "execution_count": null,
   "id": "05fc6c85",
   "metadata": {},
   "outputs": [],
   "source": [
    "miss = df.isna().sum().sort_values(ascending=False)\n",
    "display(miss.to_frame('missing').head(10))\n",
    "fig = plt.figure()\n",
    "top = miss.head(10)\n",
    "plt.barh(top.index.astype(str), top.values)\n",
    "plt.title('Top 10 colunas com mais valores ausentes')\n",
    "plt.xlabel('Quantidade de NA')\n",
    "plt.gca().invert_yaxis()\n",
    "plt.show()"
   ]
  },
  {
   "cell_type": "markdown",
   "id": "fd3486b5",
   "metadata": {},
   "source": [
    "## 🔎 Resumos (skim)"
   ]
  },
  {
   "cell_type": "code",
   "execution_count": null,
   "id": "1b7679f2",
   "metadata": {},
   "outputs": [],
   "source": [
    "out_dir = Path('data/interim/eda')\n",
    "out_dir.mkdir(parents=True, exist_ok=True)\n",
    "\n",
    "if SKIM_OK:\n",
    "    skim_num = skim_numeric(df)\n",
    "    skim_cat = skim_categorical(df)\n",
    "    display(skim_num.head(10))\n",
    "    display(skim_cat)\n",
    "else:\n",
    "    print('Resumo detalhado (skim) indisponível. Verifique import de src/eda/skim.py.')\n",
    "    # Fallback simples: describe()\n",
    "    desc = df.describe().T.reset_index().rename(columns={'index':'variable'})\n",
    "    display(desc.head(10))\n"
   ]
  },
  {
   "cell_type": "markdown",
   "id": "ba21b489",
   "metadata": {},
   "source": [
    "## 🔗 Correlações (numéricas)"
   ]
  },
  {
   "cell_type": "code",
   "execution_count": null,
   "id": "e3df3701",
   "metadata": {},
   "outputs": [],
   "source": [
    "num_df = df.select_dtypes(include=[np.number])\n",
    "if not num_df.empty:\n",
    "    corr = num_df.corr(numeric_only=True)\n",
    "    fig = plt.figure(figsize=(6,5))\n",
    "    plt.imshow(corr, aspect='auto', interpolation='nearest')\n",
    "    plt.title('Matriz de Correlação (numéricas)')\n",
    "    plt.colorbar()\n",
    "    plt.xticks(range(len(corr.columns)), corr.columns, rotation=90)\n",
    "    plt.yticks(range(len(corr.index)), corr.index)\n",
    "    plt.tight_layout()\n",
    "    plt.show()\n",
    "else:\n",
    "    print('Sem colunas numéricas para correlação.')"
   ]
  },
  {
   "cell_type": "markdown",
   "id": "b618ca40",
   "metadata": {},
   "source": [
    "## 📈 Histogramas univariados (amostra de atributos numéricos)"
   ]
  },
  {
   "cell_type": "code",
   "execution_count": null,
   "id": "e8adaf6b",
   "metadata": {},
   "outputs": [],
   "source": [
    "cols = list(num_df.columns)[:6]\n",
    "for c in cols:\n",
    "    fig = plt.figure()\n",
    "    plt.hist(num_df[c].dropna(), bins=20)\n",
    "    plt.title(f'Histograma — {c}')\n",
    "    plt.xlabel(c)\n",
    "    plt.ylabel('Frequência')\n",
    "    plt.show()"
   ]
  },
  {
   "cell_type": "markdown",
   "id": "2b3b3802",
   "metadata": {},
   "source": [
    "## ➡️ Próximos Passos\n",
    "- Engineering de atributos e padronização/normalização (pipeline `src/features/build_features.py`)\n",
    "- Divisão treino/val/test (`src/data/split.py`)\n",
    "- Treinamento e comparação de modelos (`src/models/train.py`, `src/models/evaluate.py`)\n",
    "- Exportar artefatos para `models/` e disponibilizar predição via API FastAPI"
   ]
  }
 ],
 "metadata": {
  "kernelspec": {
   "display_name": "venv",
   "language": "python",
   "name": "python3"
  },
  "language_info": {
   "codemirror_mode": {
    "name": "ipython",
    "version": 3
   },
   "file_extension": ".py",
   "mimetype": "text/x-python",
   "name": "python",
   "nbconvert_exporter": "python",
   "pygments_lexer": "ipython3",
   "version": "3.10.12"
  }
 },
 "nbformat": 4,
 "nbformat_minor": 5
}
