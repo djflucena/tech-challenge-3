{
 "cells": [
  {
   "cell_type": "markdown",
   "id": "cc53c677",
   "metadata": {},
   "source": [
    "# 🧪 Exploração e Análise Inicial — Breast Cancer Wisconsin (Diagnostic)\n",
    "\n",
    "Notebook inicial para importar dados, utilitários de EDA e realizar análises exploratórias de base. Este caderno assume a estrutura de projeto com `src/` e dados em `data/wdbc.csv`."
   ]
  },
  {
   "cell_type": "markdown",
   "id": "280768fa",
   "metadata": {},
   "source": [
    "## 🎯 Objetivos\n",
    "- Garantir que o caminho do projeto esteja configurado para importar `src/`\n",
    "- Carregar o dataset `data/wdbc.csv` (com *fallback* via `sklearn` se não existir)\n",
    "- Executar checagens rápidas: dimensões, amostra, dtypes, **balanceamento da variável-alvo**\n",
    "- Rodar resumos com `skim_numeric` e `skim_categorical` e salvar em `data/interim/eda/`\n",
    "- Visualizações básicas com **matplotlib** (sem seaborn)"
   ]
  },
  {
   "cell_type": "code",
   "execution_count": 1,
   "id": "a99b8bca",
   "metadata": {},
   "outputs": [
    {
     "name": "stdout",
     "output_type": "stream",
     "text": [
      "Repo root: /home/carloslessa/FCD/POSTECH/modulo3/tech-challenge-3\n"
     ]
    }
   ],
   "source": [
    "from pathlib import Path\n",
    "import sys\n",
    "\n",
    "def add_project_root(max_up=3, marker='src'):\n",
    "    p = Path().resolve()\n",
    "    for _ in range(max_up + 1):\n",
    "        if (p / marker).exists():\n",
    "            sys.path.insert(0, str(p))\n",
    "            return p\n",
    "        p = p.parent\n",
    "    raise RuntimeError(f\"Não encontrei a pasta '{marker}' nos níveis acima.\")\n",
    "\n",
    "ROOT = add_project_root()\n",
    "print('Repo root:', ROOT)"
   ]
  },
  {
   "cell_type": "code",
   "execution_count": 2,
   "id": "dccac0a2",
   "metadata": {},
   "outputs": [],
   "source": [
    "import pandas as pd\n",
    "import numpy as np\n",
    "import matplotlib.pyplot as plt\n",
    "from pathlib import Path\n",
    "from typing import Optional\n",
    "try:\n",
    "    from src.eda.skim import skim_numeric, skim_categorical\n",
    "    SKIM_OK = True\n",
    "except Exception as e:\n",
    "    SKIM_OK = False\n",
    "    print('Aviso: não foi possível importar skim_numeric/skim_categorical. Erro:', e)\n",
    "    print('Verifique se existem src/eda/skim.py e __init__.py nos diretórios src/ e src/eda/.')"
   ]
  },
  {
   "cell_type": "code",
   "execution_count": 3,
   "id": "9f539f82",
   "metadata": {},
   "outputs": [
    {
     "name": "stdout",
     "output_type": "stream",
     "text": [
      "Shape: (569, 31)\n"
     ]
    },
    {
     "data": {
      "application/vnd.microsoft.datawrangler.viewer.v0+json": {
       "columns": [
        {
         "name": "index",
         "rawType": "int64",
         "type": "integer"
        },
        {
         "name": "mean_radius",
         "rawType": "float64",
         "type": "float"
        },
        {
         "name": "mean_texture",
         "rawType": "float64",
         "type": "float"
        },
        {
         "name": "mean_perimeter",
         "rawType": "float64",
         "type": "float"
        },
        {
         "name": "mean_area",
         "rawType": "float64",
         "type": "float"
        },
        {
         "name": "mean_smoothness",
         "rawType": "float64",
         "type": "float"
        },
        {
         "name": "mean_compactness",
         "rawType": "float64",
         "type": "float"
        },
        {
         "name": "mean_concavity",
         "rawType": "float64",
         "type": "float"
        },
        {
         "name": "mean_concave_points",
         "rawType": "float64",
         "type": "float"
        },
        {
         "name": "mean_symmetry",
         "rawType": "float64",
         "type": "float"
        },
        {
         "name": "mean_fractal_dimension",
         "rawType": "float64",
         "type": "float"
        },
        {
         "name": "radius_error",
         "rawType": "float64",
         "type": "float"
        },
        {
         "name": "texture_error",
         "rawType": "float64",
         "type": "float"
        },
        {
         "name": "perimeter_error",
         "rawType": "float64",
         "type": "float"
        },
        {
         "name": "area_error",
         "rawType": "float64",
         "type": "float"
        },
        {
         "name": "smoothness_error",
         "rawType": "float64",
         "type": "float"
        },
        {
         "name": "compactness_error",
         "rawType": "float64",
         "type": "float"
        },
        {
         "name": "concavity_error",
         "rawType": "float64",
         "type": "float"
        },
        {
         "name": "concave_points_error",
         "rawType": "float64",
         "type": "float"
        },
        {
         "name": "symmetry_error",
         "rawType": "float64",
         "type": "float"
        },
        {
         "name": "fractal_dimension_error",
         "rawType": "float64",
         "type": "float"
        },
        {
         "name": "worst_radius",
         "rawType": "float64",
         "type": "float"
        },
        {
         "name": "worst_texture",
         "rawType": "float64",
         "type": "float"
        },
        {
         "name": "worst_perimeter",
         "rawType": "float64",
         "type": "float"
        },
        {
         "name": "worst_area",
         "rawType": "float64",
         "type": "float"
        },
        {
         "name": "worst_smoothness",
         "rawType": "float64",
         "type": "float"
        },
        {
         "name": "worst_compactness",
         "rawType": "float64",
         "type": "float"
        },
        {
         "name": "worst_concavity",
         "rawType": "float64",
         "type": "float"
        },
        {
         "name": "worst_concave_points",
         "rawType": "float64",
         "type": "float"
        },
        {
         "name": "worst_symmetry",
         "rawType": "float64",
         "type": "float"
        },
        {
         "name": "worst_fractal_dimension",
         "rawType": "float64",
         "type": "float"
        },
        {
         "name": "diagnosis",
         "rawType": "object",
         "type": "string"
        }
       ],
       "ref": "630ded8f-1f53-418f-bb6e-40d0deb036c6",
       "rows": [
        [
         "0",
         "17.99",
         "10.38",
         "122.8",
         "1001.0",
         "0.1184",
         "0.2776",
         "0.3001",
         "0.1471",
         "0.2419",
         "0.07871",
         "1.095",
         "0.9053",
         "8.589",
         "153.4",
         "0.006399",
         "0.04904",
         "0.05373",
         "0.01587",
         "0.03003",
         "0.006193",
         "25.38",
         "17.33",
         "184.6",
         "2019.0",
         "0.1622",
         "0.6656",
         "0.7119",
         "0.2654",
         "0.4601",
         "0.1189",
         "Maligno"
        ],
        [
         "1",
         "20.57",
         "17.77",
         "132.9",
         "1326.0",
         "0.08474",
         "0.07864",
         "0.0869",
         "0.07017",
         "0.1812",
         "0.05667",
         "0.5435",
         "0.7339",
         "3.398",
         "74.08",
         "0.005225",
         "0.01308",
         "0.0186",
         "0.0134",
         "0.01389",
         "0.003532",
         "24.99",
         "23.41",
         "158.8",
         "1956.0",
         "0.1238",
         "0.1866",
         "0.2416",
         "0.186",
         "0.275",
         "0.08902",
         "Maligno"
        ],
        [
         "2",
         "19.69",
         "21.25",
         "130.0",
         "1203.0",
         "0.1096",
         "0.1599",
         "0.1974",
         "0.1279",
         "0.2069",
         "0.05999",
         "0.7456",
         "0.7869",
         "4.585",
         "94.03",
         "0.00615",
         "0.04006",
         "0.03832",
         "0.02058",
         "0.0225",
         "0.004571",
         "23.57",
         "25.53",
         "152.5",
         "1709.0",
         "0.1444",
         "0.4245",
         "0.4504",
         "0.243",
         "0.3613",
         "0.08758",
         "Maligno"
        ],
        [
         "3",
         "11.42",
         "20.38",
         "77.58",
         "386.1",
         "0.1425",
         "0.2839",
         "0.2414",
         "0.1052",
         "0.2597",
         "0.09744",
         "0.4956",
         "1.156",
         "3.445",
         "27.23",
         "0.00911",
         "0.07458",
         "0.05661",
         "0.01867",
         "0.05963",
         "0.009208",
         "14.91",
         "26.5",
         "98.87",
         "567.7",
         "0.2098",
         "0.8663",
         "0.6869",
         "0.2575",
         "0.6638",
         "0.173",
         "Maligno"
        ],
        [
         "4",
         "20.29",
         "14.34",
         "135.1",
         "1297.0",
         "0.1003",
         "0.1328",
         "0.198",
         "0.1043",
         "0.1809",
         "0.05883",
         "0.7572",
         "0.7813",
         "5.438",
         "94.44",
         "0.01149",
         "0.02461",
         "0.05688",
         "0.01885",
         "0.01756",
         "0.005115",
         "22.54",
         "16.67",
         "152.2",
         "1575.0",
         "0.1374",
         "0.205",
         "0.4",
         "0.1625",
         "0.2364",
         "0.07678",
         "Maligno"
        ]
       ],
       "shape": {
        "columns": 31,
        "rows": 5
       }
      },
      "text/html": [
       "<div>\n",
       "<style scoped>\n",
       "    .dataframe tbody tr th:only-of-type {\n",
       "        vertical-align: middle;\n",
       "    }\n",
       "\n",
       "    .dataframe tbody tr th {\n",
       "        vertical-align: top;\n",
       "    }\n",
       "\n",
       "    .dataframe thead th {\n",
       "        text-align: right;\n",
       "    }\n",
       "</style>\n",
       "<table border=\"1\" class=\"dataframe\">\n",
       "  <thead>\n",
       "    <tr style=\"text-align: right;\">\n",
       "      <th></th>\n",
       "      <th>mean_radius</th>\n",
       "      <th>mean_texture</th>\n",
       "      <th>mean_perimeter</th>\n",
       "      <th>mean_area</th>\n",
       "      <th>mean_smoothness</th>\n",
       "      <th>mean_compactness</th>\n",
       "      <th>mean_concavity</th>\n",
       "      <th>mean_concave_points</th>\n",
       "      <th>mean_symmetry</th>\n",
       "      <th>mean_fractal_dimension</th>\n",
       "      <th>...</th>\n",
       "      <th>worst_texture</th>\n",
       "      <th>worst_perimeter</th>\n",
       "      <th>worst_area</th>\n",
       "      <th>worst_smoothness</th>\n",
       "      <th>worst_compactness</th>\n",
       "      <th>worst_concavity</th>\n",
       "      <th>worst_concave_points</th>\n",
       "      <th>worst_symmetry</th>\n",
       "      <th>worst_fractal_dimension</th>\n",
       "      <th>diagnosis</th>\n",
       "    </tr>\n",
       "  </thead>\n",
       "  <tbody>\n",
       "    <tr>\n",
       "      <th>0</th>\n",
       "      <td>17.99</td>\n",
       "      <td>10.38</td>\n",
       "      <td>122.80</td>\n",
       "      <td>1001.0</td>\n",
       "      <td>0.11840</td>\n",
       "      <td>0.27760</td>\n",
       "      <td>0.3001</td>\n",
       "      <td>0.14710</td>\n",
       "      <td>0.2419</td>\n",
       "      <td>0.07871</td>\n",
       "      <td>...</td>\n",
       "      <td>17.33</td>\n",
       "      <td>184.60</td>\n",
       "      <td>2019.0</td>\n",
       "      <td>0.1622</td>\n",
       "      <td>0.6656</td>\n",
       "      <td>0.7119</td>\n",
       "      <td>0.2654</td>\n",
       "      <td>0.4601</td>\n",
       "      <td>0.11890</td>\n",
       "      <td>Maligno</td>\n",
       "    </tr>\n",
       "    <tr>\n",
       "      <th>1</th>\n",
       "      <td>20.57</td>\n",
       "      <td>17.77</td>\n",
       "      <td>132.90</td>\n",
       "      <td>1326.0</td>\n",
       "      <td>0.08474</td>\n",
       "      <td>0.07864</td>\n",
       "      <td>0.0869</td>\n",
       "      <td>0.07017</td>\n",
       "      <td>0.1812</td>\n",
       "      <td>0.05667</td>\n",
       "      <td>...</td>\n",
       "      <td>23.41</td>\n",
       "      <td>158.80</td>\n",
       "      <td>1956.0</td>\n",
       "      <td>0.1238</td>\n",
       "      <td>0.1866</td>\n",
       "      <td>0.2416</td>\n",
       "      <td>0.1860</td>\n",
       "      <td>0.2750</td>\n",
       "      <td>0.08902</td>\n",
       "      <td>Maligno</td>\n",
       "    </tr>\n",
       "    <tr>\n",
       "      <th>2</th>\n",
       "      <td>19.69</td>\n",
       "      <td>21.25</td>\n",
       "      <td>130.00</td>\n",
       "      <td>1203.0</td>\n",
       "      <td>0.10960</td>\n",
       "      <td>0.15990</td>\n",
       "      <td>0.1974</td>\n",
       "      <td>0.12790</td>\n",
       "      <td>0.2069</td>\n",
       "      <td>0.05999</td>\n",
       "      <td>...</td>\n",
       "      <td>25.53</td>\n",
       "      <td>152.50</td>\n",
       "      <td>1709.0</td>\n",
       "      <td>0.1444</td>\n",
       "      <td>0.4245</td>\n",
       "      <td>0.4504</td>\n",
       "      <td>0.2430</td>\n",
       "      <td>0.3613</td>\n",
       "      <td>0.08758</td>\n",
       "      <td>Maligno</td>\n",
       "    </tr>\n",
       "    <tr>\n",
       "      <th>3</th>\n",
       "      <td>11.42</td>\n",
       "      <td>20.38</td>\n",
       "      <td>77.58</td>\n",
       "      <td>386.1</td>\n",
       "      <td>0.14250</td>\n",
       "      <td>0.28390</td>\n",
       "      <td>0.2414</td>\n",
       "      <td>0.10520</td>\n",
       "      <td>0.2597</td>\n",
       "      <td>0.09744</td>\n",
       "      <td>...</td>\n",
       "      <td>26.50</td>\n",
       "      <td>98.87</td>\n",
       "      <td>567.7</td>\n",
       "      <td>0.2098</td>\n",
       "      <td>0.8663</td>\n",
       "      <td>0.6869</td>\n",
       "      <td>0.2575</td>\n",
       "      <td>0.6638</td>\n",
       "      <td>0.17300</td>\n",
       "      <td>Maligno</td>\n",
       "    </tr>\n",
       "    <tr>\n",
       "      <th>4</th>\n",
       "      <td>20.29</td>\n",
       "      <td>14.34</td>\n",
       "      <td>135.10</td>\n",
       "      <td>1297.0</td>\n",
       "      <td>0.10030</td>\n",
       "      <td>0.13280</td>\n",
       "      <td>0.1980</td>\n",
       "      <td>0.10430</td>\n",
       "      <td>0.1809</td>\n",
       "      <td>0.05883</td>\n",
       "      <td>...</td>\n",
       "      <td>16.67</td>\n",
       "      <td>152.20</td>\n",
       "      <td>1575.0</td>\n",
       "      <td>0.1374</td>\n",
       "      <td>0.2050</td>\n",
       "      <td>0.4000</td>\n",
       "      <td>0.1625</td>\n",
       "      <td>0.2364</td>\n",
       "      <td>0.07678</td>\n",
       "      <td>Maligno</td>\n",
       "    </tr>\n",
       "  </tbody>\n",
       "</table>\n",
       "<p>5 rows × 31 columns</p>\n",
       "</div>"
      ],
      "text/plain": [
       "   mean_radius  mean_texture  mean_perimeter  mean_area  mean_smoothness  \\\n",
       "0        17.99         10.38          122.80     1001.0          0.11840   \n",
       "1        20.57         17.77          132.90     1326.0          0.08474   \n",
       "2        19.69         21.25          130.00     1203.0          0.10960   \n",
       "3        11.42         20.38           77.58      386.1          0.14250   \n",
       "4        20.29         14.34          135.10     1297.0          0.10030   \n",
       "\n",
       "   mean_compactness  mean_concavity  mean_concave_points  mean_symmetry  \\\n",
       "0           0.27760          0.3001              0.14710         0.2419   \n",
       "1           0.07864          0.0869              0.07017         0.1812   \n",
       "2           0.15990          0.1974              0.12790         0.2069   \n",
       "3           0.28390          0.2414              0.10520         0.2597   \n",
       "4           0.13280          0.1980              0.10430         0.1809   \n",
       "\n",
       "   mean_fractal_dimension  ...  worst_texture  worst_perimeter  worst_area  \\\n",
       "0                 0.07871  ...          17.33           184.60      2019.0   \n",
       "1                 0.05667  ...          23.41           158.80      1956.0   \n",
       "2                 0.05999  ...          25.53           152.50      1709.0   \n",
       "3                 0.09744  ...          26.50            98.87       567.7   \n",
       "4                 0.05883  ...          16.67           152.20      1575.0   \n",
       "\n",
       "   worst_smoothness  worst_compactness  worst_concavity  worst_concave_points  \\\n",
       "0            0.1622             0.6656           0.7119                0.2654   \n",
       "1            0.1238             0.1866           0.2416                0.1860   \n",
       "2            0.1444             0.4245           0.4504                0.2430   \n",
       "3            0.2098             0.8663           0.6869                0.2575   \n",
       "4            0.1374             0.2050           0.4000                0.1625   \n",
       "\n",
       "   worst_symmetry  worst_fractal_dimension  diagnosis  \n",
       "0          0.4601                  0.11890    Maligno  \n",
       "1          0.2750                  0.08902    Maligno  \n",
       "2          0.3613                  0.08758    Maligno  \n",
       "3          0.6638                  0.17300    Maligno  \n",
       "4          0.2364                  0.07678    Maligno  \n",
       "\n",
       "[5 rows x 31 columns]"
      ]
     },
     "execution_count": 3,
     "metadata": {},
     "output_type": "execute_result"
    }
   ],
   "source": [
    "# Importa a função diretamente\n",
    "from src.data.make_wdbc_dataset import build_wdbc\n",
    "\n",
    "# Define o caminho para o arquivo de dados\n",
    "DATA_PATH = ROOT / \"data\" / \"wdbc.csv\"\n",
    "\n",
    "# Garante que o diretório 'data' exista\n",
    "DATA_PATH.parent.mkdir(parents=True, exist_ok=True)\n",
    "\n",
    "# Verifica se o arquivo já existe\n",
    "if not DATA_PATH.exists():\n",
    "    print(f\"Arquivo não encontrado em {DATA_PATH}. Gerando via função build_wdbc...\")\n",
    "    try:\n",
    "        # Chama a função diretamente\n",
    "        build_wdbc(DATA_PATH)\n",
    "        print(f\"Arquivo gerado e salvo em {DATA_PATH}\")\n",
    "    except Exception as e:\n",
    "        print(\"Falha ao rodar o módulo CLI; gerando via sklearn. Erro:\", e)\n",
    "        from sklearn.datasets import load_breast_cancer\n",
    "        cancer = load_breast_cancer()\n",
    "        df_tmp = pd.DataFrame(\n",
    "            cancer[\"data\"],\n",
    "            columns=[c.replace(\" \", \"_\") for c in cancer[\"feature_names\"]]\n",
    "        )\n",
    "        target = pd.Categorical.from_codes(cancer[\"target\"], cancer[\"target_names\"])\n",
    "        target = target.rename_categories({\"malignant\": \"Maligno\", \"benign\": \"Benigno\"})\n",
    "        df_tmp[\"diagnosis\"] = target.astype(str)\n",
    "        df_tmp.to_csv(DATA_PATH, index=False)\n",
    "        print(\"Gerado e salvo em\", DATA_PATH)\n",
    "\n",
    "# Se chegou até aqui, o arquivo deve existir. Carrega o DataFrame.\n",
    "df = pd.read_csv(DATA_PATH)\n",
    "print(\"Shape:\", df.shape)\n",
    "df.head()"
   ]
  },
  {
   "cell_type": "markdown",
   "id": "32bb1fc8",
   "metadata": {},
   "source": [
    "## ⚖️ Balanceamento da variável-alvo (`diagnosis`)"
   ]
  },
  {
   "cell_type": "code",
   "execution_count": 4,
   "id": "a4c5d13d",
   "metadata": {},
   "outputs": [
    {
     "name": "stdout",
     "output_type": "stream",
     "text": [
      "diagnosis\n",
      "Benigno    357\n",
      "Maligno    212\n",
      "Name: count, dtype: int64\n"
     ]
    },
    {
     "data": {
      "image/png": "[encoded data removed]",
      "text/plain": [
       "<Figure size 640x480 with 1 Axes>"
      ]
     },
     "metadata": {},
     "output_type": "display_data"
    }
   ],
   "source": [
    "if 'diagnosis' in df.columns:\n",
    "    vc = df['diagnosis'].value_counts(dropna=False)\n",
    "    print(vc)\n",
    "    fig = plt.figure()\n",
    "    plt.bar(vc.index.astype(str), vc.values)\n",
    "    plt.title('Distribuição da variável-alvo: diagnosis')\n",
    "    plt.xlabel('Classe')\n",
    "    plt.ylabel('Contagem')\n",
    "    for i, v in enumerate(vc.values):\n",
    "        plt.text(i, v, str(v), ha='center', va='bottom')\n",
    "    plt.show()\n",
    "else:\n",
    "    print('Coluna diagnosis não encontrada.')"
   ]
  },
  {
   "cell_type": "code",
   "execution_count": 9,
   "id": "d5a01b88",
   "metadata": {},
   "outputs": [
    {
     "name": "stdout",
     "output_type": "stream",
     "text": [
      " variable  miss  ordered  n_unique           top_counts\n",
      "diagnosis     0    False         2 Beni: 357, Mali: 212\n"
     ]
    }
   ],
   "source": [
    "skim_cat = skim_categorical(df)\n",
    "print(skim_cat.to_string(index=False))"
   ]
  },
  {
   "cell_type": "markdown",
   "id": "fd3486b5",
   "metadata": {},
   "source": [
    "## 🔎 Resumo estatístico das variáveis numéricas"
   ]
  },
  {
   "cell_type": "code",
   "execution_count": null,
   "id": "1b7679f2",
   "metadata": {},
   "outputs": [
    {
     "name": "stdout",
     "output_type": "stream",
     "text": [
      "               variable  miss  p_zeros  unique    mean      sd    CV      p0     p25     p50      p75     p100     IQR  hist  skew   kurt\n",
      "            mean_radius     0   0.0000     456  14.127   3.524 0.249   6.981  11.700  13.370   15.780   28.110   4.080 ▃█▃▂▁ 0.940  0.828\n",
      "           mean_texture     0   0.0000     479  19.290   4.301 0.223   9.710  16.170  18.840   21.800   39.280   5.630 ▃█▄▁▁ 0.649  0.741\n",
      "         mean_perimeter     0   0.0000     522  91.969  24.299 0.264  43.790  75.170  86.240  104.100  188.500  28.930 ▃█▃▁▁ 0.988  0.953\n",
      "              mean_area     0   0.0000     539 654.889 351.914 0.537 143.500 420.300 551.100  782.700 2501.000 362.400 █▄▂▁▁ 1.641  3.610\n",
      "        mean_smoothness     0   0.0000     474   0.096   0.014 0.146   0.053   0.086   0.096    0.105    0.163   0.019 ▁█▇▁▁ 0.455  0.838\n",
      "       mean_compactness     0   0.0000     537   0.104   0.053 0.506   0.019   0.065   0.093    0.130    0.345   0.065 █▇▃▁▁ 1.187  1.625\n",
      "         mean_concavity     0   0.0228     537   0.089   0.080 0.898   0.000   0.030   0.062    0.131    0.427   0.101 █▄▂▁▁ 1.397  1.971\n",
      "    mean_concave_points     0   0.0228     542   0.049   0.039 0.793   0.000   0.020   0.034    0.074    0.201   0.054 █▃▂▁▁ 1.168  1.047\n",
      "          mean_symmetry     0   0.0000     432   0.181   0.027 0.151   0.106   0.162   0.179    0.196    0.304   0.034 ▁█▅▁▁ 0.724  1.266\n",
      " mean_fractal_dimension     0   0.0000     499   0.063   0.007 0.112   0.050   0.058   0.062    0.066    0.097   0.008 ▆█▂▁▁ 1.301  2.969\n",
      "           radius_error     0   0.0000     540   0.405   0.277 0.684   0.112   0.232   0.324    0.479    2.873   0.246 █▁▁▁▁ 3.080 17.521\n",
      "          texture_error     0   0.0000     519   1.217   0.552 0.453   0.360   0.834   1.108    1.474    4.885   0.640 █▄▁▁▁ 1.642  5.292\n",
      "        perimeter_error     0   0.0000     533   2.866   2.022 0.705   0.757   1.606   2.287    3.357   21.980   1.751 █▁▁▁▁ 3.435 21.204\n",
      "             area_error     0   0.0000     528  40.337  45.491 1.128   6.802  17.850  24.530   45.190  542.200  27.340 █▁▁▁▁ 5.433 48.767\n",
      "       smoothness_error     0   0.0000     547   0.007   0.003 0.426   0.002   0.005   0.006    0.008    0.031   0.003 █▃▁▁▁ 2.308 10.368\n",
      "      compactness_error     0   0.0000     541   0.025   0.018 0.703   0.002   0.013   0.020    0.032    0.135   0.019 █▃▁▁▁ 1.897  5.051\n",
      "        concavity_error     0   0.0228     533   0.032   0.030 0.946   0.000   0.015   0.026    0.042    0.396   0.027 █▁▁▁▁ 5.097 48.423\n",
      "   concave_points_error     0   0.0228     507   0.012   0.006 0.523   0.000   0.008   0.011    0.015    0.053   0.007 █▇▁▁▁ 1.441  5.071\n",
      "         symmetry_error     0   0.0000     498   0.021   0.008 0.402   0.008   0.015   0.019    0.023    0.079   0.008 █▃▁▁▁ 2.189  7.816\n",
      "fractal_dimension_error     0   0.0000     545   0.004   0.003 0.697   0.001   0.002   0.003    0.005    0.030   0.002 █▁▁▁▁ 3.914 26.040\n",
      "           worst_radius     0   0.0000     457  16.269   4.833 0.297   7.930  13.010  14.970   18.790   36.040   5.780 ▆█▃▁▁ 1.100  0.925\n",
      "          worst_texture     0   0.0000     511  25.677   6.146 0.239  12.020  21.080  25.410   29.720   49.540   8.640 ▃█▅▂▁ 0.497  0.212\n",
      "        worst_perimeter     0   0.0000     514 107.261  33.603 0.313  50.410  84.110  97.660  125.400  251.200  41.290 ▇█▃▁▁ 1.125  1.050\n",
      "             worst_area     0   0.0000     544 880.583 569.357 0.647 185.200 515.300 686.500 1084.000 4254.000 568.700 █▂▁▁▁ 1.854  4.347\n",
      "       worst_smoothness     0   0.0000     411   0.132   0.023 0.172   0.071   0.117   0.131    0.146    0.223   0.029 ▂█▇▂▁ 0.414  0.503\n",
      "      worst_compactness     0   0.0000     529   0.254   0.157 0.619   0.027   0.147   0.212    0.339    1.058   0.192 █▅▁▁▁ 1.470  3.002\n",
      "        worst_concavity     0   0.0228     539   0.272   0.209 0.766   0.000   0.114   0.227    0.383    1.252   0.268 █▅▂▁▁ 1.147  1.591\n",
      "   worst_concave_points     0   0.0228     492   0.115   0.066 0.574   0.000   0.065   0.100    0.161    0.291   0.096 ▄█▄▃▂ 0.491 -0.541\n",
      "         worst_symmetry     0   0.0000     500   0.290   0.062 0.213   0.156   0.250   0.282    0.318    0.664   0.068 ▄█▁▁▁ 1.430  4.395\n",
      "worst_fractal_dimension     0   0.0000     535   0.084   0.018 0.215   0.055   0.071   0.080    0.092    0.208   0.021 █▄▁▁▁ 1.658  5.188\n"
     ]
    }
   ],
   "source": [
    "skim_num = skim_numeric(df)\n",
    "print(skim_num.to_string(index=False))"
   ]
  },
  {
   "cell_type": "markdown",
   "id": "5222dc48",
   "metadata": {},
   "source": [
    "## 🔗 Correlações (numéricas)"
   ]
  },
  {
   "cell_type": "code",
   "execution_count": null,
   "id": "e5ebd946",
   "metadata": {},
   "outputs": [
    {
     "name": "stdout",
     "output_type": "stream",
     "text": [
      "                  feat1                 feat2  abs_corr\n",
      "0           mean_radius             mean_area  0.999602\n",
      "1          worst_radius            worst_area  0.998891\n",
      "2           mean_radius        mean_perimeter  0.997802\n",
      "3        mean_perimeter             mean_area  0.997068\n",
      "4          worst_radius       worst_perimeter  0.993548\n",
      "5       worst_perimeter            worst_area  0.992433\n",
      "6        mean_perimeter          worst_radius  0.981244\n",
      "7        mean_perimeter            worst_area  0.980864\n",
      "8             mean_area            worst_area  0.980264\n",
      "9             mean_area          worst_radius  0.979258\n",
      "10       mean_perimeter       worst_perimeter  0.978980\n",
      "11          mean_radius            worst_area  0.978863\n",
      "12          mean_radius          worst_radius  0.978604\n",
      "13            mean_area       worst_perimeter  0.971822\n",
      "14          mean_radius       worst_perimeter  0.971555\n",
      "15         radius_error       perimeter_error  0.957728\n",
      "16         radius_error            area_error  0.952867\n",
      "17       mean_concavity       worst_concavity  0.938543\n",
      "18  mean_concave_points  worst_concave_points  0.937075\n",
      "19       mean_concavity   mean_concave_points  0.927352\n"
     ]
    }
   ],
   "source": [
    "\n",
    "# Correlação de Spearman\n",
    "df_corr = df.drop(columns=[\"diagnosis\"])\n",
    "corr = df_corr.corr(numeric_only=True, method=\"spearman\").abs()\n",
    "\n",
    "# Pegar só metade superior da matriz e listar top pares\n",
    "upper = corr.where(np.triu(np.ones(corr.shape), k=1).astype(bool))\n",
    "top_pairs = (\n",
    "    upper.stack()\n",
    "         .sort_values(ascending=False)\n",
    "         .reset_index()\n",
    "         .rename(columns={\"level_0\":\"feat1\",\"level_1\":\"feat2\",0:\"abs_corr\"})\n",
    ")\n",
    "\n",
    "print(top_pairs.head(20))\n"
   ]
  },
  {
   "cell_type": "markdown",
   "id": "fb81ca5e",
   "metadata": {},
   "source": [
    "## Interpretações pós-EDA (após *skim* e correlação)\n",
    "\n",
    "### 1) Valores ausentes\n",
    "- Pelo `skim_numeric`, **`miss = 0` em todas as colunas** ⇒ não há NAs a tratar agora.\n",
    "- Mesmo assim, manteremos **imputer mediano** no pipeline para robustez (dados futuros/produção podem vir com faltantes).\n",
    "\n",
    "### 2) Distribuição dos dados (assimetria e caudas)\n",
    "- Observamos diversas variáveis com **assimetria à direita** e **curtose alta** (ex.: `area_error` com *skew* ≈ 5,4 e *kurt* ≈ 48,8; `perimeter_error` com *skew* ≈ 3,4 e *kurt* ≈ 21,2; padrão comum nos sufixos `_error`).\n",
    "- Há **massa próxima de zero** em medidas como `concavity_error` e `concave_points_error` (pequena proporção de zeros, `p_zeros` ≈ 0,02–0,03).\n",
    "- Conclusão: os dados **não são gaussianos** e apresentam **caudas pesadas/outliers** em algumas métricas.\n",
    "\n",
    "### 3) Precisamos transformar? Depende do modelo\n",
    "- **Regressão Logística (LR)**  \n",
    "  - É sensível à **escala**, **outliers** e **multicolinearidade**.  \n",
    "  - Usaremos **padronização + transformação de potência (Yeo–Johnson)**, que reduz *skew* e já padroniza (média≈0, var≈1).  \n",
    "  - Aplicaremos **regularização** (L2/ElasticNet) para lidar com colinearidade (muitas variáveis correlacionadas, como `radius`/`perimeter`/`area` e versões `worst_*`).  \n",
    "  - Ajustaremos **`class_weight='balanced'`** e o **limiar de decisão** visando melhor Recall/ROC-AUC/PR-AUC.\n",
    "- **Random Forest (bagging)**  \n",
    "  - **Dispensa normalização/transformação**; lida bem com *skew* e outliers.  \n",
    "  - Transformações ficam **opcionais**. Focaremos em `n_estimators`, `max_depth`, `max_features` e `class_weight`.\n",
    "- **XGBoost (boosting)**  \n",
    "  - Também **não exige escala**, mas podemos **testar** reduzir *skew* extremo (ex.: `log1p`/Yeo–Johnson) em algumas variáveis.  \n",
    "  - Usaremos **`scale_pos_weight ≈ negativos/positivos`** para o desbalanceamento, **learning_rate** baixo e **early_stopping**.\n",
    "\n",
    "> Decisão prática: **aplicaremos Yeo–Johnson/standardize apenas no pipeline da LR**. Em RF/XGB, usaremos **imputação** e, no XGB, opcionalmente testaremos uma versão com transformação.\n",
    "\n",
    "---\n",
    "\n",
    "## Variável-alvo e distribuição de classes\n",
    "\n",
    "- **Alvo:** `diagnosis` (binária) com **Benigno** e **Maligno**.\n",
    "- **Ausentes:** 0.\n",
    "- **Distribuição observada:** Benigno = **357** (~**62,8%**), Maligno = **212** (~**37,2%**).  \n",
    "  Desbalanceamento **moderado** (não extremo).\n",
    "\n",
    "### Convenção (importante)\n",
    "Trataremos **Maligno como classe positiva (1)** por ser o evento de interesse clínico.\n",
    "\n",
    "### Métricas-alvo\n",
    "Para o contexto de saúde, priorizaremos **Recall/Sensibilidade da classe Maligno** (minimizar falsos negativos), acompanhando de:\n",
    "- **ROC-AUC** e **PR-AUC (Average Precision)**;\n",
    "- **F1** (ou **Fβ** com β>1, se quisermos pesar ainda mais o Recall).\n"
   ]
  },
  {
   "cell_type": "markdown",
   "id": "2b3b3802",
   "metadata": {},
   "source": [
    "## ➡️ Próximos Passos\n",
    "- Engineering de atributos e padronização/normalização (pipeline `src/features/build_features.py`)\n",
    "- Divisão treino/val/test (`src/data/split.py`)\n",
    "- Treinamento e comparação de modelos (`src/models/train.py`, `src/models/evaluate.py`)\n",
    "- Exportar artefatos para `models/` e disponibilizar predição via API FastAPI"
   ]
  }
 ],
 "metadata": {
  "kernelspec": {
   "display_name": "venv",
   "language": "python",
   "name": "python3"
  },
  "language_info": {
   "codemirror_mode": {
    "name": "ipython",
    "version": 3
   },
   "file_extension": ".py",
   "mimetype": "text/x-python",
   "name": "python",
   "nbconvert_exporter": "python",
   "pygments_lexer": "ipython3",
   "version": "3.10.12"
  }
 },
 "nbformat": 4,
 "nbformat_minor": 5
}
